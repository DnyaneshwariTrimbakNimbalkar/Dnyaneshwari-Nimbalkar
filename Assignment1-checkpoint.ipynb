{
 "cells": [
  {
   "cell_type": "code",
   "execution_count": 1,
   "id": "bec3cbaa-9111-452a-83be-7b76faa4a54a",
   "metadata": {},
   "outputs": [],
   "source": [
    "## Q1.  Write a rogram to convert specified days into years,weeks and days.\n",
    "##  Take \n",
    "##  user input.\n",
    "##  Note: ignore leap year"
   ]
  },
  {
   "cell_type": "code",
   "execution_count": 3,
   "id": "c5d9f970-441d-4dc3-826a-d433f1463bbd",
   "metadata": {},
   "outputs": [
    {
     "name": "stdin",
     "output_type": "stream",
     "text": [
      "Enter the  Days 400\n"
     ]
    },
    {
     "name": "stdout",
     "output_type": "stream",
     "text": [
      "conversion is 1 : 5.0 : 35\n"
     ]
    }
   ],
   "source": [
    "days = int(input('Enter the  Days'))\n",
    "Years = days // 365\n",
    "weeks = (days%365) / 7\n",
    "rem_days = days% 365\n",
    "print('conversion is',Years,':',weeks,':',rem_days)"
   ]
  },
  {
   "cell_type": "code",
   "execution_count": 9,
   "id": "4e4abc3e-9a77-4e05-a5a4-79c365eed268",
   "metadata": {},
   "outputs": [],
   "source": [
    "## Q2. Write a python program to input  basicpython salary of an empoyee and\n",
    "'''calculate its Gross salary according to following:\n",
    " Basic Salary <== 10000: HRA = 20%,DA = 80%\n",
    " Basic Salary <== 20000: HRA = 30%,DA = 90%\n",
    " Basic Salary > 20000: HRA = 35%,DA = 95% \n",
    "'''"
   ]
  },
  {
   "cell_type": "code",
   "execution_count": 25,
   "id": "efce29b9-9ecd-4fea-88c5-085a3729da05",
   "metadata": {},
   "outputs": [
    {
     "name": "stdin",
     "output_type": "stream",
     "text": [
      "Enter Basic Salary 250000\n"
     ]
    },
    {
     "name": "stdout",
     "output_type": "stream",
     "text": [
      "575000.0\n"
     ]
    }
   ],
   "source": [
    "Basic_Salary = int(input('Enter Basic Salary'))\n",
    "\n",
    "if Basic_Salary <= 10000:\n",
    " HRA=(Basic_Salary*20)/100\n",
    " DA=(Basic_Salary*80)/100\n",
    " gross_Salary=Basic_Salary + DA + HRA\n",
    " print(gross_Salary)\n",
    "    \n",
    "elif Basic_Salary <= 20000:\n",
    " HRA=(Basic_Salary*30)/100\n",
    " DA=(Basic_Salary*90)/100\n",
    " gross_Salary=Basic_Salary + DA + HRA\n",
    " print(gross_Salary)\n",
    "    \n",
    "else:\n",
    "    if Basic_Salary > 20000:\n",
    "        HRA=(Basic_Salary*35)/100\n",
    "        DA=(Basic_Salary*95)/100\n",
    "        gross_Salary=Basic_Salary + DA + HRA\n",
    "        print(gross_Salary)\n",
    "        "
   ]
  },
  {
   "cell_type": "code",
   "execution_count": 2,
   "id": "0079fbb2-382e-4f79-8d89-ffcd8382e24c",
   "metadata": {},
   "outputs": [
    {
     "name": "stdin",
     "output_type": "stream",
     "text": [
      "Enter the number of units: 255\n"
     ]
    },
    {
     "name": "stdout",
     "output_type": "stream",
     "text": [
      "You're total bill is: 272.025\n"
     ]
    }
   ],
   "source": [
    "## Q3  Write a python program to input electricity unit charges and calculate total\n",
    "''' electricity bill according to the given condiktion:\n",
    "## For first 50 units Rs. 0.50/unit\n",
    "## For next 100 units Rs. 0.75/unit\n",
    "## For next 100 units Rs. 1.25/unit\n",
    "## For unit above 250 Rs. 1.50/unit\n",
    "## An additional surcharges of 17% is added to the bill\n",
    "'''\n",
    "\n",
    "units = float(input('Enter the number of units:'))\n",
    "if units <= 50:\n",
    "    bill = units*0.50 \n",
    "elif units <= 150:\n",
    "    bill = (50*0.50)+((units-50)*0.75)   \n",
    "elif units <=250:\n",
    "    bill = (50*0.50)+(100*0.75)+((units-150)*1.25)\n",
    "else:\n",
    "    bill = (50*0.50)+(100*0.75)+(100*1.25)+ ((units-250)*1.50)\n",
    "    charge =bill*0.17\n",
    "    Total_Bill = bill + charge\n",
    "    print(\"You're total bill is:\",Total_Bill)\n",
    "    \n",
    "    \n",
    "        "
   ]
  },
  {
   "cell_type": "code",
   "execution_count": null,
   "id": "ede2b3f5-59ae-4186-a456-f3b85ea9aead",
   "metadata": {},
   "outputs": [],
   "source": []
  },
  {
   "cell_type": "code",
   "execution_count": 2,
   "id": "5b52ebb9-4778-47c5-b06d-f013743a04b9",
   "metadata": {},
   "outputs": [
    {
     "name": "stdin",
     "output_type": "stream",
     "text": [
      "Enter the number of rows 5\n"
     ]
    },
    {
     "name": "stdout",
     "output_type": "stream",
     "text": [
      "1\n",
      "22\n",
      "333\n",
      "4444\n",
      "55555\n"
     ]
    }
   ],
   "source": [
    "## Q4. Write a python program to print the given number patterns.\n",
    "'''\n",
    "1\n",
    "2 2\n",
    "3 3 3\n",
    "4 4 4 4\n",
    "5 5 5 5 5\n",
    "'''\n",
    "row = int(input('Enter the number of rows'))\n",
    "\n",
    "for i in range(row):\n",
    "    for j in range(i+1):\n",
    "        print(i+1, end ='')\n",
    "    print()\n",
    "    \n"
   ]
  },
  {
   "cell_type": "code",
   "execution_count": 30,
   "id": "a00bcf99-bdab-420c-8921-7c03884687a8",
   "metadata": {},
   "outputs": [
    {
     "name": "stdin",
     "output_type": "stream",
     "text": [
      "Enter the number 12345\n"
     ]
    },
    {
     "name": "stdout",
     "output_type": "stream",
     "text": [
      "Addition of digits is: 5\n",
      "Addition of digits is: 20\n",
      "Addition of digits is: 60\n",
      "Addition of digits is: 120\n",
      "Addition of digits is: 120\n"
     ]
    }
   ],
   "source": [
    "## Q5. Write a python program to calculate product of digits of a number.Read\n",
    "## value of n from user\n",
    "\n",
    "num =int(input('Enter the number'))\n",
    "pod = 1\n",
    "while num > 0:\n",
    "    rem = num%10\n",
    "    pod =  pod*rem\n",
    "    num =  num//10\n",
    "    print('Addition of digits is:',pod)"
   ]
  },
  {
   "cell_type": "code",
   "execution_count": null,
   "id": "5a2fe189-3385-4537-a50c-594a82a1c537",
   "metadata": {},
   "outputs": [],
   "source": [
    "\n"
   ]
  },
  {
   "cell_type": "code",
   "execution_count": null,
   "id": "a71c7309-922d-4aee-8b36-ac9292f07908",
   "metadata": {},
   "outputs": [],
   "source": []
  },
  {
   "cell_type": "code",
   "execution_count": 36,
   "id": "5ae64d5d-9dee-4460-a1a6-2b2d67a69db6",
   "metadata": {},
   "outputs": [],
   "source": [
    "### Q7. Create a tuple of elements with 5 float values ikn it and perform following operations\n",
    "## 1. Print the data in sorted manner.\n",
    "## 2. Check to see that the elements 50 is present in it.\n",
    "## 3. Convert the tuple in set\n",
    "#  tuple create\n",
    "t=(1.5,2.5,0.5,8.5,5.5)\n"
   ]
  },
  {
   "cell_type": "code",
   "execution_count": 37,
   "id": "95b36f99-38c8-4c12-8611-3942dcea1788",
   "metadata": {},
   "outputs": [
    {
     "data": {
      "text/plain": [
       "(1.5, 2.5, 0.5, 8.5, 5.5)"
      ]
     },
     "execution_count": 37,
     "metadata": {},
     "output_type": "execute_result"
    }
   ],
   "source": [
    "t"
   ]
  },
  {
   "cell_type": "code",
   "execution_count": 38,
   "id": "3fc2d7ee-242b-4430-9766-eab14072bc58",
   "metadata": {},
   "outputs": [],
   "source": [
    "#1.\n",
    "t1 = list(t)"
   ]
  },
  {
   "cell_type": "code",
   "execution_count": 39,
   "id": "56cf01cf-fa47-4024-86f4-e860fe0a1c9f",
   "metadata": {},
   "outputs": [],
   "source": [
    "t1.sort()"
   ]
  },
  {
   "cell_type": "code",
   "execution_count": 40,
   "id": "cd946d2f-b319-4163-89c5-63c4cbc009fe",
   "metadata": {},
   "outputs": [
    {
     "data": {
      "text/plain": [
       "[0.5, 1.5, 2.5, 5.5, 8.5]"
      ]
     },
     "execution_count": 40,
     "metadata": {},
     "output_type": "execute_result"
    }
   ],
   "source": [
    "t1"
   ]
  },
  {
   "cell_type": "code",
   "execution_count": 42,
   "id": "7d197d03-b2b0-4fbe-9fba-7943557ee5b9",
   "metadata": {},
   "outputs": [
    {
     "data": {
      "text/plain": [
       "False"
      ]
     },
     "execution_count": 42,
     "metadata": {},
     "output_type": "execute_result"
    }
   ],
   "source": [
    "#2.\n",
    "50 in t1"
   ]
  },
  {
   "cell_type": "code",
   "execution_count": 43,
   "id": "771ca8a0-9256-4399-9538-23ede936171a",
   "metadata": {},
   "outputs": [],
   "source": [
    "#3.\n",
    "s = set(t)"
   ]
  },
  {
   "cell_type": "code",
   "execution_count": 44,
   "id": "b5b3fe7e-4312-41de-8e23-05bfd3998b10",
   "metadata": {},
   "outputs": [
    {
     "data": {
      "text/plain": [
       "{0.5, 1.5, 2.5, 5.5, 8.5}"
      ]
     },
     "execution_count": 44,
     "metadata": {},
     "output_type": "execute_result"
    }
   ],
   "source": [
    "s"
   ]
  },
  {
   "cell_type": "code",
   "execution_count": 48,
   "id": "57076559-2e5b-4144-9f1f-c7ed87d2327a",
   "metadata": {},
   "outputs": [],
   "source": [
    "''' Q8.\n",
    "create a dictionary of elements :{'a':'apple','b':'ball','c':'cat','d':'doll','k':'king'}and\n",
    "perform following operations\n",
    "1. Access the data at key 'k'\n",
    "2. Add a new values 'z':'zebra'\n",
    "3. Replace the contents of 'd' as 'dog'\n",
    "4. Print all the values from this dictionary\n",
    "5. Find the length of this dictionary\n",
    "'''\n",
    "\n",
    "# dictionary created\n",
    "d = {'a':'apple','b':'ball','c':'cat','d':'doll','k':'king'}"
   ]
  },
  {
   "cell_type": "code",
   "execution_count": 49,
   "id": "0dc00317-665e-44ef-a811-59d444962007",
   "metadata": {},
   "outputs": [
    {
     "data": {
      "text/plain": [
       "{'a': 'apple', 'b': 'ball', 'c': 'cat', 'd': 'doll', 'k': 'king'}"
      ]
     },
     "execution_count": 49,
     "metadata": {},
     "output_type": "execute_result"
    }
   ],
   "source": [
    "d"
   ]
  },
  {
   "cell_type": "code",
   "execution_count": 50,
   "id": "efac1a2d-27ae-418a-a7ad-40965a3bb66b",
   "metadata": {},
   "outputs": [
    {
     "data": {
      "text/plain": [
       "'king'"
      ]
     },
     "execution_count": 50,
     "metadata": {},
     "output_type": "execute_result"
    }
   ],
   "source": [
    "#1.\n",
    "d['k']"
   ]
  },
  {
   "cell_type": "code",
   "execution_count": 51,
   "id": "4629c2b1-7596-4717-afe0-df6491511a3d",
   "metadata": {},
   "outputs": [],
   "source": [
    "#2.\n",
    "d['z'] = 'zebra'"
   ]
  },
  {
   "cell_type": "code",
   "execution_count": 52,
   "id": "1d02dcdc-7fe0-4d52-8c1c-f3b96c9d2074",
   "metadata": {},
   "outputs": [
    {
     "data": {
      "text/plain": [
       "{'a': 'apple', 'b': 'ball', 'c': 'cat', 'd': 'doll', 'k': 'king', 'z': 'zebra'}"
      ]
     },
     "execution_count": 52,
     "metadata": {},
     "output_type": "execute_result"
    }
   ],
   "source": [
    "d"
   ]
  },
  {
   "cell_type": "code",
   "execution_count": 53,
   "id": "bb304161-b34b-4f2d-8ed6-b7ef7b73733f",
   "metadata": {},
   "outputs": [],
   "source": [
    "#3.\n",
    "d['d'] = 'dog'"
   ]
  },
  {
   "cell_type": "code",
   "execution_count": 54,
   "id": "b7ccf0ad-ad2c-4e56-bc12-9f25a0a80cd7",
   "metadata": {},
   "outputs": [
    {
     "data": {
      "text/plain": [
       "{'a': 'apple', 'b': 'ball', 'c': 'cat', 'd': 'dog', 'k': 'king', 'z': 'zebra'}"
      ]
     },
     "execution_count": 54,
     "metadata": {},
     "output_type": "execute_result"
    }
   ],
   "source": [
    "d"
   ]
  },
  {
   "cell_type": "code",
   "execution_count": 55,
   "id": "1600989f-1389-4607-8978-dac1e1a784b3",
   "metadata": {},
   "outputs": [
    {
     "data": {
      "text/plain": [
       "dict_values(['apple', 'ball', 'cat', 'dog', 'king', 'zebra'])"
      ]
     },
     "execution_count": 55,
     "metadata": {},
     "output_type": "execute_result"
    }
   ],
   "source": [
    "#4.\n",
    "d.values()"
   ]
  },
  {
   "cell_type": "code",
   "execution_count": 56,
   "id": "e95cd1a5-e61c-4d46-bb16-997ff612fc39",
   "metadata": {},
   "outputs": [
    {
     "data": {
      "text/plain": [
       "6"
      ]
     },
     "execution_count": 56,
     "metadata": {},
     "output_type": "execute_result"
    }
   ],
   "source": [
    "#5.\n",
    "len(d)"
   ]
  },
  {
   "cell_type": "code",
   "execution_count": 59,
   "id": "a9a0126b-0c1f-4357-8ac3-1bd1960dd576",
   "metadata": {},
   "outputs": [],
   "source": [
    "## Q9.Write a program to find the second largest element in a list\n",
    "\n",
    "l = [19,34,22,15,89]"
   ]
  },
  {
   "cell_type": "code",
   "execution_count": 60,
   "id": "cfd4f67d-57fe-438d-ab40-9da0a2f99bdd",
   "metadata": {},
   "outputs": [
    {
     "data": {
      "text/plain": [
       "[19, 34, 22, 15, 89]"
      ]
     },
     "execution_count": 60,
     "metadata": {},
     "output_type": "execute_result"
    }
   ],
   "source": [
    "l"
   ]
  },
  {
   "cell_type": "code",
   "execution_count": 61,
   "id": "b13ed3ee-5c87-43f4-9267-dcbdcdb547c8",
   "metadata": {},
   "outputs": [],
   "source": [
    "t = sorted(l,reverse = True)"
   ]
  },
  {
   "cell_type": "code",
   "execution_count": 62,
   "id": "a26f5198-3006-419b-a6eb-86b173664ee7",
   "metadata": {},
   "outputs": [
    {
     "data": {
      "text/plain": [
       "[89, 34, 22, 19, 15]"
      ]
     },
     "execution_count": 62,
     "metadata": {},
     "output_type": "execute_result"
    }
   ],
   "source": [
    "t"
   ]
  },
  {
   "cell_type": "code",
   "execution_count": 64,
   "id": "79c389e0-91c3-4000-a823-3d859607f54e",
   "metadata": {},
   "outputs": [
    {
     "data": {
      "text/plain": [
       "34"
      ]
     },
     "execution_count": 64,
     "metadata": {},
     "output_type": "execute_result"
    }
   ],
   "source": [
    "t[1]"
   ]
  },
  {
   "cell_type": "code",
   "execution_count": 26,
   "id": "1255c15f-725b-4438-916b-05c2648bab3c",
   "metadata": {},
   "outputs": [],
   "source": [
    "''' Q10. This is a list of some metallic element.\n",
    "metals = ['silver','gold',....]\n",
    "Make a new list that is almost identical to the metals list: the new\n",
    "contains the same items, in the same order, except that itdoes NOT  contain the item 'copper'.\n",
    "'''\n",
    "metals = ['silver', 'gold', 'mercury', 'iron', 'cobalt']\n"
   ]
  },
  {
   "cell_type": "code",
   "execution_count": 27,
   "id": "01d1f661-8432-4191-94c5-18498cbce9cc",
   "metadata": {},
   "outputs": [
    {
     "data": {
      "text/plain": [
       "['silver', 'gold', 'mercury', 'iron', 'cobalt']"
      ]
     },
     "execution_count": 27,
     "metadata": {},
     "output_type": "execute_result"
    }
   ],
   "source": [
    "metals"
   ]
  },
  {
   "cell_type": "code",
   "execution_count": 28,
   "id": "29f31289-011a-40e6-ab7d-e64f226860b3",
   "metadata": {},
   "outputs": [
    {
     "name": "stdout",
     "output_type": "stream",
     "text": [
      "['silver', 'gold', 'mercury', 'iron', 'cobalt']\n"
     ]
    }
   ],
   "source": [
    "# create a new list without 'copper'\n",
    "new_metals = [metal for metal in metals if metal != 'copper']\n",
    "print(new_metals)"
   ]
  },
  {
   "cell_type": "code",
   "execution_count": null,
   "id": "fadf81ca-511c-47a9-b07e-7eefc6919b6c",
   "metadata": {},
   "outputs": [],
   "source": []
  },
  {
   "cell_type": "code",
   "execution_count": 7,
   "id": "0dc4d577-df58-45f8-b0a4-3ef90429c1e8",
   "metadata": {},
   "outputs": [
    {
     "data": {
      "text/plain": [
       "[45, 67, 12, 'Hello', 23.45, 'World']"
      ]
     },
     "execution_count": 7,
     "metadata": {},
     "output_type": "execute_result"
    }
   ],
   "source": [
    "### Q6.  Create a list of element like. x = [45,67, 12, 'Hello', 23.45, 'World'] and perform following opertions\n",
    "\n",
    "'''\n",
    "1. Extract only string values from this list.\n",
    "2. Create a new list with String in upper case.\n",
    "3. Find the addition of integer values.\n",
    "4. Check that the value 56 is present in it or not\n",
    "5. Print the list in reverse order.\n",
    "6. Delete the string 'Hello' from it.\n",
    "7. Insert a new value of 36 at 5th position in list.\n",
    "8. count total number of elements in list now.\n",
    "9. Extract the values from 2nd index to 5th index.\n",
    "10. Append[34, 'Pune'] to this list.\n",
    "11. Delete the last element from list.\n",
    "'''\n",
    "\n",
    "# list created\n",
    "x = [45,67, 12, 'Hello', 23.45, 'World'] \n",
    "x\n"
   ]
  },
  {
   "cell_type": "code",
   "execution_count": 8,
   "id": "138b2c3d-e6e0-4b43-b693-4e670f87d575",
   "metadata": {},
   "outputs": [
    {
     "name": "stdout",
     "output_type": "stream",
     "text": [
      "['Hello', 'World']\n"
     ]
    }
   ],
   "source": [
    "#1 Extract only string values from this list.\n",
    "String_values = [item for item in x if isinstance(item,str)]\n",
    "print(String_values)"
   ]
  },
  {
   "cell_type": "code",
   "execution_count": 9,
   "id": "09086d0a-e6df-4f2d-a06d-576541ede8e9",
   "metadata": {},
   "outputs": [
    {
     "data": {
      "text/plain": [
       "['PRANALI', 'AMRUTA', 'SNEHA', 'DNYANESHWARI', 'PRANALI']"
      ]
     },
     "execution_count": 9,
     "metadata": {},
     "output_type": "execute_result"
    }
   ],
   "source": [
    "#2 Create a new list with String in upper case.\n",
    "l = ['Pranali', 'Amruta', 'Sneha', 'Dnyaneshwari', 'Pranali']\n",
    "l\n",
    "[n.upper() for n in l]"
   ]
  },
  {
   "cell_type": "code",
   "execution_count": 10,
   "id": "7e504ca2-72b3-44ac-91e4-9275a9d763a3",
   "metadata": {},
   "outputs": [
    {
     "name": "stdout",
     "output_type": "stream",
     "text": [
      "sum of integer values in the list 124\n"
     ]
    }
   ],
   "source": [
    "#3 Find the addition of integer values.\n",
    "x = [45,67, 12, 'Hello', 23.45, 'World']\n",
    "sum = 0\n",
    "\n",
    "for i in x:\n",
    "    if isinstance(i, int):\n",
    "        sum += i\n",
    "print('sum of integer values in the list', sum)"
   ]
  },
  {
   "cell_type": "code",
   "execution_count": 11,
   "id": "c67c321b-3fb9-4b27-9dae-85b6ef81bd9c",
   "metadata": {},
   "outputs": [
    {
     "data": {
      "text/plain": [
       "False"
      ]
     },
     "execution_count": 11,
     "metadata": {},
     "output_type": "execute_result"
    }
   ],
   "source": [
    "#4. Check that the value 56 is present in it or not.\n",
    "56 in x"
   ]
  },
  {
   "cell_type": "code",
   "execution_count": 12,
   "id": "ccec6d54-98c4-4748-9d1f-0d290e2a57a6",
   "metadata": {},
   "outputs": [
    {
     "data": {
      "text/plain": [
       "[45, 67, 12, 'Hello', 23.45, 'World']"
      ]
     },
     "execution_count": 12,
     "metadata": {},
     "output_type": "execute_result"
    }
   ],
   "source": [
    "#5 Print the list in reverse order.\n",
    "x"
   ]
  },
  {
   "cell_type": "code",
   "execution_count": 13,
   "id": "bf97e631-2c2f-4c30-ad95-d029bb8637d9",
   "metadata": {},
   "outputs": [],
   "source": [
    "x.reverse()"
   ]
  },
  {
   "cell_type": "code",
   "execution_count": 14,
   "id": "528a0443-6e4b-4fd5-a413-a395d9a1a22a",
   "metadata": {},
   "outputs": [
    {
     "data": {
      "text/plain": [
       "['World', 23.45, 'Hello', 12, 67, 45]"
      ]
     },
     "execution_count": 14,
     "metadata": {},
     "output_type": "execute_result"
    }
   ],
   "source": [
    "x"
   ]
  },
  {
   "cell_type": "code",
   "execution_count": 15,
   "id": "798dce88-3227-4c90-afe2-502594045730",
   "metadata": {},
   "outputs": [],
   "source": [
    "#6. Delete the string 'Hello' from it.\n",
    "x.remove('Hello')"
   ]
  },
  {
   "cell_type": "code",
   "execution_count": 16,
   "id": "86bb25f6-6c81-432d-be2c-b39c985ed6dd",
   "metadata": {},
   "outputs": [
    {
     "data": {
      "text/plain": [
       "['World', 23.45, 12, 67, 45]"
      ]
     },
     "execution_count": 16,
     "metadata": {},
     "output_type": "execute_result"
    }
   ],
   "source": [
    "x"
   ]
  },
  {
   "cell_type": "code",
   "execution_count": 17,
   "id": "acd2253a-5d62-4adf-be06-99e7caf770c1",
   "metadata": {},
   "outputs": [],
   "source": [
    "#7 Insert a new value of 36 at 5th position in list.\n",
    "x.insert(5,36)"
   ]
  },
  {
   "cell_type": "code",
   "execution_count": 18,
   "id": "09693f17-d33a-4ab4-9232-9b4eb08f5b52",
   "metadata": {},
   "outputs": [
    {
     "data": {
      "text/plain": [
       "['World', 23.45, 12, 67, 45, 36]"
      ]
     },
     "execution_count": 18,
     "metadata": {},
     "output_type": "execute_result"
    }
   ],
   "source": [
    "x"
   ]
  },
  {
   "cell_type": "code",
   "execution_count": 19,
   "id": "4cb9dcd8-8900-4527-98ea-839f44b7c78f",
   "metadata": {},
   "outputs": [
    {
     "data": {
      "text/plain": [
       "[45, 67, 12, 'Hello', 23.45, 'World']"
      ]
     },
     "execution_count": 19,
     "metadata": {},
     "output_type": "execute_result"
    }
   ],
   "source": [
    "#8 count total number of elements in list now.\n",
    "x = [45,67, 12, 'Hello', 23.45, 'World']\n",
    "x"
   ]
  },
  {
   "cell_type": "code",
   "execution_count": 20,
   "id": "33e6509a-1d72-48dd-9039-8a37e5178924",
   "metadata": {},
   "outputs": [
    {
     "data": {
      "text/plain": [
       "6"
      ]
     },
     "execution_count": 20,
     "metadata": {},
     "output_type": "execute_result"
    }
   ],
   "source": [
    "len(x)"
   ]
  },
  {
   "cell_type": "code",
   "execution_count": 21,
   "id": "b39fbb28-c91f-481f-b6df-3f067b9e12d3",
   "metadata": {},
   "outputs": [
    {
     "data": {
      "text/plain": [
       "[12, 'Hello', 23.45, 'World']"
      ]
     },
     "execution_count": 21,
     "metadata": {},
     "output_type": "execute_result"
    }
   ],
   "source": [
    "#9 Extract the values from 2nd index to 5th index.\n",
    "x[2:6]"
   ]
  },
  {
   "cell_type": "code",
   "execution_count": 22,
   "id": "752f36f0-5394-4558-9a1a-60b84a919c40",
   "metadata": {},
   "outputs": [],
   "source": [
    "#10 Append[34, 'Pune'] to this list.\n",
    "x.append([34, 'Pune'])"
   ]
  },
  {
   "cell_type": "code",
   "execution_count": 23,
   "id": "a2a5d480-0882-4c56-a3fc-c33b52990faa",
   "metadata": {},
   "outputs": [
    {
     "data": {
      "text/plain": [
       "[45, 67, 12, 'Hello', 23.45, 'World', [34, 'Pune']]"
      ]
     },
     "execution_count": 23,
     "metadata": {},
     "output_type": "execute_result"
    }
   ],
   "source": [
    "x"
   ]
  },
  {
   "cell_type": "code",
   "execution_count": 24,
   "id": "13020624-b267-4f2e-bacc-d534c748df72",
   "metadata": {},
   "outputs": [
    {
     "data": {
      "text/plain": [
       "[45, 67, 12, 'Hello', 23.45, 'World']"
      ]
     },
     "execution_count": 24,
     "metadata": {},
     "output_type": "execute_result"
    }
   ],
   "source": [
    "#11 Delete the last element from list.\n",
    "x = [45,67, 12, 'Hello', 23.45, 'World']\n",
    "x"
   ]
  },
  {
   "cell_type": "code",
   "execution_count": 25,
   "id": "fc810021-2b40-4d11-ac0f-101c0e1b8026",
   "metadata": {},
   "outputs": [
    {
     "data": {
      "text/plain": [
       "'World'"
      ]
     },
     "execution_count": 25,
     "metadata": {},
     "output_type": "execute_result"
    }
   ],
   "source": [
    "x.pop()"
   ]
  },
  {
   "cell_type": "code",
   "execution_count": null,
   "id": "fb02caf3-565d-49fb-afb3-60dd5251dc43",
   "metadata": {},
   "outputs": [],
   "source": []
  }
 ],
 "metadata": {
  "kernelspec": {
   "display_name": "Python 3 (ipykernel)",
   "language": "python",
   "name": "python3"
  },
  "language_info": {
   "codemirror_mode": {
    "name": "ipython",
    "version": 3
   },
   "file_extension": ".py",
   "mimetype": "text/x-python",
   "name": "python",
   "nbconvert_exporter": "python",
   "pygments_lexer": "ipython3",
   "version": "3.11.7"
  }
 },
 "nbformat": 4,
 "nbformat_minor": 5
}
