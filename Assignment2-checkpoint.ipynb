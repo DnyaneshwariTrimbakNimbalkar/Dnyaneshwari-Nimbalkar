{
 "cells": [
  {
   "cell_type": "code",
   "execution_count": 36,
   "id": "bd87d723-653d-4ac7-bf5d-8ad66384013c",
   "metadata": {},
   "outputs": [],
   "source": [
    "# Q1. Create a package named 'cricket' which will contain modules  named batsman and bowler.\n",
    "#Create following function in respective modules.import the package and call all these functions in your program\n",
    "#batsman: findaverage(runs,matches),strikerate(runs,balls) \n",
    "#bowler: findavg(runs,wickets),economyrate(overs, runs)\n",
    "\n",
    "\n",
    "from cricket import batsman, baller\n",
    "\n",
    "def main():\n",
    "    # Batsman stats\n",
    "    runs_batsman = int(input(\"Enter the runs:\"))\n",
    "    matches_batsman = int(input(\"Enter the matches:\"))\n",
    "    balls_faced = int(input(\"Enter the Total balls:\"))\n",
    "    \n",
    "    # Bowler stats\n",
    "    runs_baller = int(input(\"Enter the runs baller:\"))\n",
    "    wickets_taken = int(input(\"Enter the wicket:\"))\n",
    "    overs_balled = int(input(\"Enter the overs:\"))\n",
    "\n",
    "    # Batsman calculations\n",
    "    avg_batsman = batsman.findaverage(runs_batsman, matches_batsman)\n",
    "    sr_batsman = batsman.strikerate(runs_batsman, balls_faced)\n",
    "\n",
    "    # Bowler calculations\n",
    "    avg_baller = baller.findavg(runs_baller, wickets_taken)\n",
    "    economy_baller = baller.economyrate(overs_balled, runs_baller)\n",
    "\n",
    "    # Print results\n",
    "    print(f\"Batsman's average:\",avg_batsman)\n",
    "    print(f\"Batsman's strike rate:\",sr_batsman)\n",
    "    print(f\"Bowler's average:\",avg_baller)\n",
    "    print(f\"Bowler's economy rate:\",economy_baller)"
   ]
  },
  {
   "cell_type": "code",
   "execution_count": 37,
   "id": "81a88561-b3e1-438d-a82b-100b77664df4",
   "metadata": {},
   "outputs": [
    {
     "name": "stdin",
     "output_type": "stream",
     "text": [
      "Enter the runs: 32\n",
      "Enter the matches: 6\n",
      "Enter the Total balls: 14\n",
      "Enter the runs baller: 13\n",
      "Enter the wicket: 6\n",
      "Enter the overs: 8\n"
     ]
    },
    {
     "name": "stdout",
     "output_type": "stream",
     "text": [
      "Batsman's average: 5.333333333333333\n",
      "Batsman's strike rate: 228.57142857142856\n",
      "Bowler's average: 2.1666666666666665\n",
      "Bowler's economy rate: 1.625\n"
     ]
    }
   ],
   "source": [
    "main()"
   ]
  },
  {
   "cell_type": "code",
   "execution_count": 1,
   "id": "23f2f571-6b92-4df6-a04e-4655a9142261",
   "metadata": {},
   "outputs": [],
   "source": [
    "# Q2. Write a python function to find whether the number if prime or not\n",
    "#     def isPrime(num)\n",
    "\n",
    "def Prime(num):\n",
    "    # If num is less than or equal to 1, it's not prime\n",
    "    if num <= 1:\n",
    "        return 'not prime'\n",
    "    \n",
    "    # Check for factors from 2 to sqrt(num)\n",
    "    for i in range(2, int(num**0.5) + 1):\n",
    "        if num % i == 0:\n",
    "            return 'not prime'\n",
    "    \n",
    "    return ' prime'"
   ]
  },
  {
   "cell_type": "code",
   "execution_count": 3,
   "id": "b6d1d005-a094-4a83-a5cc-e1a8178a417e",
   "metadata": {},
   "outputs": [
    {
     "data": {
      "text/plain": [
       "'not prime'"
      ]
     },
     "execution_count": 3,
     "metadata": {},
     "output_type": "execute_result"
    }
   ],
   "source": [
    "Prime(4)"
   ]
  },
  {
   "cell_type": "code",
   "execution_count": 1,
   "id": "fa109f9d-ac70-4226-8268-ef02dd1629a8",
   "metadata": {},
   "outputs": [],
   "source": [
    "# Q3. Write a function is_palindome(string) the takes a string as input and returns\n",
    "# True if the string reads the same backward as forward(eg.. 'racecar' is a palindrome).\n",
    "\n",
    "def is_palinrome(string):\n",
    "    if(string == string[::-1]):\n",
    "        return 'The string is a palindrome'\n",
    "    else:\n",
    "        return 'This is not  palindrome'"
   ]
  },
  {
   "cell_type": "code",
   "execution_count": 3,
   "id": "e3e377c6-4a76-4d51-ba65-6e61aaba2e94",
   "metadata": {},
   "outputs": [
    {
     "data": {
      "text/plain": [
       "'This is not  palindrome'"
      ]
     },
     "execution_count": 3,
     "metadata": {},
     "output_type": "execute_result"
    }
   ],
   "source": [
    "is_palinrome('man')"
   ]
  },
  {
   "cell_type": "code",
   "execution_count": 5,
   "id": "68acf5b6-00e3-4e25-a39d-1759c0623c8d",
   "metadata": {},
   "outputs": [],
   "source": [
    "# Q4. Write a function reverse_list(data) that takes a list as list as input and returns a new list\n",
    "#  with the elements in reverse order(eg.. reverse_list([1, 2, 3]) returns[3, 2, 1])\n",
    "\n",
    "\n",
    "def reverse_list(data):\n",
    "    return data[::-1]\n",
    "   "
   ]
  },
  {
   "cell_type": "code",
   "execution_count": 34,
   "id": "f57105a8-9403-4da6-8fc0-37c50191a361",
   "metadata": {},
   "outputs": [
    {
     "data": {
      "text/plain": [
       "[4, 3, 2, 1]"
      ]
     },
     "execution_count": 34,
     "metadata": {},
     "output_type": "execute_result"
    }
   ],
   "source": [
    "reverse_list([1,2,3,4])"
   ]
  },
  {
   "cell_type": "code",
   "execution_count": 4,
   "id": "48eb37ff-4294-4ef0-aa27-9b8376e36e61",
   "metadata": {},
   "outputs": [],
   "source": [
    "# Q5. Write a function write_file(filename, content) that takes a filename and\n",
    "#  content as input and writes the content to the specified file\n",
    "\n",
    "\n",
    "def write_file(filename, content):\n",
    "    with open(filename, 'w') as file:\n",
    "        file.write(content)"
   ]
  },
  {
   "cell_type": "code",
   "execution_count": 5,
   "id": "eb1652bc-0867-411f-a39d-cc45cb6c14c1",
   "metadata": {},
   "outputs": [],
   "source": [
    "\n",
    "write_file('example.text', 'This  is the content of file')"
   ]
  },
  {
   "cell_type": "code",
   "execution_count": 6,
   "id": "8511966e-b038-4eda-9994-da733560afe5",
   "metadata": {},
   "outputs": [],
   "source": [
    "# Q6. Write a function copy_file(source_filename, destination_filename) that\n",
    "# takes the source and destination filenames as input and copies the content of the source\n",
    "# file to the destination file. Handle cases where the source file doesn't exist\n",
    "\n",
    "def copy_file(source_filename, destination_filename):\n",
    "    \n",
    "   try:\n",
    "       with open(source_filename, 'r') as source_file:\n",
    "           content = source_file.read()\n",
    "           with open(destination_filename, 'w') as destination_file:\n",
    "               destination_file.write(content)\n",
    "               print('file content copied from source_filename to destination_filename ')\n",
    "   except FileNotFoundError:\n",
    "       print('The  source file does not exist')\n",
    "   except Exception as e:\n",
    "       print('An error occurre',e)\n",
    "       \n",
    "               \n",
    "               \n",
    "            \n"
   ]
  },
  {
   "cell_type": "code",
   "execution_count": 7,
   "id": "11630f2a-7a2d-4a56-82bf-10267a1da8cd",
   "metadata": {},
   "outputs": [
    {
     "name": "stdout",
     "output_type": "stream",
     "text": [
      "file content copied from source_filename to destination_filename \n"
     ]
    }
   ],
   "source": [
    "copy_file('test3.txt','destination.txt' )"
   ]
  },
  {
   "cell_type": "code",
   "execution_count": 13,
   "id": "18d446e9-de77-422d-bd4d-af5a40bcb18d",
   "metadata": {},
   "outputs": [],
   "source": [
    "# Q7. Implement a function to calculate the dot product of two NumPy arrays.\n",
    "\n",
    "import numpy as np"
   ]
  },
  {
   "cell_type": "code",
   "execution_count": 14,
   "id": "a755e84a-ee2e-4bf7-96cd-2e7ecf81734b",
   "metadata": {},
   "outputs": [],
   "source": [
    "\n",
    "def calculate_dot_product(array1, array2):\n",
    "    return np.dot(array1, array2)\n",
    "   \n",
    "  \n",
    "\n",
    "    "
   ]
  },
  {
   "cell_type": "code",
   "execution_count": 15,
   "id": "a4d922f4-66a7-4a3e-8b85-bbbe8f2373a0",
   "metadata": {},
   "outputs": [
    {
     "data": {
      "text/plain": [
       "65"
      ]
     },
     "execution_count": 15,
     "metadata": {},
     "output_type": "execute_result"
    }
   ],
   "source": [
    "calculate_dot_product(([2+3]),([5+8]))"
   ]
  },
  {
   "cell_type": "code",
   "execution_count": 18,
   "id": "ef3f5676-b4ea-454e-a47d-193dda16f3fc",
   "metadata": {},
   "outputs": [],
   "source": [
    "# Q8. Implements a GUI with a radio button selection for choosing a favorite color\n",
    "# (eg.. red, green, blue). Change the background color of the window based on the selected radio button\n",
    "\n",
    "\n",
    "\n",
    "import tkinter as tk"
   ]
  },
  {
   "cell_type": "code",
   "execution_count": 23,
   "id": "159d3280-2c2f-46d0-ace0-0d4bf5066226",
   "metadata": {},
   "outputs": [],
   "source": [
    "def change_color():\n",
    "\n",
    "    choose_color = color_var.get()\n",
    "    \n",
    "    if choose_color == \"pink\":\n",
    "        window.configure(bg=\"pink\")\n",
    "    elif choose_color == \"Yellow\":\n",
    "        window.configure(bg=\"Yellow\")\n",
    "    elif choose_color == \"Blue\":\n",
    "        window.configure(bg=\"blue\")\n",
    "\n",
    "window = tk.Tk()\n",
    "window.title(\"Radio button\")\n",
    "\n",
    "color_var = tk.StringVar()\n",
    "\n",
    "\n",
    "red_radio = tk.Radiobutton(window, text=\"pink\", variable=color_var,font= ('Arial Bold',12), value=\"pink\", command=change_color)\n",
    "red_radio.place(x= 100, y= 100)\n",
    "\n",
    "green_radio = tk.Radiobutton(window, text=\"Yellow\", variable=color_var,font= ('Arial Bold',12), value=\"Yellow\", command=change_color)\n",
    "green_radio.place(x= 100, y= 150)\n",
    "\n",
    "blue_radio = tk.Radiobutton(window, text=\"Blue\", variable=color_var,font= ('Arial Bold',12), value=\"Blue\", command=change_color)\n",
    "blue_radio.place(x= 100, y= 200)\n",
    "                \n",
    "window.mainloop()"
   ]
  },
  {
   "cell_type": "code",
   "execution_count": null,
   "id": "4f993009-fa53-4787-8f06-6062aecd709d",
   "metadata": {},
   "outputs": [],
   "source": [
    "# Q9. design a currency converter GUI. Allow users to enter an amount and select the \n",
    "# currencies they want to convert between(eg.. USD, EUR). Display the converted\n",
    "# amount in the selected currency."
   ]
  },
  {
   "cell_type": "code",
   "execution_count": 64,
   "id": "11804c68-0f11-4f52-9cdb-c4ac3f520d1c",
   "metadata": {},
   "outputs": [],
   "source": [
    "import tkinter as tk\n",
    "from tkinter import ttk\n",
    "from tkinter import messagebox\n",
    "\n",
    "# Predefined conversion rates (for demonstration purposes)\n",
    "conversion_rates = {\n",
    "    'Rupees': {'Rupees': 1.0, 'doller': 85.56, 'EUR': 0.75},\n",
    "    'EUR': {'Rupees': 1.18, 'EUR': 1.0, 'dolller': 0.88},\n",
    "    'Doller': {'Ruppes': 1.33, 'EUR': 1.14, 'doller': 1.0},\n",
    "}\n",
    "\n",
    "# Initialize tkinter\n",
    "root = tk.Tk()\n",
    "root.title(\"Currency Converter\")\n",
    "root.geometry('700x500')  \n",
    "\n",
    "\n",
    "    \n",
    "\n",
    "# Function to perform conversion\n",
    "def convert_currency():\n",
    "    try:\n",
    "        amount = float(amount_entry.get())\n",
    "        from_currency = from_currency_var.get()\n",
    "        to_currency = to_currency_var.get()\n",
    "\n",
    "        if from_currency == to_currency:\n",
    "            converted_amount = amount\n",
    "        else:\n",
    "            conversion_rate = conversion_rates[from_currency][to_currency]\n",
    "            converted_amount = amount * conversion_rate\n",
    "\n",
    "        result_label.config(text=f\"Converted Amount: {converted_amount:.2f} {to_currency}\")\n",
    "    except ValueError:\n",
    "        result_label.config(text=\"Please enter a valid number\")\n",
    "\n",
    "# Create labels\n",
    "amount_label = ttk.Label(root, text=\"Enter Amount:\",)\n",
    "amount_label.place(x= 100, y=100)#padx=10, pady=10, sticky=tk.W)\n",
    "\n",
    "result_label = ttk.Label(root, text=\"\")\n",
    "result_label.place(x=350, y=300)# padx=10, pady=10, sticky=tk.W)\n",
    "\n",
    "# Create entry for amount\n",
    "amount_entry = ttk.Entry(root, width=20)\n",
    "amount_entry.place(x= 200, y= 100)# padx=10, pady=10)\n",
    "\n",
    "# Create dropdowns for selecting currencies\n",
    "currencies = ['Rupees', 'EUR', 'Doller']  # Add more currencies as needed\n",
    "from_currency_var = tk.StringVar()\n",
    "to_currency_var = tk.StringVar()\n",
    "\n",
    "from_currency_label = ttk.Label(root, text=\"From Currency:\")\n",
    "from_currency_label.place(x=100, y=150)# padx=10, pady=10, sticky=tk.W)\n",
    "\n",
    "from_currency_dropdown = ttk.Combobox(root, textvariable=from_currency_var, values=currencies)\n",
    "from_currency_dropdown.place(x=200,y=150)# padx=10, pady=10)\n",
    "from_currency_dropdown.current(0)  # Set default value\n",
    "\n",
    "to_currency_label = ttk.Label(root, text=\"To Currency:\")\n",
    "to_currency_label.place(x=400, y=150)# padx=10, pady=10, sticky=tk.W)\n",
    "\n",
    "to_currency_dropdown = ttk.Combobox(root, textvariable=to_currency_var, values=currencies)\n",
    "to_currency_dropdown.place(x=500, y=150)# padx=10, pady=10)\n",
    "to_currency_dropdown.current(1)  # Set default value\n",
    "\n",
    "# Create convert button\n",
    "convert_button = ttk.Button(root, text=\"Convert\", command=convert_currency)\n",
    "convert_button.place(x=350, y=250)#columnspan=2)# padx=10, pady=10)\n",
    "\n",
    "# Start the GUI main loop\n",
    "root.mainloop()"
   ]
  },
  {
   "cell_type": "code",
   "execution_count": null,
   "id": "e93db2d3-80f7-4d14-937a-fcf518da399f",
   "metadata": {},
   "outputs": [],
   "source": [
    "\n"
   ]
  },
  {
   "cell_type": "code",
   "execution_count": null,
   "id": "0a5847ef-6450-40db-adad-e6428ae48424",
   "metadata": {},
   "outputs": [],
   "source": []
  }
 ],
 "metadata": {
  "kernelspec": {
   "display_name": "Python 3 (ipykernel)",
   "language": "python",
   "name": "python3"
  },
  "language_info": {
   "codemirror_mode": {
    "name": "ipython",
    "version": 3
   },
   "file_extension": ".py",
   "mimetype": "text/x-python",
   "name": "python",
   "nbconvert_exporter": "python",
   "pygments_lexer": "ipython3",
   "version": "3.11.7"
  }
 },
 "nbformat": 4,
 "nbformat_minor": 5
}
