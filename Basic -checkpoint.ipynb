{
 "cells": [
  {
   "cell_type": "code",
   "execution_count": 1,
   "id": "e941ff9c-2383-4841-bde9-e9f732cdf0bc",
   "metadata": {},
   "outputs": [
    {
     "name": "stdout",
     "output_type": "stream",
     "text": [
      "Hellow World\n"
     ]
    }
   ],
   "source": [
    "print(\"Hellow World\")"
   ]
  },
  {
   "cell_type": "code",
   "execution_count": 2,
   "id": "46298065-f3b2-482a-b898-d4357eea989a",
   "metadata": {},
   "outputs": [],
   "source": [
    "num=34"
   ]
  },
  {
   "cell_type": "code",
   "execution_count": 3,
   "id": "d8729b21-2734-4dc4-9409-156f220ece88",
   "metadata": {},
   "outputs": [
    {
     "name": "stdout",
     "output_type": "stream",
     "text": [
      "34\n"
     ]
    }
   ],
   "source": [
    "print(num)"
   ]
  },
  {
   "cell_type": "code",
   "execution_count": 4,
   "id": "942feeac-3a84-4aa0-92ed-5941a8f1e6c4",
   "metadata": {},
   "outputs": [
    {
     "name": "stdout",
     "output_type": "stream",
     "text": [
      "num\n"
     ]
    }
   ],
   "source": [
    "print('num')"
   ]
  },
  {
   "cell_type": "code",
   "execution_count": 5,
   "id": "1f033ee3-1e0a-48c9-be5e-779638a25043",
   "metadata": {},
   "outputs": [],
   "source": [
    "num1=40"
   ]
  },
  {
   "cell_type": "code",
   "execution_count": 6,
   "id": "8e89aa71-09ed-4fa2-b129-fb0df35f5e69",
   "metadata": {},
   "outputs": [
    {
     "name": "stdout",
     "output_type": "stream",
     "text": [
      "40\n"
     ]
    }
   ],
   "source": [
    "print(num1)"
   ]
  },
  {
   "cell_type": "code",
   "execution_count": 7,
   "id": "6bfe2142-a547-4763-81f0-09ab7e3b8c66",
   "metadata": {},
   "outputs": [],
   "source": [
    "rate_of_interest=50"
   ]
  },
  {
   "cell_type": "code",
   "execution_count": 8,
   "id": "883a62b2-2d83-4ac8-acad-cf1b247f35fa",
   "metadata": {},
   "outputs": [
    {
     "data": {
      "text/plain": [
       "50"
      ]
     },
     "execution_count": 8,
     "metadata": {},
     "output_type": "execute_result"
    }
   ],
   "source": [
    "rate_of_interest"
   ]
  },
  {
   "cell_type": "code",
   "execution_count": 9,
   "id": "d6a13641-77fc-4e98-93c9-efdcdabb5fd8",
   "metadata": {},
   "outputs": [],
   "source": [
    "num2=45.42"
   ]
  },
  {
   "cell_type": "code",
   "execution_count": 11,
   "id": "62974983-c88a-41db-b930-72e80bbee3c3",
   "metadata": {},
   "outputs": [
    {
     "data": {
      "text/plain": [
       "45.42"
      ]
     },
     "execution_count": 11,
     "metadata": {},
     "output_type": "execute_result"
    }
   ],
   "source": [
    "num2"
   ]
  },
  {
   "cell_type": "code",
   "execution_count": 12,
   "id": "45059e4a-25e0-4c04-8eaa-b51ba6547149",
   "metadata": {},
   "outputs": [],
   "source": [
    "num3='Aditya'"
   ]
  },
  {
   "cell_type": "code",
   "execution_count": 13,
   "id": "35a2514c-4d1f-414a-a94d-58463876c3a7",
   "metadata": {},
   "outputs": [
    {
     "data": {
      "text/plain": [
       "'Aditya'"
      ]
     },
     "execution_count": 13,
     "metadata": {},
     "output_type": "execute_result"
    }
   ],
   "source": [
    "num3"
   ]
  },
  {
   "cell_type": "code",
   "execution_count": 14,
   "id": "2a345670-b524-45ad-86b7-d07e76e69aec",
   "metadata": {},
   "outputs": [
    {
     "name": "stdout",
     "output_type": "stream",
     "text": [
      "Aditya\n"
     ]
    }
   ],
   "source": [
    "print(num3)"
   ]
  },
  {
   "cell_type": "code",
   "execution_count": 15,
   "id": "3821d6b8-4461-465a-9f24-150de99ce714",
   "metadata": {},
   "outputs": [],
   "source": [
    "num1=34\n",
    "num2=56.70\n",
    "num3='Aditya'"
   ]
  },
  {
   "cell_type": "code",
   "execution_count": 16,
   "id": "e5d09b45-ecf0-4413-b1f1-d57a0d506b97",
   "metadata": {},
   "outputs": [
    {
     "data": {
      "text/plain": [
       "int"
      ]
     },
     "execution_count": 16,
     "metadata": {},
     "output_type": "execute_result"
    }
   ],
   "source": [
    "type(num1)"
   ]
  },
  {
   "cell_type": "code",
   "execution_count": 17,
   "id": "a7966f7f-1f3f-4ae8-bbcd-2b74d642a5a1",
   "metadata": {},
   "outputs": [
    {
     "data": {
      "text/plain": [
       "float"
      ]
     },
     "execution_count": 17,
     "metadata": {},
     "output_type": "execute_result"
    }
   ],
   "source": [
    "type(num2)"
   ]
  },
  {
   "cell_type": "code",
   "execution_count": 18,
   "id": "6fd8c5f4-3204-47e3-89a8-e2540a0369b4",
   "metadata": {},
   "outputs": [
    {
     "data": {
      "text/plain": [
       "str"
      ]
     },
     "execution_count": 18,
     "metadata": {},
     "output_type": "execute_result"
    }
   ],
   "source": [
    "type(num3)"
   ]
  },
  {
   "cell_type": "code",
   "execution_count": 21,
   "id": "36bc641b-a142-4377-8fde-4e90f859efdd",
   "metadata": {},
   "outputs": [],
   "source": [
    "Pass = 23"
   ]
  },
  {
   "cell_type": "code",
   "execution_count": 22,
   "id": "701b2a96-7437-4bde-a994-7a300526e6c3",
   "metadata": {},
   "outputs": [
    {
     "data": {
      "text/plain": [
       "23"
      ]
     },
     "execution_count": 22,
     "metadata": {},
     "output_type": "execute_result"
    }
   ],
   "source": [
    "Pass"
   ]
  },
  {
   "cell_type": "code",
   "execution_count": 23,
   "id": "c3bc4fc0-865a-461a-9584-d6db81a4ae60",
   "metadata": {},
   "outputs": [
    {
     "data": {
      "text/plain": [
       "34"
      ]
     },
     "execution_count": 23,
     "metadata": {},
     "output_type": "execute_result"
    }
   ],
   "source": [
    "num1"
   ]
  },
  {
   "cell_type": "code",
   "execution_count": 24,
   "id": "bd88e82e-6c1a-471b-9766-a8d61e21f3d1",
   "metadata": {},
   "outputs": [
    {
     "data": {
      "text/plain": [
       "94"
      ]
     },
     "execution_count": 24,
     "metadata": {},
     "output_type": "execute_result"
    }
   ],
   "source": [
    "num1+60"
   ]
  },
  {
   "cell_type": "code",
   "execution_count": 26,
   "id": "a893d756-5ede-4216-9ca8-759bab8e758d",
   "metadata": {},
   "outputs": [
    {
     "name": "stdout",
     "output_type": "stream",
     "text": [
      "154\n"
     ]
    }
   ],
   "source": [
    "num1 =num1 +60\n",
    "print(num1)"
   ]
  },
  {
   "cell_type": "code",
   "execution_count": 28,
   "id": "c1d2ea0e-49ff-4e88-80bd-e75972560eb5",
   "metadata": {},
   "outputs": [
    {
     "data": {
      "text/plain": [
       "246641181115674737572879729341852535845472679757957754711192657811148368546919174892110514866890661477499569337982885118937606860303163841070295398866533607809337852636197147315418929700392210651462724440708238178309894185203135792833848980162110753995902211626781494555216499024596716764902905744552108703670952535150525584801258802660812558084288017019479915631022570801002600528952445860747026702812407505259499851902779696981336334270791833799249293419903723739814800148096510712657333600844001944025174923762462743966499744099328929215674401276706442416675497711018975607489895414956665559258785226987261082702619240200148253830815546451425440080451512540457184681742016177"
      ]
     },
     "execution_count": 28,
     "metadata": {},
     "output_type": "execute_result"
    }
   ],
   "source": [
    "num = 321553**123\n",
    "num"
   ]
  },
  {
   "cell_type": "code",
   "execution_count": 29,
   "id": "5391d23d-93e3-41e3-a238-50937bd2761a",
   "metadata": {},
   "outputs": [],
   "source": [
    "## Float datatype"
   ]
  },
  {
   "cell_type": "code",
   "execution_count": 30,
   "id": "f352dc5d-622a-4f66-9d1e-c846c10228f6",
   "metadata": {},
   "outputs": [],
   "source": [
    "num2=55.33"
   ]
  },
  {
   "cell_type": "code",
   "execution_count": 31,
   "id": "fdf909de-12bd-493a-81b9-da7c98671828",
   "metadata": {},
   "outputs": [
    {
     "data": {
      "text/plain": [
       "670.0463"
      ]
     },
     "execution_count": 31,
     "metadata": {},
     "output_type": "execute_result"
    }
   ],
   "source": [
    "result=num2*12.11\n",
    "result"
   ]
  },
  {
   "cell_type": "code",
   "execution_count": 32,
   "id": "021cc8f2-37ad-4896-a679-d569207a1235",
   "metadata": {},
   "outputs": [],
   "source": [
    "y = 56e3 # =>  e3 = 10 ** 3"
   ]
  },
  {
   "cell_type": "code",
   "execution_count": 33,
   "id": "ef800b04-8e3e-4f66-9467-cc919a1f9898",
   "metadata": {},
   "outputs": [
    {
     "data": {
      "text/plain": [
       "56000.0"
      ]
     },
     "execution_count": 33,
     "metadata": {},
     "output_type": "execute_result"
    }
   ],
   "source": [
    "y"
   ]
  },
  {
   "cell_type": "code",
   "execution_count": 34,
   "id": "91e157d3-620c-45d4-8cbc-cf9f55b648ba",
   "metadata": {},
   "outputs": [],
   "source": [
    "z =49e-2"
   ]
  },
  {
   "cell_type": "code",
   "execution_count": 35,
   "id": "f3dfa6f4-2dc8-49aa-97d7-765d13cebbc1",
   "metadata": {},
   "outputs": [
    {
     "data": {
      "text/plain": [
       "0.49"
      ]
     },
     "execution_count": 35,
     "metadata": {},
     "output_type": "execute_result"
    }
   ],
   "source": [
    "z"
   ]
  },
  {
   "cell_type": "code",
   "execution_count": 36,
   "id": "9a72d267-8ee1-4de0-8d81-005446c9c9a3",
   "metadata": {},
   "outputs": [],
   "source": [
    "## String datatype"
   ]
  },
  {
   "cell_type": "code",
   "execution_count": 37,
   "id": "017254b9-959e-4893-9888-fa9c0b39041d",
   "metadata": {},
   "outputs": [],
   "source": [
    "name = 'Dnyaneshwari'"
   ]
  },
  {
   "cell_type": "code",
   "execution_count": 38,
   "id": "0298c368-1418-4a82-97b2-c07af228aafd",
   "metadata": {},
   "outputs": [
    {
     "name": "stdout",
     "output_type": "stream",
     "text": [
      "Dnyaneshwari\n"
     ]
    }
   ],
   "source": [
    "print(name)"
   ]
  },
  {
   "cell_type": "code",
   "execution_count": 41,
   "id": "4c78d3f3-3590-4a31-b62e-50cb0d40f14f",
   "metadata": {},
   "outputs": [],
   "source": [
    "sent = 'I like Python Programming'"
   ]
  },
  {
   "cell_type": "code",
   "execution_count": 42,
   "id": "4e899b09-79b6-4779-9e80-5702d4a9ba20",
   "metadata": {},
   "outputs": [
    {
     "name": "stdout",
     "output_type": "stream",
     "text": [
      "I like Python Programming\n"
     ]
    }
   ],
   "source": [
    "print(sent)"
   ]
  },
  {
   "cell_type": "code",
   "execution_count": 43,
   "id": "8037bd81-2bb7-476e-b05c-a21f469e5d86",
   "metadata": {},
   "outputs": [],
   "source": [
    "sent = \"I like 'Python' Programming\""
   ]
  },
  {
   "cell_type": "code",
   "execution_count": 44,
   "id": "ca94c0dd-fe35-4a9f-8337-cd916886349c",
   "metadata": {},
   "outputs": [
    {
     "name": "stdout",
     "output_type": "stream",
     "text": [
      "I like 'Python' Programming\n"
     ]
    }
   ],
   "source": [
    "print(sent)"
   ]
  },
  {
   "cell_type": "code",
   "execution_count": 45,
   "id": "5d16d5be-46f0-4517-a652-d087a4b1823d",
   "metadata": {},
   "outputs": [],
   "source": [
    "sent = 'I like \"Python\" Programming'"
   ]
  },
  {
   "cell_type": "code",
   "execution_count": 46,
   "id": "5cbe8716-84ab-416f-8057-eb48809f6f6e",
   "metadata": {},
   "outputs": [
    {
     "name": "stdout",
     "output_type": "stream",
     "text": [
      "I like \"Python\" Programming\n"
     ]
    }
   ],
   "source": [
    "print(sent)"
   ]
  },
  {
   "cell_type": "code",
   "execution_count": 48,
   "id": "35d5f877-2a18-4b4d-99b3-9ef0549f6cd8",
   "metadata": {},
   "outputs": [],
   "source": [
    "## multiple assignment\n",
    "\n",
    "num1,num2,num3 = 12,34.45,'Dnyaneshwari'"
   ]
  },
  {
   "cell_type": "code",
   "execution_count": 49,
   "id": "847ae5df-d0c7-4b3a-963f-7b47102d0603",
   "metadata": {},
   "outputs": [
    {
     "data": {
      "text/plain": [
       "12"
      ]
     },
     "execution_count": 49,
     "metadata": {},
     "output_type": "execute_result"
    }
   ],
   "source": [
    "num1"
   ]
  },
  {
   "cell_type": "code",
   "execution_count": 50,
   "id": "383da2de-b8b3-41ce-a611-708c8ebaaa57",
   "metadata": {},
   "outputs": [
    {
     "data": {
      "text/plain": [
       "34.45"
      ]
     },
     "execution_count": 50,
     "metadata": {},
     "output_type": "execute_result"
    }
   ],
   "source": [
    "num2"
   ]
  },
  {
   "cell_type": "code",
   "execution_count": 51,
   "id": "8cfdd8ff-bbb6-4c65-85d9-b27dd3896a90",
   "metadata": {},
   "outputs": [
    {
     "data": {
      "text/plain": [
       "'Dnyaneshwari'"
      ]
     },
     "execution_count": 51,
     "metadata": {},
     "output_type": "execute_result"
    }
   ],
   "source": [
    "num3"
   ]
  },
  {
   "cell_type": "code",
   "execution_count": 52,
   "id": "e206fb6c-97cc-493b-b1ce-d3b849a42d89",
   "metadata": {},
   "outputs": [
    {
     "name": "stdout",
     "output_type": "stream",
     "text": [
      "12 34.45 Dnyaneshwari\n"
     ]
    }
   ],
   "source": [
    "print(num1, num2, num3 )"
   ]
  },
  {
   "cell_type": "code",
   "execution_count": 53,
   "id": "8e8edc21-f19c-4e44-85a9-36c08d176e68",
   "metadata": {},
   "outputs": [
    {
     "name": "stdout",
     "output_type": "stream",
     "text": [
      "75\n"
     ]
    }
   ],
   "source": [
    "num1 =45\n",
    "num2 =30\n",
    "result = num1 + num2\n",
    "print(result)"
   ]
  },
  {
   "cell_type": "code",
   "execution_count": 56,
   "id": "b0223990-865c-445a-8d9f-bd0f70053c72",
   "metadata": {},
   "outputs": [],
   "source": [
    "num1 = 45; num2 = 30; result = num1 "
   ]
  },
  {
   "cell_type": "code",
   "execution_count": 57,
   "id": "a491d0e2-5535-4e38-9101-d8d86ece169c",
   "metadata": {},
   "outputs": [],
   "source": [
    "##  String operations"
   ]
  },
  {
   "cell_type": "code",
   "execution_count": 58,
   "id": "166ce7e4-1573-4152-9e0a-ce6d16aa9f89",
   "metadata": {},
   "outputs": [],
   "source": [
    "name = 'Dnyaneshwari'"
   ]
  },
  {
   "cell_type": "code",
   "execution_count": 59,
   "id": "bcb98015-dded-40e0-825f-f2711471f581",
   "metadata": {},
   "outputs": [
    {
     "data": {
      "text/plain": [
       "'dnyaneshwari'"
      ]
     },
     "execution_count": 59,
     "metadata": {},
     "output_type": "execute_result"
    }
   ],
   "source": [
    "name.lower()"
   ]
  },
  {
   "cell_type": "code",
   "execution_count": 60,
   "id": "3ceee072-f7a2-4152-bf34-2f113cd1a8e2",
   "metadata": {},
   "outputs": [
    {
     "data": {
      "text/plain": [
       "'Dnyaneshwari'"
      ]
     },
     "execution_count": 60,
     "metadata": {},
     "output_type": "execute_result"
    }
   ],
   "source": [
    "name"
   ]
  },
  {
   "cell_type": "code",
   "execution_count": 61,
   "id": "656db964-bd14-48af-809f-f4b6e296e018",
   "metadata": {},
   "outputs": [
    {
     "data": {
      "text/plain": [
       "'DNYANESHWARI'"
      ]
     },
     "execution_count": 61,
     "metadata": {},
     "output_type": "execute_result"
    }
   ],
   "source": [
    "name.upper()"
   ]
  },
  {
   "cell_type": "code",
   "execution_count": 62,
   "id": "315f035d-c51a-4c54-b3bc-17d61a4109bc",
   "metadata": {},
   "outputs": [
    {
     "data": {
      "text/plain": [
       "'dNYANESHWARI'"
      ]
     },
     "execution_count": 62,
     "metadata": {},
     "output_type": "execute_result"
    }
   ],
   "source": [
    "name.swapcase()"
   ]
  },
  {
   "cell_type": "code",
   "execution_count": 63,
   "id": "f1489ddd-743e-49db-9084-7bdb3d25fc5b",
   "metadata": {},
   "outputs": [
    {
     "data": {
      "text/plain": [
       "12"
      ]
     },
     "execution_count": 63,
     "metadata": {},
     "output_type": "execute_result"
    }
   ],
   "source": [
    "len(name)"
   ]
  },
  {
   "cell_type": "code",
   "execution_count": 64,
   "id": "67f1b6b3-066b-4516-988c-87418d040a08",
   "metadata": {},
   "outputs": [
    {
     "data": {
      "text/plain": [
       "'Dnyaneshwari'"
      ]
     },
     "execution_count": 64,
     "metadata": {},
     "output_type": "execute_result"
    }
   ],
   "source": [
    "name"
   ]
  },
  {
   "cell_type": "code",
   "execution_count": 65,
   "id": "fc5319a5-d532-41e7-a2b8-bfd6cf4998ab",
   "metadata": {},
   "outputs": [
    {
     "data": {
      "text/plain": [
       "False"
      ]
     },
     "execution_count": 65,
     "metadata": {},
     "output_type": "execute_result"
    }
   ],
   "source": [
    "name.islower()"
   ]
  },
  {
   "cell_type": "code",
   "execution_count": 66,
   "id": "0b5cab45-2cad-4375-87e0-60ebdc8ab23b",
   "metadata": {},
   "outputs": [
    {
     "data": {
      "text/plain": [
       "False"
      ]
     },
     "execution_count": 66,
     "metadata": {},
     "output_type": "execute_result"
    }
   ],
   "source": [
    "name.isupper()"
   ]
  },
  {
   "cell_type": "code",
   "execution_count": 67,
   "id": "9e8bf206-8bde-45b0-a7b9-594b135d74cc",
   "metadata": {},
   "outputs": [
    {
     "data": {
      "text/plain": [
       "True"
      ]
     },
     "execution_count": 67,
     "metadata": {},
     "output_type": "execute_result"
    }
   ],
   "source": [
    "name.istitle()"
   ]
  },
  {
   "cell_type": "code",
   "execution_count": 68,
   "id": "d87fe1c9-f37d-4d43-93f6-1cf72b8f3688",
   "metadata": {},
   "outputs": [],
   "source": [
    "n1 = 'ajAY'"
   ]
  },
  {
   "cell_type": "code",
   "execution_count": 69,
   "id": "862ba0f2-6961-48be-b769-dd4a2f54bbd0",
   "metadata": {},
   "outputs": [
    {
     "data": {
      "text/plain": [
       "'AJAY'"
      ]
     },
     "execution_count": 69,
     "metadata": {},
     "output_type": "execute_result"
    }
   ],
   "source": [
    "n1.upper()"
   ]
  },
  {
   "cell_type": "code",
   "execution_count": 70,
   "id": "b9a4fc81-ee2b-404a-b587-770c1213d1be",
   "metadata": {},
   "outputs": [
    {
     "data": {
      "text/plain": [
       "'Ajay'"
      ]
     },
     "execution_count": 70,
     "metadata": {},
     "output_type": "execute_result"
    }
   ],
   "source": [
    "n1.title()"
   ]
  },
  {
   "cell_type": "code",
   "execution_count": 71,
   "id": "3a4251bd-c29d-4e18-9f8e-3386900423a1",
   "metadata": {},
   "outputs": [],
   "source": [
    "a = '23'"
   ]
  },
  {
   "cell_type": "code",
   "execution_count": 72,
   "id": "00b12e5a-8c10-4b9a-add8-09603e6ab36d",
   "metadata": {},
   "outputs": [
    {
     "data": {
      "text/plain": [
       "str"
      ]
     },
     "execution_count": 72,
     "metadata": {},
     "output_type": "execute_result"
    }
   ],
   "source": [
    "type(a)"
   ]
  },
  {
   "cell_type": "code",
   "execution_count": 73,
   "id": "b79d30e5-7091-496b-8ac3-80d696eb1712",
   "metadata": {},
   "outputs": [],
   "source": [
    "data1 = 'Dnyaneshwari'\n",
    "data2 = '5545'\n",
    "data3 = 'A72'"
   ]
  },
  {
   "cell_type": "code",
   "execution_count": 74,
   "id": "2fdc7d51-7da9-40ad-a48a-8f63b8880308",
   "metadata": {},
   "outputs": [
    {
     "data": {
      "text/plain": [
       "True"
      ]
     },
     "execution_count": 74,
     "metadata": {},
     "output_type": "execute_result"
    }
   ],
   "source": [
    "data1.isalpha()"
   ]
  },
  {
   "cell_type": "code",
   "execution_count": 75,
   "id": "b1a063cb-9975-40f8-9790-4915adb7b83c",
   "metadata": {},
   "outputs": [
    {
     "data": {
      "text/plain": [
       "False"
      ]
     },
     "execution_count": 75,
     "metadata": {},
     "output_type": "execute_result"
    }
   ],
   "source": [
    "data2.isalpha()"
   ]
  },
  {
   "cell_type": "code",
   "execution_count": 76,
   "id": "934289f2-9334-49c8-abe3-f85184444eb3",
   "metadata": {},
   "outputs": [
    {
     "data": {
      "text/plain": [
       "False"
      ]
     },
     "execution_count": 76,
     "metadata": {},
     "output_type": "execute_result"
    }
   ],
   "source": [
    "data3.isalpha()"
   ]
  },
  {
   "cell_type": "code",
   "execution_count": 77,
   "id": "3feacf36-ae95-4064-b5a4-b030fe1c33b2",
   "metadata": {},
   "outputs": [
    {
     "data": {
      "text/plain": [
       "False"
      ]
     },
     "execution_count": 77,
     "metadata": {},
     "output_type": "execute_result"
    }
   ],
   "source": [
    "data1.isdigit()"
   ]
  },
  {
   "cell_type": "code",
   "execution_count": 78,
   "id": "e886430d-d004-459a-a086-640accb77a18",
   "metadata": {},
   "outputs": [
    {
     "data": {
      "text/plain": [
       "True"
      ]
     },
     "execution_count": 78,
     "metadata": {},
     "output_type": "execute_result"
    }
   ],
   "source": [
    "data2.isdigit()"
   ]
  },
  {
   "cell_type": "code",
   "execution_count": 79,
   "id": "413a7561-d710-4e45-b624-707a62408455",
   "metadata": {},
   "outputs": [
    {
     "data": {
      "text/plain": [
       "False"
      ]
     },
     "execution_count": 79,
     "metadata": {},
     "output_type": "execute_result"
    }
   ],
   "source": [
    "data3.isdigit()"
   ]
  },
  {
   "cell_type": "code",
   "execution_count": 80,
   "id": "5082b6b3-4841-4aa9-81c5-0b94623d4ab4",
   "metadata": {},
   "outputs": [
    {
     "data": {
      "text/plain": [
       "True"
      ]
     },
     "execution_count": 80,
     "metadata": {},
     "output_type": "execute_result"
    }
   ],
   "source": [
    "data1.isalnum()"
   ]
  },
  {
   "cell_type": "code",
   "execution_count": 82,
   "id": "e1a563a6-4167-4e9f-b774-2d70d360f4ae",
   "metadata": {},
   "outputs": [
    {
     "data": {
      "text/plain": [
       "True"
      ]
     },
     "execution_count": 82,
     "metadata": {},
     "output_type": "execute_result"
    }
   ],
   "source": [
    "data2.isalnum()"
   ]
  },
  {
   "cell_type": "code",
   "execution_count": 83,
   "id": "8a723e10-3f94-4fbc-905f-d4c37bb1d4af",
   "metadata": {},
   "outputs": [
    {
     "data": {
      "text/plain": [
       "True"
      ]
     },
     "execution_count": 83,
     "metadata": {},
     "output_type": "execute_result"
    }
   ],
   "source": [
    "data3.isalnum()"
   ]
  },
  {
   "cell_type": "code",
   "execution_count": 84,
   "id": "1f495458-3ec1-41aa-941f-1c3f6b1e0f4f",
   "metadata": {},
   "outputs": [],
   "source": [
    "data = 'Dnyaneshwari'"
   ]
  },
  {
   "cell_type": "code",
   "execution_count": 85,
   "id": "d7103e9f-dd65-40ba-b255-db125b5801e2",
   "metadata": {},
   "outputs": [
    {
     "name": "stdout",
     "output_type": "stream",
     "text": [
      "Dnyaneshwari\n"
     ]
    }
   ],
   "source": [
    "print(data)"
   ]
  },
  {
   "cell_type": "code",
   "execution_count": 86,
   "id": "173aa59e-47a4-4ff6-9076-cf01c1c69d04",
   "metadata": {},
   "outputs": [
    {
     "data": {
      "text/plain": [
       "'Dnyaneshwari'"
      ]
     },
     "execution_count": 86,
     "metadata": {},
     "output_type": "execute_result"
    }
   ],
   "source": [
    "data.lstrip()"
   ]
  },
  {
   "cell_type": "code",
   "execution_count": 87,
   "id": "0b613907-1974-4e9c-af04-e42e3e3b3532",
   "metadata": {},
   "outputs": [
    {
     "data": {
      "text/plain": [
       "'Dnyaneshwari'"
      ]
     },
     "execution_count": 87,
     "metadata": {},
     "output_type": "execute_result"
    }
   ],
   "source": [
    "data.rstrip()"
   ]
  },
  {
   "cell_type": "code",
   "execution_count": 88,
   "id": "8b6e766e-d8c1-487d-a090-f854f64c1376",
   "metadata": {},
   "outputs": [
    {
     "data": {
      "text/plain": [
       "'Dnyaneshwari'"
      ]
     },
     "execution_count": 88,
     "metadata": {},
     "output_type": "execute_result"
    }
   ],
   "source": [
    "data = data.strip()\n",
    "data"
   ]
  },
  {
   "cell_type": "code",
   "execution_count": 89,
   "id": "44e7f78c-680b-4870-81a4-d24797ca8cf8",
   "metadata": {},
   "outputs": [
    {
     "data": {
      "text/plain": [
       "'Dnyaneshwari'"
      ]
     },
     "execution_count": 89,
     "metadata": {},
     "output_type": "execute_result"
    }
   ],
   "source": [
    "data"
   ]
  },
  {
   "cell_type": "code",
   "execution_count": 91,
   "id": "ef6761f0-2935-429f-8ca5-a4ba39d89992",
   "metadata": {},
   "outputs": [
    {
     "data": {
      "text/plain": [
       "True"
      ]
     },
     "execution_count": 91,
     "metadata": {},
     "output_type": "execute_result"
    }
   ],
   "source": [
    "data.startswith('D')"
   ]
  },
  {
   "cell_type": "code",
   "execution_count": 93,
   "id": "0329a045-b683-4715-bda8-79e12c9cd86c",
   "metadata": {},
   "outputs": [
    {
     "data": {
      "text/plain": [
       "True"
      ]
     },
     "execution_count": 93,
     "metadata": {},
     "output_type": "execute_result"
    }
   ],
   "source": [
    "data.startswith('Dn')"
   ]
  },
  {
   "cell_type": "code",
   "execution_count": 94,
   "id": "3064d7b4-a444-4027-8763-5d2299a165e5",
   "metadata": {},
   "outputs": [
    {
     "data": {
      "text/plain": [
       "True"
      ]
     },
     "execution_count": 94,
     "metadata": {},
     "output_type": "execute_result"
    }
   ],
   "source": [
    "data.endswith('i')"
   ]
  },
  {
   "cell_type": "code",
   "execution_count": 95,
   "id": "ff9cdf57-a776-4b09-b427-70f426e0c080",
   "metadata": {},
   "outputs": [
    {
     "data": {
      "text/plain": [
       "'dnyaneshwari'"
      ]
     },
     "execution_count": 95,
     "metadata": {},
     "output_type": "execute_result"
    }
   ],
   "source": [
    "data.replace('D' ,'d')"
   ]
  },
  {
   "cell_type": "code",
   "execution_count": 96,
   "id": "60193fa6-6bfd-46f7-b199-bb0f5fc89345",
   "metadata": {},
   "outputs": [
    {
     "data": {
      "text/plain": [
       "'Dnyaneshwari'"
      ]
     },
     "execution_count": 96,
     "metadata": {},
     "output_type": "execute_result"
    }
   ],
   "source": [
    "data"
   ]
  },
  {
   "cell_type": "code",
   "execution_count": 98,
   "id": "113d6457-53d1-4b92-aebd-05b2e5009ec3",
   "metadata": {},
   "outputs": [
    {
     "data": {
      "text/plain": [
       "-1"
      ]
     },
     "execution_count": 98,
     "metadata": {},
     "output_type": "execute_result"
    }
   ],
   "source": [
    "data.find('d')"
   ]
  },
  {
   "cell_type": "code",
   "execution_count": 99,
   "id": "9accabfe-02f7-42dc-87e4-aaf80877ead9",
   "metadata": {},
   "outputs": [
    {
     "data": {
      "text/plain": [
       "['__add__',\n",
       " '__class__',\n",
       " '__contains__',\n",
       " '__delattr__',\n",
       " '__dir__',\n",
       " '__doc__',\n",
       " '__eq__',\n",
       " '__format__',\n",
       " '__ge__',\n",
       " '__getattribute__',\n",
       " '__getitem__',\n",
       " '__getnewargs__',\n",
       " '__getstate__',\n",
       " '__gt__',\n",
       " '__hash__',\n",
       " '__init__',\n",
       " '__init_subclass__',\n",
       " '__iter__',\n",
       " '__le__',\n",
       " '__len__',\n",
       " '__lt__',\n",
       " '__mod__',\n",
       " '__mul__',\n",
       " '__ne__',\n",
       " '__new__',\n",
       " '__reduce__',\n",
       " '__reduce_ex__',\n",
       " '__repr__',\n",
       " '__rmod__',\n",
       " '__rmul__',\n",
       " '__setattr__',\n",
       " '__sizeof__',\n",
       " '__str__',\n",
       " '__subclasshook__',\n",
       " 'capitalize',\n",
       " 'casefold',\n",
       " 'center',\n",
       " 'count',\n",
       " 'encode',\n",
       " 'endswith',\n",
       " 'expandtabs',\n",
       " 'find',\n",
       " 'format',\n",
       " 'format_map',\n",
       " 'index',\n",
       " 'isalnum',\n",
       " 'isalpha',\n",
       " 'isascii',\n",
       " 'isdecimal',\n",
       " 'isdigit',\n",
       " 'isidentifier',\n",
       " 'islower',\n",
       " 'isnumeric',\n",
       " 'isprintable',\n",
       " 'isspace',\n",
       " 'istitle',\n",
       " 'isupper',\n",
       " 'join',\n",
       " 'ljust',\n",
       " 'lower',\n",
       " 'lstrip',\n",
       " 'maketrans',\n",
       " 'partition',\n",
       " 'removeprefix',\n",
       " 'removesuffix',\n",
       " 'replace',\n",
       " 'rfind',\n",
       " 'rindex',\n",
       " 'rjust',\n",
       " 'rpartition',\n",
       " 'rsplit',\n",
       " 'rstrip',\n",
       " 'split',\n",
       " 'splitlines',\n",
       " 'startswith',\n",
       " 'strip',\n",
       " 'swapcase',\n",
       " 'title',\n",
       " 'translate',\n",
       " 'upper',\n",
       " 'zfill']"
      ]
     },
     "execution_count": 99,
     "metadata": {},
     "output_type": "execute_result"
    }
   ],
   "source": [
    "dir(data)"
   ]
  },
  {
   "cell_type": "code",
   "execution_count": 100,
   "id": "9d454a1f-a4fc-4660-9cf5-d36392ce86cc",
   "metadata": {},
   "outputs": [
    {
     "name": "stdout",
     "output_type": "stream",
     "text": [
      "Help on built-in function isdecimal:\n",
      "\n",
      "isdecimal() method of builtins.str instance\n",
      "    Return True if the string is a decimal string, False otherwise.\n",
      "    \n",
      "    A string is a decimal string if all characters in the string are decimal and\n",
      "    there is at least one character in the string.\n",
      "\n"
     ]
    }
   ],
   "source": [
    "help(data.isdecimal)"
   ]
  },
  {
   "cell_type": "code",
   "execution_count": 101,
   "id": "9b044807-f663-4c6d-a903-598a84c37459",
   "metadata": {},
   "outputs": [
    {
     "name": "stdout",
     "output_type": "stream",
     "text": [
      "Help on class str in module builtins:\n",
      "\n",
      "class str(object)\n",
      " |  str(object='') -> str\n",
      " |  str(bytes_or_buffer[, encoding[, errors]]) -> str\n",
      " |  \n",
      " |  Create a new string object from the given object. If encoding or\n",
      " |  errors is specified, then the object must expose a data buffer\n",
      " |  that will be decoded using the given encoding and error handler.\n",
      " |  Otherwise, returns the result of object.__str__() (if defined)\n",
      " |  or repr(object).\n",
      " |  encoding defaults to sys.getdefaultencoding().\n",
      " |  errors defaults to 'strict'.\n",
      " |  \n",
      " |  Methods defined here:\n",
      " |  \n",
      " |  __add__(self, value, /)\n",
      " |      Return self+value.\n",
      " |  \n",
      " |  __contains__(self, key, /)\n",
      " |      Return key in self.\n",
      " |  \n",
      " |  __eq__(self, value, /)\n",
      " |      Return self==value.\n",
      " |  \n",
      " |  __format__(self, format_spec, /)\n",
      " |      Return a formatted version of the string as described by format_spec.\n",
      " |  \n",
      " |  __ge__(self, value, /)\n",
      " |      Return self>=value.\n",
      " |  \n",
      " |  __getattribute__(self, name, /)\n",
      " |      Return getattr(self, name).\n",
      " |  \n",
      " |  __getitem__(self, key, /)\n",
      " |      Return self[key].\n",
      " |  \n",
      " |  __getnewargs__(...)\n",
      " |  \n",
      " |  __gt__(self, value, /)\n",
      " |      Return self>value.\n",
      " |  \n",
      " |  __hash__(self, /)\n",
      " |      Return hash(self).\n",
      " |  \n",
      " |  __iter__(self, /)\n",
      " |      Implement iter(self).\n",
      " |  \n",
      " |  __le__(self, value, /)\n",
      " |      Return self<=value.\n",
      " |  \n",
      " |  __len__(self, /)\n",
      " |      Return len(self).\n",
      " |  \n",
      " |  __lt__(self, value, /)\n",
      " |      Return self<value.\n",
      " |  \n",
      " |  __mod__(self, value, /)\n",
      " |      Return self%value.\n",
      " |  \n",
      " |  __mul__(self, value, /)\n",
      " |      Return self*value.\n",
      " |  \n",
      " |  __ne__(self, value, /)\n",
      " |      Return self!=value.\n",
      " |  \n",
      " |  __repr__(self, /)\n",
      " |      Return repr(self).\n",
      " |  \n",
      " |  __rmod__(self, value, /)\n",
      " |      Return value%self.\n",
      " |  \n",
      " |  __rmul__(self, value, /)\n",
      " |      Return value*self.\n",
      " |  \n",
      " |  __sizeof__(self, /)\n",
      " |      Return the size of the string in memory, in bytes.\n",
      " |  \n",
      " |  __str__(self, /)\n",
      " |      Return str(self).\n",
      " |  \n",
      " |  capitalize(self, /)\n",
      " |      Return a capitalized version of the string.\n",
      " |      \n",
      " |      More specifically, make the first character have upper case and the rest lower\n",
      " |      case.\n",
      " |  \n",
      " |  casefold(self, /)\n",
      " |      Return a version of the string suitable for caseless comparisons.\n",
      " |  \n",
      " |  center(self, width, fillchar=' ', /)\n",
      " |      Return a centered string of length width.\n",
      " |      \n",
      " |      Padding is done using the specified fill character (default is a space).\n",
      " |  \n",
      " |  count(...)\n",
      " |      S.count(sub[, start[, end]]) -> int\n",
      " |      \n",
      " |      Return the number of non-overlapping occurrences of substring sub in\n",
      " |      string S[start:end].  Optional arguments start and end are\n",
      " |      interpreted as in slice notation.\n",
      " |  \n",
      " |  encode(self, /, encoding='utf-8', errors='strict')\n",
      " |      Encode the string using the codec registered for encoding.\n",
      " |      \n",
      " |      encoding\n",
      " |        The encoding in which to encode the string.\n",
      " |      errors\n",
      " |        The error handling scheme to use for encoding errors.\n",
      " |        The default is 'strict' meaning that encoding errors raise a\n",
      " |        UnicodeEncodeError.  Other possible values are 'ignore', 'replace' and\n",
      " |        'xmlcharrefreplace' as well as any other name registered with\n",
      " |        codecs.register_error that can handle UnicodeEncodeErrors.\n",
      " |  \n",
      " |  endswith(...)\n",
      " |      S.endswith(suffix[, start[, end]]) -> bool\n",
      " |      \n",
      " |      Return True if S ends with the specified suffix, False otherwise.\n",
      " |      With optional start, test S beginning at that position.\n",
      " |      With optional end, stop comparing S at that position.\n",
      " |      suffix can also be a tuple of strings to try.\n",
      " |  \n",
      " |  expandtabs(self, /, tabsize=8)\n",
      " |      Return a copy where all tab characters are expanded using spaces.\n",
      " |      \n",
      " |      If tabsize is not given, a tab size of 8 characters is assumed.\n",
      " |  \n",
      " |  find(...)\n",
      " |      S.find(sub[, start[, end]]) -> int\n",
      " |      \n",
      " |      Return the lowest index in S where substring sub is found,\n",
      " |      such that sub is contained within S[start:end].  Optional\n",
      " |      arguments start and end are interpreted as in slice notation.\n",
      " |      \n",
      " |      Return -1 on failure.\n",
      " |  \n",
      " |  format(...)\n",
      " |      S.format(*args, **kwargs) -> str\n",
      " |      \n",
      " |      Return a formatted version of S, using substitutions from args and kwargs.\n",
      " |      The substitutions are identified by braces ('{' and '}').\n",
      " |  \n",
      " |  format_map(...)\n",
      " |      S.format_map(mapping) -> str\n",
      " |      \n",
      " |      Return a formatted version of S, using substitutions from mapping.\n",
      " |      The substitutions are identified by braces ('{' and '}').\n",
      " |  \n",
      " |  index(...)\n",
      " |      S.index(sub[, start[, end]]) -> int\n",
      " |      \n",
      " |      Return the lowest index in S where substring sub is found,\n",
      " |      such that sub is contained within S[start:end].  Optional\n",
      " |      arguments start and end are interpreted as in slice notation.\n",
      " |      \n",
      " |      Raises ValueError when the substring is not found.\n",
      " |  \n",
      " |  isalnum(self, /)\n",
      " |      Return True if the string is an alpha-numeric string, False otherwise.\n",
      " |      \n",
      " |      A string is alpha-numeric if all characters in the string are alpha-numeric and\n",
      " |      there is at least one character in the string.\n",
      " |  \n",
      " |  isalpha(self, /)\n",
      " |      Return True if the string is an alphabetic string, False otherwise.\n",
      " |      \n",
      " |      A string is alphabetic if all characters in the string are alphabetic and there\n",
      " |      is at least one character in the string.\n",
      " |  \n",
      " |  isascii(self, /)\n",
      " |      Return True if all characters in the string are ASCII, False otherwise.\n",
      " |      \n",
      " |      ASCII characters have code points in the range U+0000-U+007F.\n",
      " |      Empty string is ASCII too.\n",
      " |  \n",
      " |  isdecimal(self, /)\n",
      " |      Return True if the string is a decimal string, False otherwise.\n",
      " |      \n",
      " |      A string is a decimal string if all characters in the string are decimal and\n",
      " |      there is at least one character in the string.\n",
      " |  \n",
      " |  isdigit(self, /)\n",
      " |      Return True if the string is a digit string, False otherwise.\n",
      " |      \n",
      " |      A string is a digit string if all characters in the string are digits and there\n",
      " |      is at least one character in the string.\n",
      " |  \n",
      " |  isidentifier(self, /)\n",
      " |      Return True if the string is a valid Python identifier, False otherwise.\n",
      " |      \n",
      " |      Call keyword.iskeyword(s) to test whether string s is a reserved identifier,\n",
      " |      such as \"def\" or \"class\".\n",
      " |  \n",
      " |  islower(self, /)\n",
      " |      Return True if the string is a lowercase string, False otherwise.\n",
      " |      \n",
      " |      A string is lowercase if all cased characters in the string are lowercase and\n",
      " |      there is at least one cased character in the string.\n",
      " |  \n",
      " |  isnumeric(self, /)\n",
      " |      Return True if the string is a numeric string, False otherwise.\n",
      " |      \n",
      " |      A string is numeric if all characters in the string are numeric and there is at\n",
      " |      least one character in the string.\n",
      " |  \n",
      " |  isprintable(self, /)\n",
      " |      Return True if the string is printable, False otherwise.\n",
      " |      \n",
      " |      A string is printable if all of its characters are considered printable in\n",
      " |      repr() or if it is empty.\n",
      " |  \n",
      " |  isspace(self, /)\n",
      " |      Return True if the string is a whitespace string, False otherwise.\n",
      " |      \n",
      " |      A string is whitespace if all characters in the string are whitespace and there\n",
      " |      is at least one character in the string.\n",
      " |  \n",
      " |  istitle(self, /)\n",
      " |      Return True if the string is a title-cased string, False otherwise.\n",
      " |      \n",
      " |      In a title-cased string, upper- and title-case characters may only\n",
      " |      follow uncased characters and lowercase characters only cased ones.\n",
      " |  \n",
      " |  isupper(self, /)\n",
      " |      Return True if the string is an uppercase string, False otherwise.\n",
      " |      \n",
      " |      A string is uppercase if all cased characters in the string are uppercase and\n",
      " |      there is at least one cased character in the string.\n",
      " |  \n",
      " |  join(self, iterable, /)\n",
      " |      Concatenate any number of strings.\n",
      " |      \n",
      " |      The string whose method is called is inserted in between each given string.\n",
      " |      The result is returned as a new string.\n",
      " |      \n",
      " |      Example: '.'.join(['ab', 'pq', 'rs']) -> 'ab.pq.rs'\n",
      " |  \n",
      " |  ljust(self, width, fillchar=' ', /)\n",
      " |      Return a left-justified string of length width.\n",
      " |      \n",
      " |      Padding is done using the specified fill character (default is a space).\n",
      " |  \n",
      " |  lower(self, /)\n",
      " |      Return a copy of the string converted to lowercase.\n",
      " |  \n",
      " |  lstrip(self, chars=None, /)\n",
      " |      Return a copy of the string with leading whitespace removed.\n",
      " |      \n",
      " |      If chars is given and not None, remove characters in chars instead.\n",
      " |  \n",
      " |  partition(self, sep, /)\n",
      " |      Partition the string into three parts using the given separator.\n",
      " |      \n",
      " |      This will search for the separator in the string.  If the separator is found,\n",
      " |      returns a 3-tuple containing the part before the separator, the separator\n",
      " |      itself, and the part after it.\n",
      " |      \n",
      " |      If the separator is not found, returns a 3-tuple containing the original string\n",
      " |      and two empty strings.\n",
      " |  \n",
      " |  removeprefix(self, prefix, /)\n",
      " |      Return a str with the given prefix string removed if present.\n",
      " |      \n",
      " |      If the string starts with the prefix string, return string[len(prefix):].\n",
      " |      Otherwise, return a copy of the original string.\n",
      " |  \n",
      " |  removesuffix(self, suffix, /)\n",
      " |      Return a str with the given suffix string removed if present.\n",
      " |      \n",
      " |      If the string ends with the suffix string and that suffix is not empty,\n",
      " |      return string[:-len(suffix)]. Otherwise, return a copy of the original\n",
      " |      string.\n",
      " |  \n",
      " |  replace(self, old, new, count=-1, /)\n",
      " |      Return a copy with all occurrences of substring old replaced by new.\n",
      " |      \n",
      " |        count\n",
      " |          Maximum number of occurrences to replace.\n",
      " |          -1 (the default value) means replace all occurrences.\n",
      " |      \n",
      " |      If the optional argument count is given, only the first count occurrences are\n",
      " |      replaced.\n",
      " |  \n",
      " |  rfind(...)\n",
      " |      S.rfind(sub[, start[, end]]) -> int\n",
      " |      \n",
      " |      Return the highest index in S where substring sub is found,\n",
      " |      such that sub is contained within S[start:end].  Optional\n",
      " |      arguments start and end are interpreted as in slice notation.\n",
      " |      \n",
      " |      Return -1 on failure.\n",
      " |  \n",
      " |  rindex(...)\n",
      " |      S.rindex(sub[, start[, end]]) -> int\n",
      " |      \n",
      " |      Return the highest index in S where substring sub is found,\n",
      " |      such that sub is contained within S[start:end].  Optional\n",
      " |      arguments start and end are interpreted as in slice notation.\n",
      " |      \n",
      " |      Raises ValueError when the substring is not found.\n",
      " |  \n",
      " |  rjust(self, width, fillchar=' ', /)\n",
      " |      Return a right-justified string of length width.\n",
      " |      \n",
      " |      Padding is done using the specified fill character (default is a space).\n",
      " |  \n",
      " |  rpartition(self, sep, /)\n",
      " |      Partition the string into three parts using the given separator.\n",
      " |      \n",
      " |      This will search for the separator in the string, starting at the end. If\n",
      " |      the separator is found, returns a 3-tuple containing the part before the\n",
      " |      separator, the separator itself, and the part after it.\n",
      " |      \n",
      " |      If the separator is not found, returns a 3-tuple containing two empty strings\n",
      " |      and the original string.\n",
      " |  \n",
      " |  rsplit(self, /, sep=None, maxsplit=-1)\n",
      " |      Return a list of the substrings in the string, using sep as the separator string.\n",
      " |      \n",
      " |        sep\n",
      " |          The separator used to split the string.\n",
      " |      \n",
      " |          When set to None (the default value), will split on any whitespace\n",
      " |          character (including \\n \\r \\t \\f and spaces) and will discard\n",
      " |          empty strings from the result.\n",
      " |        maxsplit\n",
      " |          Maximum number of splits (starting from the left).\n",
      " |          -1 (the default value) means no limit.\n",
      " |      \n",
      " |      Splitting starts at the end of the string and works to the front.\n",
      " |  \n",
      " |  rstrip(self, chars=None, /)\n",
      " |      Return a copy of the string with trailing whitespace removed.\n",
      " |      \n",
      " |      If chars is given and not None, remove characters in chars instead.\n",
      " |  \n",
      " |  split(self, /, sep=None, maxsplit=-1)\n",
      " |      Return a list of the substrings in the string, using sep as the separator string.\n",
      " |      \n",
      " |        sep\n",
      " |          The separator used to split the string.\n",
      " |      \n",
      " |          When set to None (the default value), will split on any whitespace\n",
      " |          character (including \\n \\r \\t \\f and spaces) and will discard\n",
      " |          empty strings from the result.\n",
      " |        maxsplit\n",
      " |          Maximum number of splits (starting from the left).\n",
      " |          -1 (the default value) means no limit.\n",
      " |      \n",
      " |      Note, str.split() is mainly useful for data that has been intentionally\n",
      " |      delimited.  With natural text that includes punctuation, consider using\n",
      " |      the regular expression module.\n",
      " |  \n",
      " |  splitlines(self, /, keepends=False)\n",
      " |      Return a list of the lines in the string, breaking at line boundaries.\n",
      " |      \n",
      " |      Line breaks are not included in the resulting list unless keepends is given and\n",
      " |      true.\n",
      " |  \n",
      " |  startswith(...)\n",
      " |      S.startswith(prefix[, start[, end]]) -> bool\n",
      " |      \n",
      " |      Return True if S starts with the specified prefix, False otherwise.\n",
      " |      With optional start, test S beginning at that position.\n",
      " |      With optional end, stop comparing S at that position.\n",
      " |      prefix can also be a tuple of strings to try.\n",
      " |  \n",
      " |  strip(self, chars=None, /)\n",
      " |      Return a copy of the string with leading and trailing whitespace removed.\n",
      " |      \n",
      " |      If chars is given and not None, remove characters in chars instead.\n",
      " |  \n",
      " |  swapcase(self, /)\n",
      " |      Convert uppercase characters to lowercase and lowercase characters to uppercase.\n",
      " |  \n",
      " |  title(self, /)\n",
      " |      Return a version of the string where each word is titlecased.\n",
      " |      \n",
      " |      More specifically, words start with uppercased characters and all remaining\n",
      " |      cased characters have lower case.\n",
      " |  \n",
      " |  translate(self, table, /)\n",
      " |      Replace each character in the string using the given translation table.\n",
      " |      \n",
      " |        table\n",
      " |          Translation table, which must be a mapping of Unicode ordinals to\n",
      " |          Unicode ordinals, strings, or None.\n",
      " |      \n",
      " |      The table must implement lookup/indexing via __getitem__, for instance a\n",
      " |      dictionary or list.  If this operation raises LookupError, the character is\n",
      " |      left untouched.  Characters mapped to None are deleted.\n",
      " |  \n",
      " |  upper(self, /)\n",
      " |      Return a copy of the string converted to uppercase.\n",
      " |  \n",
      " |  zfill(self, width, /)\n",
      " |      Pad a numeric string with zeros on the left, to fill a field of the given width.\n",
      " |      \n",
      " |      The string is never truncated.\n",
      " |  \n",
      " |  ----------------------------------------------------------------------\n",
      " |  Static methods defined here:\n",
      " |  \n",
      " |  __new__(*args, **kwargs) from builtins.type\n",
      " |      Create and return a new object.  See help(type) for accurate signature.\n",
      " |  \n",
      " |  maketrans(...)\n",
      " |      Return a translation table usable for str.translate().\n",
      " |      \n",
      " |      If there is only one argument, it must be a dictionary mapping Unicode\n",
      " |      ordinals (integers) or characters to Unicode ordinals, strings or None.\n",
      " |      Character keys will be then converted to ordinals.\n",
      " |      If there are two arguments, they must be strings of equal length, and\n",
      " |      in the resulting dictionary, each character in x will be mapped to the\n",
      " |      character at the same position in y. If there is a third argument, it\n",
      " |      must be a string, whose characters will be mapped to None in the result.\n",
      "\n"
     ]
    }
   ],
   "source": [
    "help(str)"
   ]
  },
  {
   "cell_type": "code",
   "execution_count": 102,
   "id": "1e0beaba-5b49-481a-b0e4-03f85ecdd8f8",
   "metadata": {},
   "outputs": [],
   "source": [
    "## String Concatenation"
   ]
  },
  {
   "cell_type": "code",
   "execution_count": 103,
   "id": "84d38658-7f54-49ac-9485-f1d3d0dfb7a8",
   "metadata": {},
   "outputs": [],
   "source": [
    "name1 = 'Hello'\n",
    "name2 = 'World'"
   ]
  },
  {
   "cell_type": "code",
   "execution_count": 104,
   "id": "c0fa10b5-25a7-41a8-a478-a8e50079cce8",
   "metadata": {},
   "outputs": [
    {
     "name": "stdout",
     "output_type": "stream",
     "text": [
      "HelloWorld\n"
     ]
    }
   ],
   "source": [
    "result = name1 + name2\n",
    "print(result)"
   ]
  },
  {
   "cell_type": "code",
   "execution_count": 105,
   "id": "5a5e1b1b-fca4-441d-9b4a-54e5841aa3ae",
   "metadata": {},
   "outputs": [
    {
     "data": {
      "text/plain": [
       "'HelloHelloHello'"
      ]
     },
     "execution_count": 105,
     "metadata": {},
     "output_type": "execute_result"
    }
   ],
   "source": [
    "## String repeatation\n",
    "\n",
    "name1 * 3"
   ]
  },
  {
   "cell_type": "code",
   "execution_count": 106,
   "id": "f623792e-11a2-4752-b94c-fe544673d41a",
   "metadata": {},
   "outputs": [],
   "source": [
    "## Escape Sequence"
   ]
  },
  {
   "cell_type": "code",
   "execution_count": 107,
   "id": "4e657578-73e1-4429-9154-ccf9f5a8f26c",
   "metadata": {},
   "outputs": [
    {
     "name": "stdout",
     "output_type": "stream",
     "text": [
      "Hello World\n"
     ]
    }
   ],
   "source": [
    "print('Hello World')"
   ]
  },
  {
   "cell_type": "code",
   "execution_count": 108,
   "id": "2ae69a6a-9efb-4e46-9c36-acfc2d13ffce",
   "metadata": {},
   "outputs": [
    {
     "name": "stdout",
     "output_type": "stream",
     "text": [
      "Hello\n",
      "World\n"
     ]
    }
   ],
   "source": [
    "print('Hello\\nWorld')"
   ]
  },
  {
   "cell_type": "code",
   "execution_count": 109,
   "id": "36f479b3-a622-4881-b71a-d53eb553d93a",
   "metadata": {},
   "outputs": [
    {
     "name": "stdout",
     "output_type": "stream",
     "text": [
      "Hello\tWorld\n"
     ]
    }
   ],
   "source": [
    "print('Hello\\tWorld')"
   ]
  },
  {
   "cell_type": "code",
   "execution_count": 111,
   "id": "30dfdd61-204c-42e7-8b6a-4233e53ceb72",
   "metadata": {},
   "outputs": [
    {
     "name": "stdout",
     "output_type": "stream",
     "text": [
      "Hello'World\n"
     ]
    }
   ],
   "source": [
    "print('Hello\\'World')"
   ]
  },
  {
   "cell_type": "code",
   "execution_count": 112,
   "id": "84b1f49a-ec7c-40a7-8826-fd933f45da2d",
   "metadata": {},
   "outputs": [
    {
     "name": "stdout",
     "output_type": "stream",
     "text": [
      " this is first line\n",
      "this is 2nd line\n",
      "this is 3rd line\n"
     ]
    }
   ],
   "source": [
    "## docstring\n",
    "\n",
    "print(''' this is first line\n",
    "this is 2nd line\n",
    "this is 3rd line''')"
   ]
  },
  {
   "cell_type": "code",
   "execution_count": 113,
   "id": "000bef3e-f1dd-42de-bf4c-c2148c60ecc8",
   "metadata": {},
   "outputs": [],
   "source": [
    "## ASCII"
   ]
  },
  {
   "cell_type": "code",
   "execution_count": 114,
   "id": "4abe53ab-a627-4f7e-9130-66516a533c60",
   "metadata": {},
   "outputs": [
    {
     "data": {
      "text/plain": [
       "68"
      ]
     },
     "execution_count": 114,
     "metadata": {},
     "output_type": "execute_result"
    }
   ],
   "source": [
    "ord('D')"
   ]
  },
  {
   "cell_type": "code",
   "execution_count": 115,
   "id": "3047f16d-f897-4da2-bd79-7d2ff3b61524",
   "metadata": {},
   "outputs": [
    {
     "data": {
      "text/plain": [
       "100"
      ]
     },
     "execution_count": 115,
     "metadata": {},
     "output_type": "execute_result"
    }
   ],
   "source": [
    "ord('d')"
   ]
  },
  {
   "cell_type": "code",
   "execution_count": 116,
   "id": "15a91335-3aa9-45d3-9595-f072ab6b12a5",
   "metadata": {},
   "outputs": [
    {
     "data": {
      "text/plain": [
       "35"
      ]
     },
     "execution_count": 116,
     "metadata": {},
     "output_type": "execute_result"
    }
   ],
   "source": [
    "ord('#')"
   ]
  },
  {
   "cell_type": "code",
   "execution_count": 117,
   "id": "3c2c49f4-94d6-4aac-9010-5d09d5dfd703",
   "metadata": {},
   "outputs": [
    {
     "data": {
      "text/plain": [
       "'-'"
      ]
     },
     "execution_count": 117,
     "metadata": {},
     "output_type": "execute_result"
    }
   ],
   "source": [
    "chr(45)"
   ]
  },
  {
   "cell_type": "code",
   "execution_count": 118,
   "id": "70ff53bf-8cff-454f-b1b8-4366184f23af",
   "metadata": {},
   "outputs": [
    {
     "data": {
      "text/plain": [
       "'a'"
      ]
     },
     "execution_count": 118,
     "metadata": {},
     "output_type": "execute_result"
    }
   ],
   "source": [
    "chr(97)"
   ]
  },
  {
   "cell_type": "code",
   "execution_count": 119,
   "id": "9299c23d-126e-4d44-a89c-7f7e355b167f",
   "metadata": {},
   "outputs": [
    {
     "data": {
      "text/plain": [
       "'²'"
      ]
     },
     "execution_count": 119,
     "metadata": {},
     "output_type": "execute_result"
    }
   ],
   "source": [
    "chr(178)"
   ]
  },
  {
   "cell_type": "code",
   "execution_count": 120,
   "id": "d087b89b-df1c-4daa-a99e-ec8648ca3ef1",
   "metadata": {},
   "outputs": [
    {
     "data": {
      "text/plain": [
       "'x²'"
      ]
     },
     "execution_count": 120,
     "metadata": {},
     "output_type": "execute_result"
    }
   ],
   "source": [
    "'x' + chr(178)"
   ]
  },
  {
   "cell_type": "code",
   "execution_count": 122,
   "id": "a088ab78-5e75-4f1b-8451-1dac7fd3ffc2",
   "metadata": {},
   "outputs": [],
   "source": [
    "# print function\n",
    "name = 'Riya'\n",
    "marks = 78.23"
   ]
  },
  {
   "cell_type": "code",
   "execution_count": 127,
   "id": "250f9c48-73f1-4474-aae4-7b15fa544c4f",
   "metadata": {},
   "outputs": [
    {
     "name": "stdout",
     "output_type": "stream",
     "text": [
      "my name is Riya and marks are 78.23\n"
     ]
    }
   ],
   "source": [
    "# my name is Riya and marks are 78.23\n",
    "\n",
    "print('my name is',name, 'and marks are',marks)"
   ]
  },
  {
   "cell_type": "code",
   "execution_count": 131,
   "id": "8d1f4121-a4c0-4889-a21f-eac672458865",
   "metadata": {},
   "outputs": [
    {
     "name": "stdout",
     "output_type": "stream",
     "text": [
      "my name is %s and marks are %f Riya 78.23\n"
     ]
    }
   ],
   "source": [
    "## formatted print\n",
    "\n",
    "print('my name is %s and marks are %f',name,marks)"
   ]
  },
  {
   "cell_type": "code",
   "execution_count": 132,
   "id": "f1fef384-0ae2-4be9-856e-331a97621230",
   "metadata": {},
   "outputs": [],
   "source": [
    "city = 'Pune'"
   ]
  },
  {
   "cell_type": "code",
   "execution_count": 133,
   "id": "9afa53c3-2ab3-4050-ae69-26cfd8639dfd",
   "metadata": {},
   "outputs": [
    {
     "name": "stdout",
     "output_type": "stream",
     "text": [
      "Riya 78.23 Pune\n"
     ]
    }
   ],
   "source": [
    "print(name, marks, city)"
   ]
  },
  {
   "cell_type": "code",
   "execution_count": 134,
   "id": "c282ae3b-84f6-4b33-8a8c-1396d8b102f6",
   "metadata": {},
   "outputs": [
    {
     "name": "stdout",
     "output_type": "stream",
     "text": [
      "Riya\n",
      "78.23\n",
      "Pune\n"
     ]
    }
   ],
   "source": [
    "print(name, marks, city, sep = '\\n')"
   ]
  },
  {
   "cell_type": "code",
   "execution_count": 135,
   "id": "c54cfaa3-d8b8-4822-a24d-d5d07f946acf",
   "metadata": {},
   "outputs": [
    {
     "name": "stdout",
     "output_type": "stream",
     "text": [
      "Riya\t78.23\tPune\n"
     ]
    }
   ],
   "source": [
    "print(name, marks, city, sep = '\\t')"
   ]
  },
  {
   "cell_type": "code",
   "execution_count": 137,
   "id": "07c370cf-18ff-4ddd-ac0e-4694b375d7e1",
   "metadata": {},
   "outputs": [
    {
     "name": "stdout",
     "output_type": "stream",
     "text": [
      "Riya*78.23*Pune\n"
     ]
    }
   ],
   "source": [
    "print(name, marks, city, sep = '*')"
   ]
  },
  {
   "cell_type": "code",
   "execution_count": 138,
   "id": "92187d07-4ac4-4fa6-bf88-969356cc5395",
   "metadata": {},
   "outputs": [
    {
     "name": "stdout",
     "output_type": "stream",
     "text": [
      "Riya 78.23 Pune*"
     ]
    }
   ],
   "source": [
    "print(name, marks, city, end = '*')"
   ]
  },
  {
   "cell_type": "code",
   "execution_count": 139,
   "id": "23b83962-614a-4be0-8f88-42df0527e21f",
   "metadata": {},
   "outputs": [],
   "source": [
    "##  Operators"
   ]
  },
  {
   "cell_type": "code",
   "execution_count": 140,
   "id": "6d3a8eab-10a5-4353-8cc5-7a11d00358b3",
   "metadata": {},
   "outputs": [],
   "source": [
    "### Arithmetic"
   ]
  },
  {
   "cell_type": "code",
   "execution_count": 141,
   "id": "255b4400-2583-46c3-b793-3805d308bef4",
   "metadata": {},
   "outputs": [],
   "source": [
    "num1 = 12\n",
    "num2 = 5"
   ]
  },
  {
   "cell_type": "code",
   "execution_count": 142,
   "id": "0e6e6950-c8c5-4c0d-b0ab-a971d548cb31",
   "metadata": {},
   "outputs": [
    {
     "data": {
      "text/plain": [
       "17"
      ]
     },
     "execution_count": 142,
     "metadata": {},
     "output_type": "execute_result"
    }
   ],
   "source": [
    "num1 + num2"
   ]
  },
  {
   "cell_type": "code",
   "execution_count": 143,
   "id": "04198a01-9795-49d7-8504-d9b0c3e03bf7",
   "metadata": {},
   "outputs": [
    {
     "data": {
      "text/plain": [
       "7"
      ]
     },
     "execution_count": 143,
     "metadata": {},
     "output_type": "execute_result"
    }
   ],
   "source": [
    "num1 - num2"
   ]
  },
  {
   "cell_type": "code",
   "execution_count": 144,
   "id": "c99b0e64-ddc7-4c41-a6c2-26cd0082efea",
   "metadata": {},
   "outputs": [
    {
     "data": {
      "text/plain": [
       "60"
      ]
     },
     "execution_count": 144,
     "metadata": {},
     "output_type": "execute_result"
    }
   ],
   "source": [
    "num1 * num2"
   ]
  },
  {
   "cell_type": "code",
   "execution_count": 145,
   "id": "677c7cb0-0734-48c8-afb3-917b22d56a6e",
   "metadata": {},
   "outputs": [
    {
     "data": {
      "text/plain": [
       "2.4"
      ]
     },
     "execution_count": 145,
     "metadata": {},
     "output_type": "execute_result"
    }
   ],
   "source": [
    "num1 /num2"
   ]
  },
  {
   "cell_type": "code",
   "execution_count": 146,
   "id": "4d4768bb-89bf-47b8-b717-0a94edf76e87",
   "metadata": {},
   "outputs": [
    {
     "data": {
      "text/plain": [
       "248832"
      ]
     },
     "execution_count": 146,
     "metadata": {},
     "output_type": "execute_result"
    }
   ],
   "source": [
    "num1 ** num2"
   ]
  },
  {
   "cell_type": "code",
   "execution_count": 147,
   "id": "be490401-2f86-4bd2-b63d-20c65dce1ffa",
   "metadata": {},
   "outputs": [
    {
     "data": {
      "text/plain": [
       "2"
      ]
     },
     "execution_count": 147,
     "metadata": {},
     "output_type": "execute_result"
    }
   ],
   "source": [
    "num1 // num2 ## floor division"
   ]
  },
  {
   "cell_type": "code",
   "execution_count": 149,
   "id": "5cea91a6-7a70-44d0-a995-cbb011fc7556",
   "metadata": {},
   "outputs": [
    {
     "data": {
      "text/plain": [
       "2"
      ]
     },
     "execution_count": 149,
     "metadata": {},
     "output_type": "execute_result"
    }
   ],
   "source": [
    "num1 % num2 ## mod => remainder"
   ]
  },
  {
   "cell_type": "code",
   "execution_count": 150,
   "id": "12ed9363-05ae-4f5f-b696-f93d30cba45b",
   "metadata": {},
   "outputs": [],
   "source": [
    "# Relational operators"
   ]
  },
  {
   "cell_type": "code",
   "execution_count": 151,
   "id": "df5ef3fb-6e14-45c7-869e-26168f7e98ca",
   "metadata": {},
   "outputs": [
    {
     "data": {
      "text/plain": [
       "True"
      ]
     },
     "execution_count": 151,
     "metadata": {},
     "output_type": "execute_result"
    }
   ],
   "source": [
    "num1 > num2"
   ]
  },
  {
   "cell_type": "code",
   "execution_count": 152,
   "id": "b58b4eb2-440e-48ec-9246-a386b2d892a0",
   "metadata": {},
   "outputs": [
    {
     "data": {
      "text/plain": [
       "False"
      ]
     },
     "execution_count": 152,
     "metadata": {},
     "output_type": "execute_result"
    }
   ],
   "source": [
    "num1 <= num2"
   ]
  },
  {
   "cell_type": "code",
   "execution_count": 153,
   "id": "1d9c907e-da99-48da-90fa-9dbfec506161",
   "metadata": {},
   "outputs": [
    {
     "data": {
      "text/plain": [
       "False"
      ]
     },
     "execution_count": 153,
     "metadata": {},
     "output_type": "execute_result"
    }
   ],
   "source": [
    "num1 == num2"
   ]
  },
  {
   "cell_type": "code",
   "execution_count": 154,
   "id": "49a041d3-9f4e-452e-a154-d32c1c7843f4",
   "metadata": {},
   "outputs": [
    {
     "data": {
      "text/plain": [
       "True"
      ]
     },
     "execution_count": 154,
     "metadata": {},
     "output_type": "execute_result"
    }
   ],
   "source": [
    "num1 != num2"
   ]
  },
  {
   "cell_type": "code",
   "execution_count": 155,
   "id": "01794192-2a61-495f-b775-5d8487413caa",
   "metadata": {},
   "outputs": [],
   "source": [
    "## Logical"
   ]
  },
  {
   "cell_type": "code",
   "execution_count": 158,
   "id": "407985d6-39e1-49ff-8f18-467f8ec89895",
   "metadata": {},
   "outputs": [
    {
     "data": {
      "text/plain": [
       "True"
      ]
     },
     "execution_count": 158,
     "metadata": {},
     "output_type": "execute_result"
    }
   ],
   "source": [
    "num > num2 and num1 > 0"
   ]
  },
  {
   "cell_type": "code",
   "execution_count": 159,
   "id": "bce150d1-a89a-4aa5-9ac8-52ee12085d57",
   "metadata": {},
   "outputs": [
    {
     "data": {
      "text/plain": [
       "True"
      ]
     },
     "execution_count": 159,
     "metadata": {},
     "output_type": "execute_result"
    }
   ],
   "source": [
    "num1 > num2 or num1 > 1000"
   ]
  },
  {
   "cell_type": "code",
   "execution_count": 160,
   "id": "6731d40a-cf23-4922-bba2-5197c2c68059",
   "metadata": {},
   "outputs": [
    {
     "data": {
      "text/plain": [
       "False"
      ]
     },
     "execution_count": 160,
     "metadata": {},
     "output_type": "execute_result"
    }
   ],
   "source": [
    "num1 > num2 and num1 > 1000"
   ]
  },
  {
   "cell_type": "code",
   "execution_count": 161,
   "id": "4adf5815-90f7-48a8-aed9-3f2eaa7f1719",
   "metadata": {},
   "outputs": [],
   "source": [
    "# assignment Operators"
   ]
  },
  {
   "cell_type": "code",
   "execution_count": 162,
   "id": "cc3f47e8-6405-4a35-a3ea-f945b9cc1c76",
   "metadata": {},
   "outputs": [],
   "source": [
    "num = 20"
   ]
  },
  {
   "cell_type": "code",
   "execution_count": 163,
   "id": "94b89e14-b675-4155-b8c9-81f2161521c0",
   "metadata": {},
   "outputs": [
    {
     "data": {
      "text/plain": [
       "20"
      ]
     },
     "execution_count": 163,
     "metadata": {},
     "output_type": "execute_result"
    }
   ],
   "source": [
    "num"
   ]
  },
  {
   "cell_type": "code",
   "execution_count": 164,
   "id": "20033b18-8b90-4273-882f-94e8784da320",
   "metadata": {},
   "outputs": [],
   "source": [
    "num += 10 ## => num = num + 10"
   ]
  },
  {
   "cell_type": "code",
   "execution_count": 165,
   "id": "40a407ff-0a02-4c60-9e91-b45e7b89a9ca",
   "metadata": {},
   "outputs": [
    {
     "data": {
      "text/plain": [
       "30"
      ]
     },
     "execution_count": 165,
     "metadata": {},
     "output_type": "execute_result"
    }
   ],
   "source": [
    "num"
   ]
  },
  {
   "cell_type": "code",
   "execution_count": 166,
   "id": "eb115f51-4d77-4bb7-9f80-2d4af1147c24",
   "metadata": {},
   "outputs": [],
   "source": [
    "## membership selection"
   ]
  },
  {
   "cell_type": "code",
   "execution_count": 167,
   "id": "fc490eef-b86f-4bc0-89dd-8acfddf0af93",
   "metadata": {},
   "outputs": [
    {
     "data": {
      "text/plain": [
       "'Riya'"
      ]
     },
     "execution_count": 167,
     "metadata": {},
     "output_type": "execute_result"
    }
   ],
   "source": [
    "name"
   ]
  },
  {
   "cell_type": "code",
   "execution_count": 168,
   "id": "d6ffe339-fb79-44bf-88e4-62bef32d0310",
   "metadata": {},
   "outputs": [
    {
     "data": {
      "text/plain": [
       "True"
      ]
     },
     "execution_count": 168,
     "metadata": {},
     "output_type": "execute_result"
    }
   ],
   "source": [
    "'i' in name"
   ]
  },
  {
   "cell_type": "code",
   "execution_count": 169,
   "id": "dd1f5d4c-2dbc-42fa-a125-466c4ea01149",
   "metadata": {},
   "outputs": [
    {
     "data": {
      "text/plain": [
       "False"
      ]
     },
     "execution_count": 169,
     "metadata": {},
     "output_type": "execute_result"
    }
   ],
   "source": [
    "'I' in name"
   ]
  },
  {
   "cell_type": "code",
   "execution_count": 170,
   "id": "ac219eed-9d42-4647-a73c-229c8e1b6d81",
   "metadata": {},
   "outputs": [
    {
     "data": {
      "text/plain": [
       "False"
      ]
     },
     "execution_count": 170,
     "metadata": {},
     "output_type": "execute_result"
    }
   ],
   "source": [
    "'i' not in name"
   ]
  },
  {
   "cell_type": "code",
   "execution_count": 171,
   "id": "27a2fe66-373a-4443-b86d-5a7a58ee0459",
   "metadata": {},
   "outputs": [],
   "source": [
    "## type casting"
   ]
  },
  {
   "cell_type": "code",
   "execution_count": 172,
   "id": "828f2303-3da1-4864-91f6-e74f99718a45",
   "metadata": {},
   "outputs": [],
   "source": [
    "name = 'Dnyaneshwari'\n",
    "data = '1234'\n",
    "num = 34\n",
    "num1 = 50.53"
   ]
  },
  {
   "cell_type": "code",
   "execution_count": 173,
   "id": "1fa51c7b-a033-4b7e-b185-740fc637c8d8",
   "metadata": {},
   "outputs": [
    {
     "data": {
      "text/plain": [
       "1234"
      ]
     },
     "execution_count": 173,
     "metadata": {},
     "output_type": "execute_result"
    }
   ],
   "source": [
    "int(data)"
   ]
  },
  {
   "cell_type": "code",
   "execution_count": 174,
   "id": "7edb5829-f2ef-43bb-90b7-4adb8844f015",
   "metadata": {},
   "outputs": [
    {
     "data": {
      "text/plain": [
       "34.0"
      ]
     },
     "execution_count": 174,
     "metadata": {},
     "output_type": "execute_result"
    }
   ],
   "source": [
    "float(num)"
   ]
  },
  {
   "cell_type": "code",
   "execution_count": 175,
   "id": "107b8801-5387-4bcd-b729-b76059fb8b12",
   "metadata": {},
   "outputs": [
    {
     "data": {
      "text/plain": [
       "50"
      ]
     },
     "execution_count": 175,
     "metadata": {},
     "output_type": "execute_result"
    }
   ],
   "source": [
    "int(num1)"
   ]
  },
  {
   "cell_type": "code",
   "execution_count": 176,
   "id": "d9c5140e-782c-4e24-8183-fc4c0434fb9d",
   "metadata": {},
   "outputs": [
    {
     "data": {
      "text/plain": [
       "'50.53'"
      ]
     },
     "execution_count": 176,
     "metadata": {},
     "output_type": "execute_result"
    }
   ],
   "source": [
    "str(num1)"
   ]
  },
  {
   "cell_type": "code",
   "execution_count": 177,
   "id": "c0add7eb-d852-4120-9568-2406f3fb834a",
   "metadata": {},
   "outputs": [],
   "source": [
    "name = 'Dnyaneshwari'\n",
    "data = 72"
   ]
  },
  {
   "cell_type": "code",
   "execution_count": 178,
   "id": "5fb2ca21-6945-46b4-8432-9eb47280d3d0",
   "metadata": {},
   "outputs": [],
   "source": [
    "Password = name + str(data)"
   ]
  },
  {
   "cell_type": "code",
   "execution_count": 179,
   "id": "ba05d51a-0b51-427a-95be-4119f78b6b64",
   "metadata": {},
   "outputs": [
    {
     "data": {
      "text/plain": [
       "'Dnyaneshwari72'"
      ]
     },
     "execution_count": 179,
     "metadata": {},
     "output_type": "execute_result"
    }
   ],
   "source": [
    "Password"
   ]
  },
  {
   "cell_type": "code",
   "execution_count": 180,
   "id": "7c07b056-9499-42de-83b5-c6a6b5c0a1fb",
   "metadata": {},
   "outputs": [],
   "source": [
    "## user input"
   ]
  },
  {
   "cell_type": "code",
   "execution_count": 183,
   "id": "c466cebe-a4b9-47a2-bcfc-c5ea689e84ec",
   "metadata": {},
   "outputs": [
    {
     "name": "stdin",
     "output_type": "stream",
     "text": [
      "Enter the 1st number 1\n",
      "Enter the 2nd number 1\n"
     ]
    },
    {
     "name": "stdout",
     "output_type": "stream",
     "text": [
      "Addition is : 2\n"
     ]
    }
   ],
   "source": [
    "num1 = int(input('Enter the 1st number'))\n",
    "num2 = int(input('Enter the 2nd number'))\n",
    "result = num1 + num2\n",
    "print('Addition is :', result)"
   ]
  },
  {
   "cell_type": "code",
   "execution_count": null,
   "id": "bed7d5eb-533f-431d-a4f1-5e6a539cb4ce",
   "metadata": {},
   "outputs": [],
   "source": []
  }
 ],
 "metadata": {
  "kernelspec": {
   "display_name": "Python 3 (ipykernel)",
   "language": "python",
   "name": "python3"
  },
  "language_info": {
   "codemirror_mode": {
    "name": "ipython",
    "version": 3
   },
   "file_extension": ".py",
   "mimetype": "text/x-python",
   "name": "python",
   "nbconvert_exporter": "python",
   "pygments_lexer": "ipython3",
   "version": "3.11.7"
  }
 },
 "nbformat": 4,
 "nbformat_minor": 5
}
