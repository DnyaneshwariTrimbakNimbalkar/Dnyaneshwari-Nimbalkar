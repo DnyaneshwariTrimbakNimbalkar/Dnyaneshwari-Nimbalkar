{
 "cells": [
  {
   "cell_type": "code",
   "execution_count": 2,
   "id": "9105bc9f-0df2-4da2-a829-db30143c035e",
   "metadata": {},
   "outputs": [
    {
     "name": "stdin",
     "output_type": "stream",
     "text": [
      "Enter the string Sneha\n",
      "Enter the number of repeation 3\n"
     ]
    },
    {
     "name": "stdout",
     "output_type": "stream",
     "text": [
      "SnehaSnehaSneha\n"
     ]
    }
   ],
   "source": [
    "# Write a program to repeat a string take user input\n",
    "\n",
    "in1 = input('Enter the string')\n",
    "in2 = int(input('Enter the number of repeation'))\n",
    "print(in1 * in2)"
   ]
  },
  {
   "cell_type": "code",
   "execution_count": 3,
   "id": "78485a07-e124-47d0-9298-0fa2ee56564c",
   "metadata": {},
   "outputs": [
    {
     "name": "stdin",
     "output_type": "stream",
     "text": [
      "Enter the base 5\n",
      "Enter the height 10\n"
     ]
    },
    {
     "name": "stdout",
     "output_type": "stream",
     "text": [
      "Area of traingle is 25.0\n"
     ]
    }
   ],
   "source": [
    "''' take base and height of the traingle as input and find the area f it''';\n",
    "\n",
    "base = float(input('Enter the base'))\n",
    "height = float(input('Enter the height'))\n",
    "\n",
    "print('Area of traingle is', 0.5 * base * height)"
   ]
  },
  {
   "cell_type": "code",
   "execution_count": 5,
   "id": "c1f6a6d7-5e61-451e-89ec-001893d40774",
   "metadata": {},
   "outputs": [
    {
     "name": "stdin",
     "output_type": "stream",
     "text": [
      "Enter the number of seconds 864864\n"
     ]
    },
    {
     "name": "stdout",
     "output_type": "stream",
     "text": [
      "Conversion is 240 : 14 : 24\n"
     ]
    }
   ],
   "source": [
    "'''' Take seconds as user input convert to hour:min:sec format\n",
    "ex.... 3665 sec => 1:01:05 '''\n",
    "\n",
    "sec = int(input('Enter the number of seconds'))\n",
    "\n",
    "hours = sec //3600\n",
    "\n",
    "rem_sec = sec % 3600\n",
    "minutes = rem_sec // 60\n",
    "\n",
    "seconds = rem_sec % 60\n",
    "\n",
    "print('Conversion is', hours, ':', minutes,':',seconds)"
   ]
  },
  {
   "cell_type": "code",
   "execution_count": null,
   "id": "2e8addc1-5cc4-43af-80e5-ae9cfe969d81",
   "metadata": {},
   "outputs": [],
   "source": []
  }
 ],
 "metadata": {
  "kernelspec": {
   "display_name": "Python 3 (ipykernel)",
   "language": "python",
   "name": "python3"
  },
  "language_info": {
   "codemirror_mode": {
    "name": "ipython",
    "version": 3
   },
   "file_extension": ".py",
   "mimetype": "text/x-python",
   "name": "python",
   "nbconvert_exporter": "python",
   "pygments_lexer": "ipython3",
   "version": "3.11.7"
  }
 },
 "nbformat": 4,
 "nbformat_minor": 5
}
