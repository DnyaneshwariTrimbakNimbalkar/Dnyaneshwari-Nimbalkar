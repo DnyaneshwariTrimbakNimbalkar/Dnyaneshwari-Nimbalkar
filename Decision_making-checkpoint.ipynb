{
 "cells": [
  {
   "cell_type": "code",
   "execution_count": 2,
   "id": "4b034611-7da9-44cf-af55-729c11595d14",
   "metadata": {},
   "outputs": [
    {
     "name": "stdin",
     "output_type": "stream",
     "text": [
      "enter the number 4\n"
     ]
    }
   ],
   "source": [
    "# check if the number is greater than 50\n",
    "\n",
    "num = int(input('Enter the number'))\n",
    "\n",
    "if num > 50:\n",
    "    print(Ok)"
   ]
  },
  {
   "cell_type": "code",
   "execution_count": 3,
   "id": "49c7ae67-a73e-4191-8119-fb9e72d1c4c5",
   "metadata": {},
   "outputs": [
    {
     "name": "stdin",
     "output_type": "stream",
     "text": [
      "Enter the number 0\n"
     ]
    },
    {
     "name": "stdout",
     "output_type": "stream",
     "text": [
      "Negative\n",
      "Goodbye!!!\n"
     ]
    }
   ],
   "source": [
    "## Positive or negative\n",
    "\n",
    "num = int(input('Enter the number'))\n",
    "\n",
    "if num > 0:\n",
    "    print('Positive')\n",
    "    print('Ok')\n",
    "else:\n",
    "    print('Negative')\n",
    "    print('Goodbye!!!')"
   ]
  },
  {
   "cell_type": "code",
   "execution_count": 4,
   "id": "84aeea6e-d334-45f1-abb0-2e720f33250e",
   "metadata": {},
   "outputs": [
    {
     "name": "stdin",
     "output_type": "stream",
     "text": [
      "Enter the number 0\n"
     ]
    },
    {
     "name": "stdout",
     "output_type": "stream",
     "text": [
      "Zero\n"
     ]
    }
   ],
   "source": [
    "num = int(input('Enter the number'))\n",
    "\n",
    "if num > 0:\n",
    "    print('Positive')\n",
    "elif num == 0:\n",
    "    print('Zero')\n",
    "else:\n",
    "    print('Negative')"
   ]
  },
  {
   "cell_type": "code",
   "execution_count": 5,
   "id": "e232a38b-3708-4a26-bcdd-71a35f1ee9d6",
   "metadata": {},
   "outputs": [
    {
     "name": "stdin",
     "output_type": "stream",
     "text": [
      "Enter the number 5\n"
     ]
    },
    {
     "name": "stdout",
     "output_type": "stream",
     "text": [
      "odd\n"
     ]
    }
   ],
   "source": [
    "#  check if the number is odd or even\n",
    "\n",
    "num = int(input('Enter the number'))\n",
    "\n",
    "if num % 2 == 0:\n",
    "    print('even')\n",
    "else:\n",
    "    print('odd')"
   ]
  },
  {
   "cell_type": "code",
   "execution_count": 6,
   "id": "b29f9b48-e02f-4cd4-b425-aa72895b7b62",
   "metadata": {},
   "outputs": [
    {
     "data": {
      "text/plain": [
       "1"
      ]
     },
     "execution_count": 6,
     "metadata": {},
     "output_type": "execute_result"
    }
   ],
   "source": [
    "int(True)"
   ]
  },
  {
   "cell_type": "code",
   "execution_count": 8,
   "id": "d81378ca-df67-4b06-bd08-db6fdc832399",
   "metadata": {},
   "outputs": [
    {
     "data": {
      "text/plain": [
       "0"
      ]
     },
     "execution_count": 8,
     "metadata": {},
     "output_type": "execute_result"
    }
   ],
   "source": [
    "int(False)"
   ]
  },
  {
   "cell_type": "code",
   "execution_count": 9,
   "id": "14c65ec4-37a2-489b-b2c2-9507e86f2544",
   "metadata": {},
   "outputs": [
    {
     "data": {
      "text/plain": [
       "2"
      ]
     },
     "execution_count": 9,
     "metadata": {},
     "output_type": "execute_result"
    }
   ],
   "source": [
    "True + True - False"
   ]
  },
  {
   "cell_type": "code",
   "execution_count": 10,
   "id": "7b9e9dcd-2dc4-44cb-9e0b-33f16e9211ac",
   "metadata": {},
   "outputs": [
    {
     "name": "stdout",
     "output_type": "stream",
     "text": [
      "!!!!!\n"
     ]
    }
   ],
   "source": [
    "a = 12\n",
    "\n",
    "if a:\n",
    "    print('!!!!!')"
   ]
  },
  {
   "cell_type": "code",
   "execution_count": 11,
   "id": "ba7d4ad6-27e5-49ff-9aba-2d1245c82e09",
   "metadata": {},
   "outputs": [
    {
     "name": "stdin",
     "output_type": "stream",
     "text": [
      "Enter the number 3\n"
     ]
    },
    {
     "name": "stdout",
     "output_type": "stream",
     "text": [
      "Incorrect\n"
     ]
    }
   ],
   "source": [
    "# check if the number is between 50 and 150\n",
    "num = int(input('Enter the number'))\n",
    "\n",
    "if num > 50:\n",
    "    if num < 150:\n",
    "        print('correct')\n",
    "    else:\n",
    "        print('greater then 150')\n",
    "else:\n",
    "    print('Incorrect')"
   ]
  },
  {
   "cell_type": "code",
   "execution_count": 13,
   "id": "4e369341-212c-43a8-bda0-252e99194391",
   "metadata": {},
   "outputs": [
    {
     "name": "stdin",
     "output_type": "stream",
     "text": [
      "Enter the number 4\n"
     ]
    },
    {
     "name": "stdout",
     "output_type": "stream",
     "text": [
      "Incorrect\n"
     ]
    }
   ],
   "source": [
    "num = int(input('Enter the number'))\n",
    "if num > 50 and num < 150:\n",
    "     print('correct')\n",
    "else:\n",
    "     print('Incorrect')\n"
   ]
  },
  {
   "cell_type": "code",
   "execution_count": 15,
   "id": "0ac49bd5-d807-4e3b-a061-8aa8bcab8b83",
   "metadata": {},
   "outputs": [
    {
     "name": "stdin",
     "output_type": "stream",
     "text": [
      "Enter the purchase cost 1000\n",
      "Enter the selling cost  500\n"
     ]
    },
    {
     "name": "stdout",
     "output_type": "stream",
     "text": [
      "Loss: 500\n"
     ]
    }
   ],
   "source": [
    "# read selling cost and purchase cost\n",
    "# find profit or loss and how much ?\n",
    "\n",
    "purchase_cost =int(input('Enter the purchase cost'))\n",
    "selling_cost = int(input('Enter the selling cost '))\n",
    "\n",
    "if selling_cost > purchase_cost:\n",
    "    print('Profit:', selling_cost -purchase_cost)\n",
    "else: \n",
    "     print('Loss:', purchase_cost - selling_cost)\n"
   ]
  },
  {
   "cell_type": "code",
   "execution_count": 16,
   "id": "a981a7a2-37f8-4e32-a0df-55bd1706cc66",
   "metadata": {},
   "outputs": [
    {
     "name": "stdin",
     "output_type": "stream",
     "text": [
      "Enter the 1st number 3\n",
      "Enter the 2nd number 2\n",
      "Enter the 3r  number 1\n"
     ]
    },
    {
     "name": "stdout",
     "output_type": "stream",
     "text": [
      "Largest is num1 3\n"
     ]
    }
   ],
   "source": [
    "# find the largest of 3 numbers\n",
    "# 'and' , 'or'  not allowed\n",
    "\n",
    "num1 = int(input('Enter the 1st number'))\n",
    "num2 = int(input('Enter the 2nd number'))\n",
    "num3 = int(input('Enter the 3r  number'))\n",
    "\n",
    "if num1 > num2 :\n",
    "    if num1 > num3:\n",
    "        print('Largest is num1',num1)\n",
    "    else:\n",
    "        print('Largest is num3', num3)\n",
    "else:\n",
    "    if num2 > num3:\n",
    "        print('Largest is num2', num2)\n",
    "    else:\n",
    "        print('Lragest is num3', num3)"
   ]
  },
  {
   "cell_type": "code",
   "execution_count": 1,
   "id": "031369d6-deb3-48c4-835e-d00c1a9e69de",
   "metadata": {},
   "outputs": [
    {
     "name": "stdin",
     "output_type": "stream",
     "text": [
      "Enter the year 1800\n"
     ]
    },
    {
     "name": "stdout",
     "output_type": "stream",
     "text": [
      "Century but not leap year\n"
     ]
    }
   ],
   "source": [
    "## 2020 => leap year\n",
    "## 2018 => Not leap\n",
    "## 2000 => leap\n",
    "## 1800 => Not leap => century year\n",
    "\n",
    "year = int(input('Enter the year'))\n",
    "\n",
    "if year % 4 == 0:\n",
    "    if year % 100 == 0:\n",
    "        if year % 400 == 0:\n",
    "            print('Leap century year')\n",
    "        else:\n",
    "            print('Century but not leap year')\n",
    "    else:\n",
    "        print('leap year')\n",
    "else:\n",
    "    print('Not leap year')"
   ]
  },
  {
   "cell_type": "code",
   "execution_count": 4,
   "id": "21e00dde-9be7-4fcb-a4c6-5c46401f7f8a",
   "metadata": {},
   "outputs": [
    {
     "name": "stdin",
     "output_type": "stream",
     "text": [
      "Enter the marks of physics 67\n",
      "Enter the marks of chemistry 65\n",
      "Enter the marks of biology 47\n",
      "Enter the marks of maths 89\n",
      "Enter the marks of computer 65\n"
     ]
    },
    {
     "name": "stdout",
     "output_type": "stream",
     "text": [
      "Grade D\n"
     ]
    }
   ],
   "source": [
    "''' Write a python program to input marks of five subjects\n",
    "physics,chemistry,biology,mathematics and computer. calculate percentage and grade According to following:\n",
    "percentage >= 90& : Grade A\n",
    "percentage >= 80& : Grade B\n",
    "percentage >= 70& : Grade C\n",
    "percentage >= 60& : Grade D\n",
    "percentage >= 40& : Grade E\n",
    "percentage <  40& : Grade F\n",
    "'''\n",
    "phys = float(input('Enter the marks of physics'))\n",
    "chem = float(input('Enter the marks of chemistry'))\n",
    "bio = float(input('Enter the marks of biology'))\n",
    "maths = float(input('Enter the marks of maths'))\n",
    "comp = float(input('Enter the marks of computer'))\n",
    "\n",
    "perc = ((phys + chem + maths + bio + comp)/500)*100\n",
    "\n",
    "if perc >= 90:\n",
    "    print('Grade A')\n",
    "elif perc >= 80:\n",
    "    print('Grade B')\n",
    "elif perc >= 70:\n",
    "    print('Grade C')\n",
    "elif perc >= 60:\n",
    "    print('Grade D')\n",
    "elif perc >= 40:\n",
    "    print('Grade E')\n",
    "else:\n",
    "    print('Fail')"
   ]
  },
  {
   "cell_type": "code",
   "execution_count": 6,
   "id": "329f223d-ffd5-4e36-b53d-91f4b610d358",
   "metadata": {},
   "outputs": [
    {
     "name": "stdin",
     "output_type": "stream",
     "text": [
      "Enter the number 5\n"
     ]
    },
    {
     "name": "stdout",
     "output_type": "stream",
     "text": [
      "MENU\n",
      "1.square\n",
      "2.cube\n",
      "3. check +ve or -ve\n"
     ]
    },
    {
     "name": "stdin",
     "output_type": "stream",
     "text": [
      "Enter your choice 2\n"
     ]
    },
    {
     "name": "stdout",
     "output_type": "stream",
     "text": [
      "cube is 125\n"
     ]
    }
   ],
   "source": [
    "# Menu driven\n",
    "'''\n",
    "take a number and based on the choice perform\n",
    "1.square, 2.cube and 3. check positive or negative\n",
    "'''\n",
    "\n",
    "num = int(input('Enter the number'))\n",
    "\n",
    "print('MENU\\n1.square\\n2.cube\\n3. check +ve or -ve')\n",
    "\n",
    "choice = int(input('Enter your choice'))\n",
    "\n",
    "if choice == 1:\n",
    "    print('Square is',num * num)\n",
    "elif choice == 2:\n",
    "     print('cube is',num ** 3)\n",
    "elif choice == 3:\n",
    "    if num > 0:\n",
    "        print('Positive')\n",
    "    else:\n",
    "        print('Negative')\n",
    "else:\n",
    "     print('OOPS! you must have forgotten ur sepcs or brain')"
   ]
  },
  {
   "cell_type": "code",
   "execution_count": 7,
   "id": "d8d384b1-1759-4037-ba2a-b3dc1d9447f7",
   "metadata": {},
   "outputs": [],
   "source": [
    "num = 34 \n",
    "\n",
    "if num > 20:\n",
    "    pass"
   ]
  },
  {
   "cell_type": "code",
   "execution_count": 9,
   "id": "11144b77-acee-45bf-b1b2-6f87a917d0cb",
   "metadata": {},
   "outputs": [
    {
     "name": "stdin",
     "output_type": "stream",
     "text": [
      "Enter the 1st number 2\n",
      "Enter the 2nd number 4\n"
     ]
    },
    {
     "name": "stdout",
     "output_type": "stream",
     "text": [
      "MENU\n",
      "1.Addition\n",
      "2.floor div\n",
      "3. which  one is largest\n"
     ]
    },
    {
     "name": "stdin",
     "output_type": "stream",
     "text": [
      "Enter your choice 3\n"
     ]
    },
    {
     "name": "stdout",
     "output_type": "stream",
     "text": [
      "largest is num2 4\n"
     ]
    }
   ],
   "source": [
    "'''\n",
    "take 2 numbers and based on the choice perform\n",
    "1. Addition, 2.floor div and 3.check which one is largest\n",
    "'''\n",
    "\n",
    "num1 = int(input('Enter the 1st number'))\n",
    "num2 = int(input('Enter the 2nd number'))\n",
    "\n",
    "print('MENU\\n1.Addition\\n2.floor div\\n3. which  one is largest')\n",
    "\n",
    "choice = int(input('Enter your choice'))\n",
    "\n",
    "if choice == 1:\n",
    "    print('Addition is',num1 + num2)\n",
    "elif choice == 2:\n",
    "     print('floor div is',num1 // num2)\n",
    "elif choice == 3:\n",
    "    if num1 > num2:\n",
    "        print('largest is num1',num1)\n",
    "    else:\n",
    "        print('largest is num2',num2)\n",
    "else:\n",
    "     print('OOPS! you must have forgotten ur sepcs or brain')"
   ]
  },
  {
   "cell_type": "code",
   "execution_count": null,
   "id": "07660aa3-3e47-46ea-876e-f7287a4fe1b7",
   "metadata": {},
   "outputs": [],
   "source": []
  }
 ],
 "metadata": {
  "kernelspec": {
   "display_name": "Python 3 (ipykernel)",
   "language": "python",
   "name": "python3"
  },
  "language_info": {
   "codemirror_mode": {
    "name": "ipython",
    "version": 3
   },
   "file_extension": ".py",
   "mimetype": "text/x-python",
   "name": "python",
   "nbconvert_exporter": "python",
   "pygments_lexer": "ipython3",
   "version": "3.11.7"
  }
 },
 "nbformat": 4,
 "nbformat_minor": 5
}
