{
 "cells": [
  {
   "cell_type": "code",
   "execution_count": 1,
   "id": "c814a5bd-f6bf-41c9-add0-929e5a700bf7",
   "metadata": {},
   "outputs": [],
   "source": [
    "## File Handling "
   ]
  },
  {
   "cell_type": "code",
   "execution_count": 8,
   "id": "78c66b41-dd7f-4b6e-b3b5-d0e06d0fe439",
   "metadata": {},
   "outputs": [],
   "source": [
    "f = open('file.txt','r')"
   ]
  },
  {
   "cell_type": "code",
   "execution_count": 9,
   "id": "3746139e-2022-4649-9805-dde9d43d4cc6",
   "metadata": {},
   "outputs": [
    {
     "data": {
      "text/plain": [
       "'File handling in Python is a powerful and versatile tool that can be used to perform a wide range of operations. However, it is important to carefully consider the advantages and disadvantages of file handling when writing Python programs, to ensure that the code is secure, reliable, and performs well.'"
      ]
     },
     "execution_count": 9,
     "metadata": {},
     "output_type": "execute_result"
    }
   ],
   "source": [
    "f.read()"
   ]
  },
  {
   "cell_type": "code",
   "execution_count": 6,
   "id": "7d2a3dd8-a9bf-45e5-9938-77c1a6900e67",
   "metadata": {},
   "outputs": [
    {
     "name": "stdout",
     "output_type": "stream",
     "text": [
      "file.txt\n"
     ]
    }
   ],
   "source": [
    "print(f.name)"
   ]
  },
  {
   "cell_type": "code",
   "execution_count": 7,
   "id": "3cee8b3e-4df6-43cf-9773-f860adfc8f70",
   "metadata": {},
   "outputs": [
    {
     "name": "stdout",
     "output_type": "stream",
     "text": [
      "r\n"
     ]
    }
   ],
   "source": [
    "print(f.mode)"
   ]
  },
  {
   "cell_type": "code",
   "execution_count": 10,
   "id": "64517ea0-03cd-4b62-ac08-d832ee3a8084",
   "metadata": {},
   "outputs": [
    {
     "name": "stdout",
     "output_type": "stream",
     "text": [
      "False\n"
     ]
    }
   ],
   "source": [
    "print(f.closed)"
   ]
  },
  {
   "cell_type": "code",
   "execution_count": 11,
   "id": "de7f51c0-e392-4391-809b-f8beb8311eb4",
   "metadata": {},
   "outputs": [],
   "source": [
    "f.close()"
   ]
  },
  {
   "cell_type": "code",
   "execution_count": 12,
   "id": "fdb75cf1-d2eb-487d-b2bc-13df95b20bee",
   "metadata": {},
   "outputs": [
    {
     "name": "stdout",
     "output_type": "stream",
     "text": [
      "True\n"
     ]
    }
   ],
   "source": [
    "print(f.closed)"
   ]
  },
  {
   "cell_type": "code",
   "execution_count": 13,
   "id": "19058ca2-ebcf-4297-810e-55e0318ec3d7",
   "metadata": {},
   "outputs": [
    {
     "ename": "ValueError",
     "evalue": "I/O operation on closed file.",
     "output_type": "error",
     "traceback": [
      "\u001b[1;31m---------------------------------------------------------------------------\u001b[0m",
      "\u001b[1;31mValueError\u001b[0m                                Traceback (most recent call last)",
      "Cell \u001b[1;32mIn[13], line 1\u001b[0m\n\u001b[1;32m----> 1\u001b[0m f\u001b[38;5;241m.\u001b[39mread()\n",
      "\u001b[1;31mValueError\u001b[0m: I/O operation on closed file."
     ]
    }
   ],
   "source": [
    "f.read() # closed file so no read data in file"
   ]
  },
  {
   "cell_type": "code",
   "execution_count": 14,
   "id": "af5811f1-36c5-4595-b4e3-18c85596b007",
   "metadata": {},
   "outputs": [
    {
     "data": {
      "text/plain": [
       "<_io.TextIOWrapper name='file.txt' mode='r' encoding='cp1252'>"
      ]
     },
     "execution_count": 14,
     "metadata": {},
     "output_type": "execute_result"
    }
   ],
   "source": [
    "f # data accessible not"
   ]
  },
  {
   "cell_type": "code",
   "execution_count": 16,
   "id": "26d0a29f-75d6-431d-b5ac-b6605ce1db15",
   "metadata": {},
   "outputs": [],
   "source": [
    "#context manager using file autometically closed\n",
    "with open('file.txt','r') as f:\n",
    "    pass"
   ]
  },
  {
   "cell_type": "code",
   "execution_count": 17,
   "id": "62d32a72-5ac0-4357-8c93-67ee221c5b52",
   "metadata": {},
   "outputs": [
    {
     "name": "stdout",
     "output_type": "stream",
     "text": [
      "True\n"
     ]
    }
   ],
   "source": [
    "print(f.closed)"
   ]
  },
  {
   "cell_type": "code",
   "execution_count": 18,
   "id": "c97e4fa6-2941-4127-8890-f8fc48f52a1a",
   "metadata": {},
   "outputs": [
    {
     "name": "stdout",
     "output_type": "stream",
     "text": [
      "File handling in Python is a powerful and versatile tool that can be used to perform a wide range of operations. However, it is important to carefully consider the advantages and disadvantages of file handling when writing Python programs, to ensure that the code is secure, reliable, and performs well.\n"
     ]
    }
   ],
   "source": [
    "with open('file.txt','r') as f:\n",
    "    content = f.readline()\n",
    "    print(content)"
   ]
  },
  {
   "cell_type": "code",
   "execution_count": 21,
   "id": "01c47ddf-9b8d-4b02-bec0-083dc0d06c86",
   "metadata": {},
   "outputs": [
    {
     "name": "stdout",
     "output_type": "stream",
     "text": [
      "['this is first line\\n', 'this is second line\\n', 'this is third line\\n', 'this is fourth line']\n"
     ]
    }
   ],
   "source": [
    "with open('test1.txt','r') as f:   # it read line by line \n",
    "    content = f.readlines()\n",
    "    print(content)"
   ]
  },
  {
   "cell_type": "code",
   "execution_count": 22,
   "id": "d8dc4f44-1a11-4056-82ae-41221558cccd",
   "metadata": {},
   "outputs": [
    {
     "name": "stdout",
     "output_type": "stream",
     "text": [
      "this is first line\n",
      "\n"
     ]
    }
   ],
   "source": [
    "with open('test1.txt','r') as f:  #it read only first line\n",
    "    content = f.readline()\n",
    "    print(content)"
   ]
  },
  {
   "cell_type": "code",
   "execution_count": 25,
   "id": "c45e2682-a360-4a62-b322-3162c3738141",
   "metadata": {},
   "outputs": [
    {
     "name": "stdout",
     "output_type": "stream",
     "text": [
      "this is first line\n",
      "\n",
      "this is second line\n",
      "\n"
     ]
    }
   ],
   "source": [
    "with open('test1.txt','r') as f:\n",
    "    content = f.readline()\n",
    "    print(content)\n",
    "   \n",
    "    content = f.readline()\n",
    "    print(content)\n",
    "\n"
   ]
  },
  {
   "cell_type": "code",
   "execution_count": 26,
   "id": "0cee2c99-a628-4252-9dc9-9566f52fec7f",
   "metadata": {},
   "outputs": [
    {
     "name": "stdout",
     "output_type": "stream",
     "text": [
      "this is first line\n",
      "this is second line\n"
     ]
    }
   ],
   "source": [
    "with open('test1.txt','r') as f:\n",
    "    content = f.readline()\n",
    "    print(content, end= '')\n",
    "   \n",
    "    content = f.readline()   ##  gap is delete\n",
    "    print(content, end= '')\n",
    "\n"
   ]
  },
  {
   "cell_type": "code",
   "execution_count": 34,
   "id": "3f350736-2fac-4d21-a09e-d68445f1b577",
   "metadata": {},
   "outputs": [
    {
     "name": "stdout",
     "output_type": "stream",
     "text": [
      "this is first line\n",
      "this is second line\n",
      "this is third line\n",
      "this is fourth line"
     ]
    }
   ],
   "source": [
    "# use loop\n",
    "\n",
    "with open('test1.txt','r') as f:\n",
    "    for  i in f:\n",
    "        print(i, end= '')\n",
    "   \n",
    "  "
   ]
  },
  {
   "cell_type": "code",
   "execution_count": 47,
   "id": "588f0617-55d4-4a9b-8455-ff31f000a29c",
   "metadata": {},
   "outputs": [
    {
     "name": "stdout",
     "output_type": "stream",
     "text": [
      "this \n"
     ]
    }
   ],
   "source": [
    "with open('test1.txt','r') as f:\n",
    "    content = f.read(5)\n",
    "    print(content)  # here 5 characters bec space is include\n",
    "\n",
    "    "
   ]
  },
  {
   "cell_type": "code",
   "execution_count": 52,
   "id": "92022ebc-cee2-4d4e-b0cc-39f3402ebc79",
   "metadata": {},
   "outputs": [
    {
     "name": "stdout",
     "output_type": "stream",
     "text": [
      "this "
     ]
    },
    {
     "ename": "ValueError",
     "evalue": "I/O operation on closed file.",
     "output_type": "error",
     "traceback": [
      "\u001b[1;31m---------------------------------------------------------------------------\u001b[0m",
      "\u001b[1;31mValueError\u001b[0m                                Traceback (most recent call last)",
      "Cell \u001b[1;32mIn[52], line 8\u001b[0m\n\u001b[0;32m      6\u001b[0m \u001b[38;5;28;01mwhile\u001b[39;00m \u001b[38;5;28mlen\u001b[39m(content) \u001b[38;5;241m>\u001b[39m \u001b[38;5;241m0\u001b[39m :\n\u001b[0;32m      7\u001b[0m      \u001b[38;5;28mprint\u001b[39m(content , end\u001b[38;5;241m=\u001b[39m\u001b[38;5;124m'\u001b[39m\u001b[38;5;124m'\u001b[39m)\n\u001b[1;32m----> 8\u001b[0m      content \u001b[38;5;241m=\u001b[39m f\u001b[38;5;241m.\u001b[39mread(size)\n",
      "\u001b[1;31mValueError\u001b[0m: I/O operation on closed file."
     ]
    }
   ],
   "source": [
    "# use while loop\n",
    "with open('test1.txt','r') as f:\n",
    "     size = 5\n",
    "     content = f.read(size)\n",
    "\n",
    "while len(content) > 0 :\n",
    "     print(content , end='')\n",
    "     content = f.read(size) \n",
    "     \n",
    "      "
   ]
  },
  {
   "cell_type": "code",
   "execution_count": 55,
   "id": "d75d2073-18ff-4732-b88a-9f11f440810f",
   "metadata": {},
   "outputs": [
    {
     "name": "stdout",
     "output_type": "stream",
     "text": [
      "this \n",
      "is fi\n"
     ]
    }
   ],
   "source": [
    "with open('test1.txt','r') as f:\n",
    "    content = f.read(5)\n",
    "    print(content) # here 5 characters bec space is include\n",
    "\n",
    "     # f.seek(0)\n",
    "\n",
    "    content = f.read(5)\n",
    "    print(content)  \n",
    "\n"
   ]
  },
  {
   "cell_type": "code",
   "execution_count": 58,
   "id": "db002dee-25cd-4315-8b62-b69708827335",
   "metadata": {},
   "outputs": [
    {
     "name": "stdout",
     "output_type": "stream",
     "text": [
      "this \n",
      "this \n"
     ]
    }
   ],
   "source": [
    "with open('test1.txt','r') as f:\n",
    "    content = f.read(5)\n",
    "    print(content) # here 5 characters bec space is include\n",
    "    f.seek(0)\n",
    "\n",
    "    content = f.read(5)\n",
    "    print(content)  \n",
    "\n"
   ]
  },
  {
   "cell_type": "code",
   "execution_count": 59,
   "id": "c9b6b613-f60c-44ed-8e08-52ba99c69049",
   "metadata": {},
   "outputs": [],
   "source": [
    "## Write"
   ]
  },
  {
   "cell_type": "code",
   "execution_count": 60,
   "id": "20b659c5-b946-4d04-9d21-c2c8a626d14e",
   "metadata": {},
   "outputs": [],
   "source": [
    "with open('test2.txt','w') as w: ## write the file\n",
    "    pass"
   ]
  },
  {
   "cell_type": "code",
   "execution_count": 61,
   "id": "83ed5beb-1846-4856-ab01-aab4d95256b4",
   "metadata": {},
   "outputs": [],
   "source": [
    "with open('test2.txt','w') as w:\n",
    "    w.write('this is first number')  # write somthing"
   ]
  },
  {
   "cell_type": "code",
   "execution_count": 64,
   "id": "cc93aa20-a66b-4e9b-bc0d-09095b2985e8",
   "metadata": {},
   "outputs": [],
   "source": [
    "with open('test2.txt','w') as w:\n",
    "    w.write('slide')"
   ]
  },
  {
   "cell_type": "code",
   "execution_count": 68,
   "id": "0b1bb937-4626-4253-8c13-ac5127742500",
   "metadata": {},
   "outputs": [],
   "source": [
    "with open('test2.txt','w') as w:\n",
    "    w.write('slide')\n",
    "    w.write('glide')  # add one sentence"
   ]
  },
  {
   "cell_type": "code",
   "execution_count": 71,
   "id": "795f1a32-5b99-4233-be10-430e41458a85",
   "metadata": {},
   "outputs": [],
   "source": [
    "with open('test2.txt','w') as w:\n",
    "   \n",
    "    w.write('slide')\n",
    "    w.seek(0)\n",
    "    w.write('g')   # replace word slide as glide\n",
    "    "
   ]
  },
  {
   "cell_type": "code",
   "execution_count": 78,
   "id": "a96f4aed-77fa-4db2-b727-9dd47ed00822",
   "metadata": {},
   "outputs": [
    {
     "ename": "TypeError",
     "evalue": "open() argument 'mode' must be str, not _io.TextIOWrapper",
     "output_type": "error",
     "traceback": [
      "\u001b[1;31m---------------------------------------------------------------------------\u001b[0m",
      "\u001b[1;31mTypeError\u001b[0m                                 Traceback (most recent call last)",
      "Cell \u001b[1;32mIn[78], line 1\u001b[0m\n\u001b[1;32m----> 1\u001b[0m \u001b[38;5;28;01mwith\u001b[39;00m \u001b[38;5;28mopen\u001b[39m(\u001b[38;5;124m'\u001b[39m\u001b[38;5;124mtest3.txt\u001b[39m\u001b[38;5;124m'\u001b[39m,w) \u001b[38;5;28;01mas\u001b[39;00m w:\n\u001b[0;32m      2\u001b[0m      \u001b[38;5;28;01mwith\u001b[39;00m \u001b[38;5;28mopen\u001b[39m(\u001b[38;5;124m'\u001b[39m\u001b[38;5;124mtest2.txt\u001b[39m\u001b[38;5;124m'\u001b[39m,\u001b[38;5;124m'\u001b[39m\u001b[38;5;124mr\u001b[39m\u001b[38;5;124m'\u001b[39m) \u001b[38;5;28;01mas\u001b[39;00m rf:\n\u001b[0;32m      3\u001b[0m         \u001b[38;5;28;01mfor\u001b[39;00m line \u001b[38;5;129;01min\u001b[39;00m rf:\n",
      "File \u001b[1;32m~\\anaconda3\\Lib\\site-packages\\IPython\\core\\interactiveshell.py:310\u001b[0m, in \u001b[0;36m_modified_open\u001b[1;34m(file, *args, **kwargs)\u001b[0m\n\u001b[0;32m    303\u001b[0m \u001b[38;5;28;01mif\u001b[39;00m file \u001b[38;5;129;01min\u001b[39;00m {\u001b[38;5;241m0\u001b[39m, \u001b[38;5;241m1\u001b[39m, \u001b[38;5;241m2\u001b[39m}:\n\u001b[0;32m    304\u001b[0m     \u001b[38;5;28;01mraise\u001b[39;00m \u001b[38;5;167;01mValueError\u001b[39;00m(\n\u001b[0;32m    305\u001b[0m         \u001b[38;5;124mf\u001b[39m\u001b[38;5;124m\"\u001b[39m\u001b[38;5;124mIPython won\u001b[39m\u001b[38;5;124m'\u001b[39m\u001b[38;5;124mt let you open fd=\u001b[39m\u001b[38;5;132;01m{\u001b[39;00mfile\u001b[38;5;132;01m}\u001b[39;00m\u001b[38;5;124m by default \u001b[39m\u001b[38;5;124m\"\u001b[39m\n\u001b[0;32m    306\u001b[0m         \u001b[38;5;124m\"\u001b[39m\u001b[38;5;124mas it is likely to crash IPython. If you know what you are doing, \u001b[39m\u001b[38;5;124m\"\u001b[39m\n\u001b[0;32m    307\u001b[0m         \u001b[38;5;124m\"\u001b[39m\u001b[38;5;124myou can use builtins\u001b[39m\u001b[38;5;124m'\u001b[39m\u001b[38;5;124m open.\u001b[39m\u001b[38;5;124m\"\u001b[39m\n\u001b[0;32m    308\u001b[0m     )\n\u001b[1;32m--> 310\u001b[0m \u001b[38;5;28;01mreturn\u001b[39;00m io_open(file, \u001b[38;5;241m*\u001b[39margs, \u001b[38;5;241m*\u001b[39m\u001b[38;5;241m*\u001b[39mkwargs)\n",
      "\u001b[1;31mTypeError\u001b[0m: open() argument 'mode' must be str, not _io.TextIOWrapper"
     ]
    }
   ],
   "source": [
    "\n",
    "with open('test3.txt',w) as w:\n",
    "     with open('test2.txt','r') as rf:\n",
    "        for line in rf:\n",
    "         w.write(line)"
   ]
  },
  {
   "cell_type": "code",
   "execution_count": 79,
   "id": "deda61db-2c26-4ed7-9b44-dc83df87c5a8",
   "metadata": {},
   "outputs": [
    {
     "ename": "TypeError",
     "evalue": "open() argument 'mode' must be str, not _io.TextIOWrapper",
     "output_type": "error",
     "traceback": [
      "\u001b[1;31m---------------------------------------------------------------------------\u001b[0m",
      "\u001b[1;31mTypeError\u001b[0m                                 Traceback (most recent call last)",
      "Cell \u001b[1;32mIn[79], line 1\u001b[0m\n\u001b[1;32m----> 1\u001b[0m \u001b[38;5;28;01mwith\u001b[39;00m \u001b[38;5;28mopen\u001b[39m(\u001b[38;5;124m'\u001b[39m\u001b[38;5;124mtest3.txt\u001b[39m\u001b[38;5;124m'\u001b[39m,w) \u001b[38;5;28;01mas\u001b[39;00m w:\n\u001b[0;32m      2\u001b[0m      \u001b[38;5;28;01mwith\u001b[39;00m \u001b[38;5;28mopen\u001b[39m(\u001b[38;5;124m'\u001b[39m\u001b[38;5;124mtest2.txt\u001b[39m\u001b[38;5;124m'\u001b[39m,\u001b[38;5;124m'\u001b[39m\u001b[38;5;124mr\u001b[39m\u001b[38;5;124m'\u001b[39m) \u001b[38;5;28;01mas\u001b[39;00m rf:\n\u001b[0;32m      3\u001b[0m         \u001b[38;5;28;01mfor\u001b[39;00m line \u001b[38;5;129;01min\u001b[39;00m rf:\n",
      "File \u001b[1;32m~\\anaconda3\\Lib\\site-packages\\IPython\\core\\interactiveshell.py:310\u001b[0m, in \u001b[0;36m_modified_open\u001b[1;34m(file, *args, **kwargs)\u001b[0m\n\u001b[0;32m    303\u001b[0m \u001b[38;5;28;01mif\u001b[39;00m file \u001b[38;5;129;01min\u001b[39;00m {\u001b[38;5;241m0\u001b[39m, \u001b[38;5;241m1\u001b[39m, \u001b[38;5;241m2\u001b[39m}:\n\u001b[0;32m    304\u001b[0m     \u001b[38;5;28;01mraise\u001b[39;00m \u001b[38;5;167;01mValueError\u001b[39;00m(\n\u001b[0;32m    305\u001b[0m         \u001b[38;5;124mf\u001b[39m\u001b[38;5;124m\"\u001b[39m\u001b[38;5;124mIPython won\u001b[39m\u001b[38;5;124m'\u001b[39m\u001b[38;5;124mt let you open fd=\u001b[39m\u001b[38;5;132;01m{\u001b[39;00mfile\u001b[38;5;132;01m}\u001b[39;00m\u001b[38;5;124m by default \u001b[39m\u001b[38;5;124m\"\u001b[39m\n\u001b[0;32m    306\u001b[0m         \u001b[38;5;124m\"\u001b[39m\u001b[38;5;124mas it is likely to crash IPython. If you know what you are doing, \u001b[39m\u001b[38;5;124m\"\u001b[39m\n\u001b[0;32m    307\u001b[0m         \u001b[38;5;124m\"\u001b[39m\u001b[38;5;124myou can use builtins\u001b[39m\u001b[38;5;124m'\u001b[39m\u001b[38;5;124m open.\u001b[39m\u001b[38;5;124m\"\u001b[39m\n\u001b[0;32m    308\u001b[0m     )\n\u001b[1;32m--> 310\u001b[0m \u001b[38;5;28;01mreturn\u001b[39;00m io_open(file, \u001b[38;5;241m*\u001b[39margs, \u001b[38;5;241m*\u001b[39m\u001b[38;5;241m*\u001b[39mkwargs)\n",
      "\u001b[1;31mTypeError\u001b[0m: open() argument 'mode' must be str, not _io.TextIOWrapper"
     ]
    }
   ],
   "source": [
    "with open('test3.txt',w) as w:\n",
    "     with open('test2.txt','r') as rf:\n",
    "        for line in rf:\n",
    "         w.write(line)"
   ]
  },
  {
   "cell_type": "code",
   "execution_count": null,
   "id": "8462605b-5800-45e7-ab9a-a1e3d8a401b0",
   "metadata": {},
   "outputs": [],
   "source": []
  }
 ],
 "metadata": {
  "kernelspec": {
   "display_name": "Python 3 (ipykernel)",
   "language": "python",
   "name": "python3"
  },
  "language_info": {
   "codemirror_mode": {
    "name": "ipython",
    "version": 3
   },
   "file_extension": ".py",
   "mimetype": "text/x-python",
   "name": "python",
   "nbconvert_exporter": "python",
   "pygments_lexer": "ipython3",
   "version": "3.11.7"
  }
 },
 "nbformat": 4,
 "nbformat_minor": 5
}
