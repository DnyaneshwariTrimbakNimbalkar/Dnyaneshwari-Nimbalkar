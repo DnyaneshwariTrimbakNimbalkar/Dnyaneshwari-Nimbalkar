{
 "cells": [
  {
   "cell_type": "code",
   "execution_count": 1,
   "id": "fe70572f-4066-4a37-ae51-10cf7cf4cce2",
   "metadata": {},
   "outputs": [
    {
     "name": "stdout",
     "output_type": "stream",
     "text": [
      "12\n",
      "34\n",
      "45\n",
      "21\n"
     ]
    }
   ],
   "source": [
    "for n in 12, 34, 45, 21:\n",
    "    print(n)"
   ]
  },
  {
   "cell_type": "code",
   "execution_count": 2,
   "id": "9d9466df-39a3-42ee-a7b9-7ff32b7c801f",
   "metadata": {},
   "outputs": [
    {
     "name": "stdout",
     "output_type": "stream",
     "text": [
      "12\n",
      "34\n",
      "45\n",
      "21\n",
      "Adi\n",
      "True\n"
     ]
    }
   ],
   "source": [
    "for n in 12 ,34, 45, 21, 'Adi' , True:\n",
    "    print(n)"
   ]
  },
  {
   "cell_type": "code",
   "execution_count": 3,
   "id": "7fb54b91-44a6-48ab-8a39-36b1b7e74da6",
   "metadata": {},
   "outputs": [
    {
     "name": "stdout",
     "output_type": "stream",
     "text": [
      "6.0\n",
      "17.0\n",
      "22.5\n",
      "10.5\n"
     ]
    }
   ],
   "source": [
    "for n in 12, 34, 45, 21:\n",
    "    print(n/2)"
   ]
  },
  {
   "cell_type": "code",
   "execution_count": 4,
   "id": "6da3b627-0e05-4718-abd7-64df3017126f",
   "metadata": {},
   "outputs": [],
   "source": [
    "# range function"
   ]
  },
  {
   "cell_type": "code",
   "execution_count": 5,
   "id": "67376942-52b8-44a3-b1ff-9ab0ac9a2109",
   "metadata": {},
   "outputs": [
    {
     "data": {
      "text/plain": [
       "[0, 1, 2, 3, 4]"
      ]
     },
     "execution_count": 5,
     "metadata": {},
     "output_type": "execute_result"
    }
   ],
   "source": [
    "list(range(5))"
   ]
  },
  {
   "cell_type": "code",
   "execution_count": 6,
   "id": "e03794c6-6127-44b7-a559-00aeabf372bb",
   "metadata": {},
   "outputs": [
    {
     "data": {
      "text/plain": [
       "[5, 6, 7, 8, 9, 10, 11, 12, 13, 14, 15, 16, 17, 18, 19]"
      ]
     },
     "execution_count": 6,
     "metadata": {},
     "output_type": "execute_result"
    }
   ],
   "source": [
    "list(range(5, 20))"
   ]
  },
  {
   "cell_type": "code",
   "execution_count": 7,
   "id": "90a30dc9-67b7-4a64-80a0-e721684a78b6",
   "metadata": {},
   "outputs": [
    {
     "data": {
      "text/plain": [
       "[5, 7, 9, 11, 13, 15, 17, 19]"
      ]
     },
     "execution_count": 7,
     "metadata": {},
     "output_type": "execute_result"
    }
   ],
   "source": [
    "list(range(5,20,2))"
   ]
  },
  {
   "cell_type": "code",
   "execution_count": 8,
   "id": "c30edabc-6092-4bc8-bb20-2fae31aa3b03",
   "metadata": {},
   "outputs": [],
   "source": [
    "# range(star, end + 1 ,step)  this is the format of range"
   ]
  },
  {
   "cell_type": "code",
   "execution_count": 10,
   "id": "01233451-4652-40ea-be15-f10277158204",
   "metadata": {},
   "outputs": [
    {
     "name": "stdout",
     "output_type": "stream",
     "text": [
      "12345678910"
     ]
    }
   ],
   "source": [
    "for n in range(1, 11):\n",
    "    print(n, end = '')"
   ]
  },
  {
   "cell_type": "code",
   "execution_count": 11,
   "id": "b054235a-9572-48f5-93a1-fc36e46db850",
   "metadata": {},
   "outputs": [
    {
     "name": "stdout",
     "output_type": "stream",
     "text": [
      "Addition is  100\n"
     ]
    }
   ],
   "source": [
    "# addition of odd numbers from 1 to 20\n",
    "\n",
    "add = 0\n",
    "\n",
    "for n in range(1,21,2):\n",
    "    add = add + n\n",
    "print('Addition is ',add)"
   ]
  },
  {
   "cell_type": "code",
   "execution_count": 14,
   "id": "663efd55-64d3-4b4e-a962-11281178b75b",
   "metadata": {},
   "outputs": [
    {
     "name": "stdout",
     "output_type": "stream",
     "text": [
      "DnyneshwariDnyneshwariDnyneshwariDnyneshwariDnyneshwariDnyneshwariDnyneshwariDnyneshwariDnyneshwariDnyneshwari"
     ]
    }
   ],
   "source": [
    "for n in range(10):\n",
    "    print('Dnyneshwari', end = '')"
   ]
  },
  {
   "cell_type": "code",
   "execution_count": 15,
   "id": "15e6f2b0-14c2-4570-8554-f173a28a138c",
   "metadata": {},
   "outputs": [
    {
     "name": "stdout",
     "output_type": "stream",
     "text": [
      "TTT\n",
      "aaa\n",
      "nnn\n",
      "vvv\n",
      "iii\n"
     ]
    }
   ],
   "source": [
    "for n in 'Tanvi':\n",
    "    print(n * 3)"
   ]
  },
  {
   "cell_type": "code",
   "execution_count": 16,
   "id": "3c99b688-0111-4e94-ace0-c54f6cdbec92",
   "metadata": {},
   "outputs": [
    {
     "name": "stdout",
     "output_type": "stream",
     "text": [
      "Tanvi\n",
      "Ganesh\n"
     ]
    }
   ],
   "source": [
    "for n in 'Tanvi', 'Ganesh':\n",
    "    print(n)"
   ]
  },
  {
   "cell_type": "code",
   "execution_count": 17,
   "id": "7c9d09c4-ab67-4dce-a78a-c51c80dd930e",
   "metadata": {},
   "outputs": [
    {
     "name": "stdout",
     "output_type": "stream",
     "text": [
      "23\n",
      "45\n",
      "32\n",
      "21\n",
      "67\n",
      "Loop ended\n"
     ]
    }
   ],
   "source": [
    "l = [23, 45, 32, 21, 67]\n",
    "\n",
    "for n in l:\n",
    "    print(n)\n",
    "else:\n",
    "    print('Loop ended')"
   ]
  },
  {
   "cell_type": "code",
   "execution_count": 19,
   "id": "6e57ee67-f14b-490e-a12f-2ca2ef8ce217",
   "metadata": {},
   "outputs": [
    {
     "name": "stdin",
     "output_type": "stream",
     "text": [
      "Enter the number 5\n"
     ]
    },
    {
     "name": "stdout",
     "output_type": "stream",
     "text": [
      "factorial is: 120\n"
     ]
    }
   ],
   "source": [
    "# find factorial of a number ... tke user input\n",
    "\n",
    "num = int(input('Enter the number'))\n",
    "fact = 1\n",
    "\n",
    "for n in range(1, num + 1):\n",
    "    fact = fact * n\n",
    "print('factorial is:', fact)"
   ]
  },
  {
   "cell_type": "code",
   "execution_count": 20,
   "id": "db0704ee-79e4-4316-86e8-c2a598a401c4",
   "metadata": {},
   "outputs": [],
   "source": [
    "### Break statement"
   ]
  },
  {
   "cell_type": "code",
   "execution_count": 21,
   "id": "47937338-1216-469b-928d-0f9e12b4e7a2",
   "metadata": {},
   "outputs": [
    {
     "name": "stdout",
     "output_type": "stream",
     "text": [
      "1\n",
      "2\n",
      "3\n",
      "4\n"
     ]
    }
   ],
   "source": [
    "for n in range(1, 10):\n",
    "    if n == 5:\n",
    "        break\n",
    "    print(n)\n",
    " "
   ]
  },
  {
   "cell_type": "code",
   "execution_count": 22,
   "id": "5f9009d4-53e5-481a-b009-1e193132dc5b",
   "metadata": {},
   "outputs": [
    {
     "name": "stdout",
     "output_type": "stream",
     "text": [
      "0\n",
      "1\n",
      "2\n",
      "3\n",
      "4\n",
      "5\n"
     ]
    }
   ],
   "source": [
    "count = 0\n",
    "while count < 10:\n",
    "    print(count)\n",
    "    if count == 5:\n",
    "        break\n",
    "    count += 1\n"
   ]
  },
  {
   "cell_type": "code",
   "execution_count": 23,
   "id": "7f3479c6-430a-46f2-9d19-a5d8e67a6abc",
   "metadata": {},
   "outputs": [],
   "source": [
    "# Continue"
   ]
  },
  {
   "cell_type": "code",
   "execution_count": 24,
   "id": "f9af80c6-5dd4-4932-81ee-20f2adaa07c5",
   "metadata": {},
   "outputs": [
    {
     "name": "stdout",
     "output_type": "stream",
     "text": [
      "1\n",
      "2\n",
      "3\n",
      "4\n",
      "6\n",
      "7\n",
      "8\n",
      "9\n"
     ]
    }
   ],
   "source": [
    "for n in range(1, 10):\n",
    "    if n == 5:\n",
    "        continue\n",
    "    print(n)"
   ]
  },
  {
   "cell_type": "code",
   "execution_count": 25,
   "id": "d67244d0-5f90-452e-816c-14034499482a",
   "metadata": {},
   "outputs": [
    {
     "name": "stdout",
     "output_type": "stream",
     "text": [
      "1\n",
      "3\n",
      "5\n",
      "7\n",
      "9\n",
      "11\n"
     ]
    }
   ],
   "source": [
    "# print odd number from 1 to 12 using continue statement\n",
    "\n",
    "for i in range(1,13):\n",
    "    if i % 2 == 0:\n",
    "        continue\n",
    "    print(i)"
   ]
  },
  {
   "cell_type": "code",
   "execution_count": 26,
   "id": "a3f4b4fa-d755-4734-81de-2053e4eed817",
   "metadata": {},
   "outputs": [],
   "source": [
    "# Pass"
   ]
  },
  {
   "cell_type": "code",
   "execution_count": 27,
   "id": "a29ba738-c406-4ad2-81e1-45c1ab79de8a",
   "metadata": {},
   "outputs": [],
   "source": [
    "num= 5\n",
    "\n",
    "if num > 1:\n",
    "    pass"
   ]
  },
  {
   "cell_type": "code",
   "execution_count": 28,
   "id": "f00f7b94-3d5f-486f-8ca0-8bf307281176",
   "metadata": {},
   "outputs": [
    {
     "name": "stdin",
     "output_type": "stream",
     "text": [
      "Enter the number of rows 10\n"
     ]
    },
    {
     "name": "stdout",
     "output_type": "stream",
     "text": [
      "*\n",
      "**\n",
      "***\n",
      "****\n",
      "*****\n",
      "******\n",
      "*******\n",
      "********\n",
      "*********\n",
      "**********\n"
     ]
    }
   ],
   "source": [
    "'''\n",
    "*\n",
    "**\n",
    "***\n",
    "''';\n",
    "\n",
    "row = int(input('Enter the number of rows'))\n",
    "\n",
    "for i in range(1, row + 1):\n",
    "    for j in range(i):\n",
    "        print('*',end = '')\n",
    "    print()"
   ]
  },
  {
   "cell_type": "code",
   "execution_count": 29,
   "id": "1a069a78-05b9-4f6f-bd53-2adcd5a77cf6",
   "metadata": {},
   "outputs": [],
   "source": [
    "### FOR LOOP "
   ]
  },
  {
   "cell_type": "code",
   "execution_count": 30,
   "id": "f91d8496-a876-425f-94fe-fa3304a42b04",
   "metadata": {},
   "outputs": [
    {
     "name": "stdout",
     "output_type": "stream",
     "text": [
      "34\n",
      "45\n",
      "21\n",
      "33\n",
      "57\n"
     ]
    }
   ],
   "source": [
    "for n in 34, 45, 21, 33, 57:\n",
    "    print(n)"
   ]
  },
  {
   "cell_type": "code",
   "execution_count": 31,
   "id": "1d02427e-41ec-47c6-83e1-a37a879d59f4",
   "metadata": {},
   "outputs": [
    {
     "name": "stdout",
     "output_type": "stream",
     "text": [
      "17.0\n",
      "22.5\n",
      "10.5\n",
      "16.5\n",
      "28.5\n"
     ]
    }
   ],
   "source": [
    "for n in 34, 45, 21, 33, 57:\n",
    "    print(n/2)"
   ]
  },
  {
   "cell_type": "code",
   "execution_count": 32,
   "id": "7183064f-ab36-473c-8e5f-453cead8c243",
   "metadata": {},
   "outputs": [
    {
     "name": "stdout",
     "output_type": "stream",
     "text": [
      "34\n",
      "45\n",
      "21\n",
      "33\n",
      "57\n",
      "67.33\n",
      "Adi\n",
      "True\n"
     ]
    }
   ],
   "source": [
    "for n in 34, 45, 21, 33, 57, 67.33, 'Adi', True:\n",
    "    print(n)"
   ]
  },
  {
   "cell_type": "code",
   "execution_count": null,
   "id": "50272acb-91f8-43b4-a905-2d709f20247c",
   "metadata": {},
   "outputs": [],
   "source": []
  }
 ],
 "metadata": {
  "kernelspec": {
   "display_name": "Python 3 (ipykernel)",
   "language": "python",
   "name": "python3"
  },
  "language_info": {
   "codemirror_mode": {
    "name": "ipython",
    "version": 3
   },
   "file_extension": ".py",
   "mimetype": "text/x-python",
   "name": "python",
   "nbconvert_exporter": "python",
   "pygments_lexer": "ipython3",
   "version": "3.11.7"
  }
 },
 "nbformat": 4,
 "nbformat_minor": 5
}
