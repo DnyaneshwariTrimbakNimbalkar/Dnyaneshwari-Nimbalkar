{
 "cells": [
  {
   "cell_type": "code",
   "execution_count": 1,
   "id": "3894448e-07ac-4f0f-9e46-cbc6c59e21dd",
   "metadata": {},
   "outputs": [],
   "source": [
    "# Functions in python"
   ]
  },
  {
   "cell_type": "code",
   "execution_count": 2,
   "id": "8c845e7c-1ce0-4ab5-8fa6-7d0f87b108da",
   "metadata": {},
   "outputs": [],
   "source": [
    "def show():  # function defining\n",
    "    print('Hello')\n",
    "    print('Welcome')\n",
    "    print('Khana kha ke jaana')"
   ]
  },
  {
   "cell_type": "code",
   "execution_count": 3,
   "id": "04c95291-ed20-4340-a9be-29606583ef0e",
   "metadata": {},
   "outputs": [
    {
     "name": "stdout",
     "output_type": "stream",
     "text": [
      "Hello\n",
      "Welcome\n",
      "Khana kha ke jaana\n"
     ]
    }
   ],
   "source": [
    "show()   # calling the function"
   ]
  },
  {
   "cell_type": "code",
   "execution_count": 4,
   "id": "09445339-c0e3-4ad7-9208-6341ce6b467b",
   "metadata": {},
   "outputs": [
    {
     "name": "stdout",
     "output_type": "stream",
     "text": [
      "Hello\n",
      "Welcome\n",
      "Khana kha ke jaana\n",
      "Hello\n",
      "Welcome\n",
      "Khana kha ke jaana\n",
      "Hello\n",
      "Welcome\n",
      "Khana kha ke jaana\n"
     ]
    }
   ],
   "source": [
    "show()  # calling the function multiple time\n",
    "show()\n",
    "show()"
   ]
  },
  {
   "cell_type": "code",
   "execution_count": 5,
   "id": "2addb525-9535-400a-a57c-29340c671f28",
   "metadata": {},
   "outputs": [],
   "source": [
    "## parameterized function\n",
    "\n",
    "def square(a):\n",
    "    result = a * a\n",
    "    print('square is ',result)"
   ]
  },
  {
   "cell_type": "code",
   "execution_count": 6,
   "id": "91fbbe01-b513-423c-9205-91edb1cf70be",
   "metadata": {},
   "outputs": [
    {
     "name": "stdout",
     "output_type": "stream",
     "text": [
      "square is  100\n"
     ]
    }
   ],
   "source": [
    "square(10)"
   ]
  },
  {
   "cell_type": "code",
   "execution_count": 7,
   "id": "59e64081-3c5e-42dc-959c-bb873892805a",
   "metadata": {},
   "outputs": [
    {
     "ename": "TypeError",
     "evalue": "square() missing 1 required positional argument: 'a'",
     "output_type": "error",
     "traceback": [
      "\u001b[1;31m---------------------------------------------------------------------------\u001b[0m",
      "\u001b[1;31mTypeError\u001b[0m                                 Traceback (most recent call last)",
      "Cell \u001b[1;32mIn[7], line 1\u001b[0m\n\u001b[1;32m----> 1\u001b[0m square()\n",
      "\u001b[1;31mTypeError\u001b[0m: square() missing 1 required positional argument: 'a'"
     ]
    }
   ],
   "source": [
    "square() # is not run"
   ]
  },
  {
   "cell_type": "code",
   "execution_count": 18,
   "id": "06730843-0dd4-4452-93ed-511f7939f711",
   "metadata": {},
   "outputs": [],
   "source": [
    "# multi paramerized function\n",
    "def large(x, y):\n",
    "    if x >= y:\n",
    "        print('lragest is ', x)\n",
    "    elif x == y:\n",
    "        print('Equal')\n",
    "    else:\n",
    "        print('largest is ', y)"
   ]
  },
  {
   "cell_type": "code",
   "execution_count": 19,
   "id": "974df013-0504-41f8-8d9d-ed6a1f185bc3",
   "metadata": {},
   "outputs": [
    {
     "name": "stdout",
     "output_type": "stream",
     "text": [
      "lragest is  12\n"
     ]
    }
   ],
   "source": [
    "large(12, 10)"
   ]
  },
  {
   "cell_type": "code",
   "execution_count": 20,
   "id": "6c8f0e46-8c1f-4f6c-8f5e-1178b41a0388",
   "metadata": {},
   "outputs": [
    {
     "name": "stdout",
     "output_type": "stream",
     "text": [
      "lragest is  10\n"
     ]
    }
   ],
   "source": [
    "large(10, 10)"
   ]
  },
  {
   "cell_type": "code",
   "execution_count": 30,
   "id": "b9ef6806-f2fb-4a70-96e7-69f715a9d76c",
   "metadata": {},
   "outputs": [],
   "source": [
    "# careate function to accept value and print how many print\n",
    "\n",
    "def dis(name , count):\n",
    "    for i in range(count):\n",
    "        print(name)\n",
    "    "
   ]
  },
  {
   "cell_type": "code",
   "execution_count": 32,
   "id": "06a4ce5a-f60b-433b-847a-59b4266d1cd3",
   "metadata": {},
   "outputs": [
    {
     "name": "stdout",
     "output_type": "stream",
     "text": [
      "Pune\n",
      "Pune\n",
      "Pune\n",
      "Pune\n",
      "Pune\n",
      "Pune\n",
      "Pune\n"
     ]
    }
   ],
   "source": [
    "dis('Pune',7)"
   ]
  },
  {
   "cell_type": "code",
   "execution_count": 88,
   "id": "bd0e643b-4080-4fcb-8e2a-395c0b0ce75a",
   "metadata": {},
   "outputs": [],
   "source": [
    "# create function for factorial\n",
    "\n",
    "def facto(n):\n",
    "    fact = 1\n",
    "    for i in range(1, n+1):\n",
    "        fact = fact * i\n",
    "    print (fact)\n",
    "    "
   ]
  },
  {
   "cell_type": "code",
   "execution_count": 47,
   "id": "03863623-081c-407c-811f-6ab98fc0db99",
   "metadata": {},
   "outputs": [
    {
     "name": "stdout",
     "output_type": "stream",
     "text": [
      "120\n"
     ]
    }
   ],
   "source": [
    "facto(5)"
   ]
  },
  {
   "cell_type": "code",
   "execution_count": 48,
   "id": "85d58c05-089e-4644-97d7-ba9b0135456b",
   "metadata": {},
   "outputs": [],
   "source": [
    "# function returning values\n",
    "\n",
    "def square(n):\n",
    "    result = n * n\n",
    "    return result"
   ]
  },
  {
   "cell_type": "code",
   "execution_count": 49,
   "id": "8876e11d-992a-4a8a-990c-14fd41d61881",
   "metadata": {},
   "outputs": [
    {
     "data": {
      "text/plain": [
       "100"
      ]
     },
     "execution_count": 49,
     "metadata": {},
     "output_type": "execute_result"
    }
   ],
   "source": [
    "square(10)"
   ]
  },
  {
   "cell_type": "code",
   "execution_count": 60,
   "id": "113449fb-cb6f-4c2f-9172-b58102c9dfc4",
   "metadata": {},
   "outputs": [],
   "source": [
    "\n",
    "def square(n):\n",
    "    result = n * n\n",
    "    print('square is ',result)"
   ]
  },
  {
   "cell_type": "code",
   "execution_count": 61,
   "id": "7a8ceb31-3d5f-4ea1-87b9-b74ae856df70",
   "metadata": {},
   "outputs": [
    {
     "name": "stdout",
     "output_type": "stream",
     "text": [
      "square is  100\n"
     ]
    }
   ],
   "source": [
    "square(10)"
   ]
  },
  {
   "cell_type": "code",
   "execution_count": 62,
   "id": "acc845f8-6df5-409f-bb40-bfca45d14875",
   "metadata": {},
   "outputs": [],
   "source": [
    "## difference between  print and return"
   ]
  },
  {
   "cell_type": "code",
   "execution_count": 67,
   "id": "ee12575b-8959-409e-a02c-be6e93ab8dc6",
   "metadata": {},
   "outputs": [
    {
     "name": "stdout",
     "output_type": "stream",
     "text": [
      "12\n",
      "12\n",
      "Adition is None\n"
     ]
    }
   ],
   "source": [
    "def add2(x, y):\n",
    "    result = x + y\n",
    "    print(result)\n",
    "\n",
    "add2(5, 7)\n",
    "\n",
    "op = add2(5,7)\n",
    "\n",
    "print('Adition is',op)"
   ]
  },
  {
   "cell_type": "code",
   "execution_count": 69,
   "id": "2890f4c7-0707-4831-b8a3-f01854cf2e51",
   "metadata": {},
   "outputs": [
    {
     "name": "stdout",
     "output_type": "stream",
     "text": [
      "Adition is 12\n"
     ]
    }
   ],
   "source": [
    "def add2(x, y):\n",
    "    result = x + y\n",
    "    return result\n",
    "\n",
    "add2(5, 7)\n",
    "\n",
    "op = add2(5,7)\n",
    "\n",
    "print('Adition is',op)"
   ]
  },
  {
   "cell_type": "code",
   "execution_count": 76,
   "id": "b1dd9f4e-7a59-4bc2-ba91-c88c1457f89f",
   "metadata": {},
   "outputs": [],
   "source": [
    "def large(x, y):\n",
    "    if x >= y:\n",
    "       return x\n",
    "    elif x == y:\n",
    "        return 'Equal'\n",
    "    else:\n",
    "       return y"
   ]
  },
  {
   "cell_type": "code",
   "execution_count": 75,
   "id": "67a3f102-66e6-4fd2-9fee-faabfa4ea36a",
   "metadata": {},
   "outputs": [
    {
     "data": {
      "text/plain": [
       "10"
      ]
     },
     "execution_count": 75,
     "metadata": {},
     "output_type": "execute_result"
    }
   ],
   "source": [
    "large(10,7)"
   ]
  },
  {
   "cell_type": "code",
   "execution_count": 77,
   "id": "3dc7f709-d355-447f-911e-cf07a5e26d22",
   "metadata": {},
   "outputs": [
    {
     "data": {
      "text/plain": [
       "10"
      ]
     },
     "execution_count": 77,
     "metadata": {},
     "output_type": "execute_result"
    }
   ],
   "source": [
    "large(10, 10)"
   ]
  },
  {
   "cell_type": "code",
   "execution_count": null,
   "id": "ac1a6107-e685-4aaa-b084-2585842dc97a",
   "metadata": {},
   "outputs": [],
   "source": [
    "### probablity\n"
   ]
  },
  {
   "cell_type": "code",
   "execution_count": 91,
   "id": "c55dc5fe-0d34-4887-b9fa-ec0c493e8528",
   "metadata": {},
   "outputs": [],
   "source": [
    "def facto(n):\n",
    "    fact = 1\n",
    "    for i in range(1, n+1):\n",
    "        fact = fact * i\n",
    "    return fact\n",
    "    "
   ]
  },
  {
   "cell_type": "code",
   "execution_count": 92,
   "id": "c7828848-413e-4e0d-ba9c-5c1627d6e9d4",
   "metadata": {},
   "outputs": [
    {
     "name": "stdout",
     "output_type": "stream",
     "text": [
      "120.0\n"
     ]
    }
   ],
   "source": [
    "n =10\n",
    "r = 3\n",
    "\n",
    "#ncr = n! / r!(n - r)!\n",
    "ncr = facto(n) / (facto(r) * facto(n - r))\n",
    "print(ncr)\n"
   ]
  },
  {
   "cell_type": "code",
   "execution_count": 93,
   "id": "41c2154a-4122-4f14-bba0-9937931d632b",
   "metadata": {},
   "outputs": [],
   "source": [
    "# we can return multiple\n",
    "def cal(n):\n",
    "    sq = n * n\n",
    "    cu = n ** 3\n",
    "    return sq, cu"
   ]
  },
  {
   "cell_type": "code",
   "execution_count": 94,
   "id": "7e4f50f9-d2e0-4281-8fd2-f4aad7b1a492",
   "metadata": {},
   "outputs": [
    {
     "data": {
      "text/plain": [
       "(9, 27)"
      ]
     },
     "execution_count": 94,
     "metadata": {},
     "output_type": "execute_result"
    }
   ],
   "source": [
    "cal(3)"
   ]
  },
  {
   "cell_type": "code",
   "execution_count": 96,
   "id": "215e2701-1e30-4464-b804-7ecb0cc298a5",
   "metadata": {},
   "outputs": [],
   "source": [
    "# tuple()\n",
    "#list[]"
   ]
  },
  {
   "cell_type": "code",
   "execution_count": 99,
   "id": "05c89053-75dd-40a6-98bc-590cb36da1b0",
   "metadata": {},
   "outputs": [
    {
     "name": "stdin",
     "output_type": "stream",
     "text": [
      "Enter the number 5\n"
     ]
    },
    {
     "name": "stdout",
     "output_type": "stream",
     "text": [
      "x 25\n",
      "y 125\n"
     ]
    }
   ],
   "source": [
    "num = int(input('Enter the number'))\n",
    "x , y = cal(num)  # required positional arguments\n",
    "\n",
    "print('x',x)\n",
    "print('y', y)"
   ]
  },
  {
   "cell_type": "code",
   "execution_count": 100,
   "id": "5efaeec6-18ec-44fc-81ad-710a25a5b059",
   "metadata": {},
   "outputs": [],
   "source": [
    "# default parameter\n",
    "\n",
    "def add3(a, b, c):\n",
    "    result = a + b + c\n",
    "    return result"
   ]
  },
  {
   "cell_type": "code",
   "execution_count": 102,
   "id": "cf1a267b-b241-4200-ba04-651811c45074",
   "metadata": {},
   "outputs": [
    {
     "ename": "TypeError",
     "evalue": "add3() missing 3 required positional arguments: 'a', 'b', and 'c'",
     "output_type": "error",
     "traceback": [
      "\u001b[1;31m---------------------------------------------------------------------------\u001b[0m",
      "\u001b[1;31mTypeError\u001b[0m                                 Traceback (most recent call last)",
      "Cell \u001b[1;32mIn[102], line 1\u001b[0m\n\u001b[1;32m----> 1\u001b[0m add3()\n",
      "\u001b[1;31mTypeError\u001b[0m: add3() missing 3 required positional arguments: 'a', 'b', and 'c'"
     ]
    }
   ],
   "source": [
    "add3()"
   ]
  },
  {
   "cell_type": "code",
   "execution_count": 103,
   "id": "ea6e5948-69c8-4465-a2db-b1bbab7bf0da",
   "metadata": {},
   "outputs": [
    {
     "ename": "TypeError",
     "evalue": "add3() missing 2 required positional arguments: 'b' and 'c'",
     "output_type": "error",
     "traceback": [
      "\u001b[1;31m---------------------------------------------------------------------------\u001b[0m",
      "\u001b[1;31mTypeError\u001b[0m                                 Traceback (most recent call last)",
      "Cell \u001b[1;32mIn[103], line 1\u001b[0m\n\u001b[1;32m----> 1\u001b[0m add3(\u001b[38;5;241m5\u001b[39m)\n",
      "\u001b[1;31mTypeError\u001b[0m: add3() missing 2 required positional arguments: 'b' and 'c'"
     ]
    }
   ],
   "source": [
    "add3(5)"
   ]
  },
  {
   "cell_type": "code",
   "execution_count": 104,
   "id": "d1844be3-f492-4d32-9f67-edd576cd0ab6",
   "metadata": {},
   "outputs": [
    {
     "ename": "TypeError",
     "evalue": "add3() missing 1 required positional argument: 'c'",
     "output_type": "error",
     "traceback": [
      "\u001b[1;31m---------------------------------------------------------------------------\u001b[0m",
      "\u001b[1;31mTypeError\u001b[0m                                 Traceback (most recent call last)",
      "Cell \u001b[1;32mIn[104], line 1\u001b[0m\n\u001b[1;32m----> 1\u001b[0m add3(\u001b[38;5;241m5\u001b[39m,\u001b[38;5;241m5\u001b[39m)\n",
      "\u001b[1;31mTypeError\u001b[0m: add3() missing 1 required positional argument: 'c'"
     ]
    }
   ],
   "source": [
    "add3(5,5)"
   ]
  },
  {
   "cell_type": "code",
   "execution_count": 105,
   "id": "4e7f646f-3d13-4c42-8b01-ef4fa22da773",
   "metadata": {},
   "outputs": [
    {
     "data": {
      "text/plain": [
       "15"
      ]
     },
     "execution_count": 105,
     "metadata": {},
     "output_type": "execute_result"
    }
   ],
   "source": [
    "add3(5,5,5)"
   ]
  },
  {
   "cell_type": "code",
   "execution_count": 106,
   "id": "191a121e-bfe1-4235-a06b-0542e855eb37",
   "metadata": {},
   "outputs": [
    {
     "ename": "TypeError",
     "evalue": "add3() takes 3 positional arguments but 4 were given",
     "output_type": "error",
     "traceback": [
      "\u001b[1;31m---------------------------------------------------------------------------\u001b[0m",
      "\u001b[1;31mTypeError\u001b[0m                                 Traceback (most recent call last)",
      "Cell \u001b[1;32mIn[106], line 1\u001b[0m\n\u001b[1;32m----> 1\u001b[0m add3(\u001b[38;5;241m5\u001b[39m,\u001b[38;5;241m5\u001b[39m,\u001b[38;5;241m5\u001b[39m,\u001b[38;5;241m6\u001b[39m)\n",
      "\u001b[1;31mTypeError\u001b[0m: add3() takes 3 positional arguments but 4 were given"
     ]
    }
   ],
   "source": [
    "add3(5,5,5,6)"
   ]
  },
  {
   "cell_type": "code",
   "execution_count": 107,
   "id": "8ba71183-7632-45a0-b124-746a75001e17",
   "metadata": {},
   "outputs": [],
   "source": [
    "# default \n",
    "def add3(a= 10, b= 5, c= 15):\n",
    "    result = a + b + c\n",
    "    return result"
   ]
  },
  {
   "cell_type": "code",
   "execution_count": 108,
   "id": "9e715d43-f508-403b-8c51-ee459364b650",
   "metadata": {},
   "outputs": [
    {
     "data": {
      "text/plain": [
       "30"
      ]
     },
     "execution_count": 108,
     "metadata": {},
     "output_type": "execute_result"
    }
   ],
   "source": [
    "add3()"
   ]
  },
  {
   "cell_type": "code",
   "execution_count": 109,
   "id": "cc696240-9b42-4993-af25-dc7b16d1a5e7",
   "metadata": {},
   "outputs": [
    {
     "data": {
      "text/plain": [
       "45"
      ]
     },
     "execution_count": 109,
     "metadata": {},
     "output_type": "execute_result"
    }
   ],
   "source": [
    "add3(20, 10)"
   ]
  },
  {
   "cell_type": "code",
   "execution_count": 110,
   "id": "1e63bccb-127a-48c3-bfcb-8e445f7c2584",
   "metadata": {},
   "outputs": [],
   "source": [
    "def add3(a= 10, b= 5, c= 15):\n",
    "    result = a + b + c\n",
    "    return result"
   ]
  },
  {
   "cell_type": "code",
   "execution_count": 112,
   "id": "d2666f5e-8700-4a96-bfa4-2089e2ff252d",
   "metadata": {},
   "outputs": [
    {
     "data": {
      "text/plain": [
       "40"
      ]
     },
     "execution_count": 112,
     "metadata": {},
     "output_type": "execute_result"
    }
   ],
   "source": [
    "add3(a=15,c=20)"
   ]
  },
  {
   "cell_type": "code",
   "execution_count": 117,
   "id": "cb7a3f67-8e70-4675-81d1-ce4ce5f2c200",
   "metadata": {},
   "outputs": [
    {
     "ename": "SyntaxError",
     "evalue": "non-default argument follows default argument (2742601626.py, line 1)",
     "output_type": "error",
     "traceback": [
      "\u001b[1;36m  Cell \u001b[1;32mIn[117], line 1\u001b[1;36m\u001b[0m\n\u001b[1;33m    def add3( a= 10,b, c= 15):\u001b[0m\n\u001b[1;37m                    ^\u001b[0m\n\u001b[1;31mSyntaxError\u001b[0m\u001b[1;31m:\u001b[0m non-default argument follows default argument\n"
     ]
    }
   ],
   "source": [
    "def add3( a= 10,b, c= 15): # first we write b and then what evere\n",
    "    result = a + b + c\n",
    "    return result"
   ]
  },
  {
   "cell_type": "code",
   "execution_count": 119,
   "id": "80e57501-b23f-4bc7-a418-01e07425ab46",
   "metadata": {},
   "outputs": [],
   "source": [
    "def add3( b,a =10, c= 15):\n",
    "    result = a + b + c\n",
    "    return result"
   ]
  },
  {
   "cell_type": "code",
   "execution_count": 120,
   "id": "15ef3b85-6972-4221-abee-5d1282e10cc8",
   "metadata": {},
   "outputs": [
    {
     "data": {
      "text/plain": [
       "32"
      ]
     },
     "execution_count": 120,
     "metadata": {},
     "output_type": "execute_result"
    }
   ],
   "source": [
    "add3(7)"
   ]
  },
  {
   "cell_type": "code",
   "execution_count": 128,
   "id": "c2b44736-77c6-476d-84e8-163e937244b2",
   "metadata": {},
   "outputs": [],
   "source": [
    "# dynamic or variable length\n",
    "\n",
    "def disp(*x):\n",
    "    for i in x:\n",
    "        print(i)\n",
    "    "
   ]
  },
  {
   "cell_type": "code",
   "execution_count": 129,
   "id": "c5e236f5-0d7e-4f41-b504-0b5374ed7047",
   "metadata": {},
   "outputs": [
    {
     "name": "stdout",
     "output_type": "stream",
     "text": [
      "4\n",
      "3\n",
      "4\n",
      "6\n",
      "7\n",
      "8\n",
      "9\n"
     ]
    }
   ],
   "source": [
    "disp(4, 3, 4, 6, 7, 8, 9)"
   ]
  },
  {
   "cell_type": "code",
   "execution_count": 127,
   "id": "72f945e8-c503-47a9-a318-fccb50b7bfbe",
   "metadata": {},
   "outputs": [
    {
     "data": {
      "text/plain": [
       "int"
      ]
     },
     "execution_count": 127,
     "metadata": {},
     "output_type": "execute_result"
    }
   ],
   "source": [
    "type(x)"
   ]
  },
  {
   "cell_type": "code",
   "execution_count": 130,
   "id": "d406dfbe-9879-4d14-91a0-2920e66b8310",
   "metadata": {},
   "outputs": [],
   "source": [
    "## lambda function / one liner\n",
    "## function nmae = lambda keyword variable : \n",
    "squ= lambda x: x * x"
   ]
  },
  {
   "cell_type": "code",
   "execution_count": 131,
   "id": "32035e58-27fc-4433-b58e-878c79a7951f",
   "metadata": {},
   "outputs": [
    {
     "data": {
      "text/plain": [
       "4"
      ]
     },
     "execution_count": 131,
     "metadata": {},
     "output_type": "execute_result"
    }
   ],
   "source": [
    "squ(2)"
   ]
  },
  {
   "cell_type": "code",
   "execution_count": 139,
   "id": "b297f778-afe7-4508-8abf-dbef523c041d",
   "metadata": {},
   "outputs": [],
   "source": [
    "mul = lambda x,y: x*y"
   ]
  },
  {
   "cell_type": "code",
   "execution_count": 140,
   "id": "8a697606-7fa7-4950-b876-7e8eebdde22f",
   "metadata": {},
   "outputs": [
    {
     "data": {
      "text/plain": [
       "200"
      ]
     },
     "execution_count": 140,
     "metadata": {},
     "output_type": "execute_result"
    }
   ],
   "source": [
    "mul(10,20)"
   ]
  },
  {
   "cell_type": "code",
   "execution_count": null,
   "id": "fc7076a2-294e-4135-a7bc-bbc3a81f5947",
   "metadata": {},
   "outputs": [],
   "source": []
  },
  {
   "cell_type": "code",
   "execution_count": null,
   "id": "4d47ec3f-0960-4570-894e-14ec95836903",
   "metadata": {},
   "outputs": [],
   "source": []
  },
  {
   "cell_type": "code",
   "execution_count": null,
   "id": "47516249-499a-41ec-93f7-ea4b7180f0d3",
   "metadata": {},
   "outputs": [],
   "source": []
  }
 ],
 "metadata": {
  "kernelspec": {
   "display_name": "Python 3 (ipykernel)",
   "language": "python",
   "name": "python3"
  },
  "language_info": {
   "codemirror_mode": {
    "name": "ipython",
    "version": 3
   },
   "file_extension": ".py",
   "mimetype": "text/x-python",
   "name": "python",
   "nbconvert_exporter": "python",
   "pygments_lexer": "ipython3",
   "version": "3.11.7"
  }
 },
 "nbformat": 4,
 "nbformat_minor": 5
}
