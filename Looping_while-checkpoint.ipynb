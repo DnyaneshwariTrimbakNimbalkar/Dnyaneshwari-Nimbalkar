{
 "cells": [
  {
   "cell_type": "code",
   "execution_count": 1,
   "id": "9df47c4b-b74a-4878-964f-e99bcbdcb435",
   "metadata": {},
   "outputs": [
    {
     "name": "stdout",
     "output_type": "stream",
     "text": [
      "Dnyaneshwari\n",
      "Dnyaneshwari\n",
      "Dnyaneshwari\n",
      "Dnyaneshwari\n",
      "Dnyaneshwari\n"
     ]
    }
   ],
   "source": [
    "count = 1\n",
    "\n",
    "while count <= 5:\n",
    "    print('Dnyaneshwari')\n",
    "    count = count + 1"
   ]
  },
  {
   "cell_type": "code",
   "execution_count": 4,
   "id": "5af820c6-7b9a-4236-b0d6-5b4aee894bf3",
   "metadata": {},
   "outputs": [
    {
     "name": "stdout",
     "output_type": "stream",
     "text": [
      "56789101112131415Goodbye!!!\n"
     ]
    }
   ],
   "source": [
    "# print number from 5 to 15\n",
    "\n",
    "count = 5\n",
    "while count <= 15:\n",
    "    print(count, end = '')\n",
    "    count += 1\n",
    "print('Goodbye!!!')"
   ]
  },
  {
   "cell_type": "code",
   "execution_count": 5,
   "id": "304180c0-6f5c-4783-aaeb-8b839686e471",
   "metadata": {},
   "outputs": [
    {
     "name": "stdout",
     "output_type": "stream",
     "text": [
      "16\n"
     ]
    }
   ],
   "source": [
    "print(count)"
   ]
  },
  {
   "cell_type": "code",
   "execution_count": 6,
   "id": "5dd138f9-0015-42ed-9e86-a156ed55787d",
   "metadata": {},
   "outputs": [
    {
     "name": "stdout",
     "output_type": "stream",
     "text": [
      "Addition is 100\n"
     ]
    }
   ],
   "source": [
    "# print the addition of all odd number from 1 to 20\n",
    "\n",
    "count = 1\n",
    "add = 0\n",
    "\n",
    "while count <=20:\n",
    "    add = add + count\n",
    "    count +=2\n",
    "print('Addition is',add)"
   ]
  },
  {
   "cell_type": "code",
   "execution_count": 7,
   "id": "51a92a70-6764-4948-b7f7-4ea648a3b7e9",
   "metadata": {},
   "outputs": [
    {
     "name": "stdout",
     "output_type": "stream",
     "text": [
      "Factorial is : 120\n"
     ]
    }
   ],
   "source": [
    "# factorial => 5! => 5*4*3*2*1 = 120\n",
    "\n",
    "num = 1\n",
    "\n",
    "fact = 1\n",
    "\n",
    "while num <= 5:\n",
    "    fact = fact * num\n",
    "    num +=1\n",
    "print('Factorial is :',fact)"
   ]
  },
  {
   "cell_type": "code",
   "execution_count": 8,
   "id": "558ee1b1-86e9-4634-9dcc-f10816daff27",
   "metadata": {},
   "outputs": [
    {
     "name": "stdin",
     "output_type": "stream",
     "text": [
      "Enter the number 5\n"
     ]
    },
    {
     "name": "stdout",
     "output_type": "stream",
     "text": [
      "Fctorial is : 120\n"
     ]
    }
   ],
   "source": [
    "num = int(input('Enter the number'))\n",
    "fact =1\n",
    "\n",
    "while num > 1:\n",
    "    fact = fact * num\n",
    "    num -=1\n",
    "print('Fctorial is :',fact)"
   ]
  },
  {
   "cell_type": "code",
   "execution_count": 9,
   "id": "582932c3-f36d-4a27-9129-bb016061449d",
   "metadata": {},
   "outputs": [
    {
     "name": "stdin",
     "output_type": "stream",
     "text": [
      "Enter the number 5\n"
     ]
    },
    {
     "name": "stdout",
     "output_type": "stream",
     "text": [
      "Loop ended\n",
      "factorial is : 120\n"
     ]
    }
   ],
   "source": [
    "# else\n",
    "\n",
    "num = int(input('Enter the number'))\n",
    "fact =1\n",
    "\n",
    "while num > 1:\n",
    "    fact = fact * num\n",
    "    num -= 1\n",
    "else:\n",
    "    print('Loop ended')\n",
    "print('factorial is :', fact)"
   ]
  },
  {
   "cell_type": "code",
   "execution_count": 10,
   "id": "d9459d66-02b8-4a06-9afc-865893a75855",
   "metadata": {},
   "outputs": [],
   "source": [
    "''' # infinite loop\n",
    "\n",
    "num = 2\n",
    "\n",
    "while num > 1:\n",
    "     print(num)\n",
    "     num =+ 1 ''';\n",
    "     "
   ]
  },
  {
   "cell_type": "code",
   "execution_count": 11,
   "id": "b73405ad-dac9-4c3a-900c-cb7d3e8427dc",
   "metadata": {},
   "outputs": [],
   "source": [
    "''' while True\n",
    "      print('a')\n",
    "      ''';"
   ]
  },
  {
   "cell_type": "code",
   "execution_count": 12,
   "id": "75de0fdb-572a-4cdb-995b-f718065a84f8",
   "metadata": {},
   "outputs": [
    {
     "data": {
      "text/plain": [
       "4"
      ]
     },
     "execution_count": 12,
     "metadata": {},
     "output_type": "execute_result"
    }
   ],
   "source": [
    "num = 12345\n",
    "\n",
    "num % 10\n",
    "a = num // 10\n",
    "a % 10"
   ]
  },
  {
   "cell_type": "code",
   "execution_count": 13,
   "id": "4ae0a897-cdc7-44d8-b0f5-a37e987f8c6c",
   "metadata": {},
   "outputs": [
    {
     "name": "stdin",
     "output_type": "stream",
     "text": [
      "Enter the number 100\n"
     ]
    },
    {
     "name": "stdout",
     "output_type": "stream",
     "text": [
      "Addition of digits is: 1\n"
     ]
    }
   ],
   "source": [
    "## find the sum of digits in a number\n",
    "# 12345 => 1+ 2 + 3 + 4 + 5 =15\n",
    "\n",
    "num = int(input('Enter the number'))\n",
    "\n",
    "add = 0\n",
    "\n",
    "while num > 0:\n",
    "    rem = num % 10\n",
    "    add = add + rem\n",
    "    num = num // 10\n",
    "print('Addition of digits is:',add)"
   ]
  },
  {
   "cell_type": "code",
   "execution_count": null,
   "id": "84b99381-5f02-456e-992f-458fe460409f",
   "metadata": {},
   "outputs": [],
   "source": []
  }
 ],
 "metadata": {
  "kernelspec": {
   "display_name": "Python 3 (ipykernel)",
   "language": "python",
   "name": "python3"
  },
  "language_info": {
   "codemirror_mode": {
    "name": "ipython",
    "version": 3
   },
   "file_extension": ".py",
   "mimetype": "text/x-python",
   "name": "python",
   "nbconvert_exporter": "python",
   "pygments_lexer": "ipython3",
   "version": "3.11.7"
  }
 },
 "nbformat": 4,
 "nbformat_minor": 5
}
