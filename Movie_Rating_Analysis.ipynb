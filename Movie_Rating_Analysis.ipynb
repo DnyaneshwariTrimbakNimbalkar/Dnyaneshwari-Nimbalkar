{
 "cells": [
  {
   "cell_type": "code",
   "execution_count": 1,
   "id": "53a2ad5a-f160-4013-bce9-551537f3ce6b",
   "metadata": {},
   "outputs": [],
   "source": [
    "# Import the Libraries"
   ]
  },
  {
   "cell_type": "code",
   "execution_count": 168,
   "id": "b19095ef-9add-4b1e-a4a2-7dea84096e1d",
   "metadata": {},
   "outputs": [],
   "source": [
    "import pandas as pd\n",
    "import numpy as np\n",
    "import matplotlib.pyplot as plt\n",
    "import seaborn as sns"
   ]
  },
  {
   "cell_type": "code",
   "execution_count": 169,
   "id": "0103023e-7a67-4b9e-82dc-98b8e27b8097",
   "metadata": {},
   "outputs": [],
   "source": [
    "# Import the Movies and ratings Dataset"
   ]
  },
  {
   "cell_type": "code",
   "execution_count": 170,
   "id": "ea5e35d8-77f0-4e02-a77b-5ae88fcab39d",
   "metadata": {},
   "outputs": [],
   "source": [
    "df = pd.read_csv('movies.csv')\n",
    "df1 = pd.read_csv('ratings.csv')"
   ]
  },
  {
   "cell_type": "code",
   "execution_count": 171,
   "id": "65af7f10-c29d-47ed-a1a0-bb6d771041ba",
   "metadata": {},
   "outputs": [
    {
     "data": {
      "text/html": [
       "<div>\n",
       "<style scoped>\n",
       "    .dataframe tbody tr th:only-of-type {\n",
       "        vertical-align: middle;\n",
       "    }\n",
       "\n",
       "    .dataframe tbody tr th {\n",
       "        vertical-align: top;\n",
       "    }\n",
       "\n",
       "    .dataframe thead th {\n",
       "        text-align: right;\n",
       "    }\n",
       "</style>\n",
       "<table border=\"1\" class=\"dataframe\">\n",
       "  <thead>\n",
       "    <tr style=\"text-align: right;\">\n",
       "      <th></th>\n",
       "      <th>Film</th>\n",
       "      <th>Genre</th>\n",
       "      <th>Lead Studio</th>\n",
       "      <th>Audience score %</th>\n",
       "      <th>Profitability</th>\n",
       "      <th>Rotten Tomatoes %</th>\n",
       "      <th>Worldwide Gross</th>\n",
       "      <th>Year</th>\n",
       "    </tr>\n",
       "  </thead>\n",
       "  <tbody>\n",
       "    <tr>\n",
       "      <th>0</th>\n",
       "      <td>Zack and Miri Make a Porno</td>\n",
       "      <td>Romance</td>\n",
       "      <td>The Weinstein Company</td>\n",
       "      <td>70</td>\n",
       "      <td>1.747542</td>\n",
       "      <td>64</td>\n",
       "      <td>$41.94</td>\n",
       "      <td>2008</td>\n",
       "    </tr>\n",
       "    <tr>\n",
       "      <th>1</th>\n",
       "      <td>Youth in Revolt</td>\n",
       "      <td>Comedy</td>\n",
       "      <td>The Weinstein Company</td>\n",
       "      <td>52</td>\n",
       "      <td>1.090000</td>\n",
       "      <td>68</td>\n",
       "      <td>$19.62</td>\n",
       "      <td>2010</td>\n",
       "    </tr>\n",
       "    <tr>\n",
       "      <th>2</th>\n",
       "      <td>You Will Meet a Tall Dark Stranger</td>\n",
       "      <td>Comedy</td>\n",
       "      <td>Independent</td>\n",
       "      <td>35</td>\n",
       "      <td>1.211818</td>\n",
       "      <td>43</td>\n",
       "      <td>$26.66</td>\n",
       "      <td>2010</td>\n",
       "    </tr>\n",
       "    <tr>\n",
       "      <th>3</th>\n",
       "      <td>When in Rome</td>\n",
       "      <td>Comedy</td>\n",
       "      <td>Disney</td>\n",
       "      <td>44</td>\n",
       "      <td>0.000000</td>\n",
       "      <td>15</td>\n",
       "      <td>$43.04</td>\n",
       "      <td>2010</td>\n",
       "    </tr>\n",
       "    <tr>\n",
       "      <th>4</th>\n",
       "      <td>What Happens in Vegas</td>\n",
       "      <td>Comedy</td>\n",
       "      <td>Fox</td>\n",
       "      <td>72</td>\n",
       "      <td>6.267647</td>\n",
       "      <td>28</td>\n",
       "      <td>$219.37</td>\n",
       "      <td>2008</td>\n",
       "    </tr>\n",
       "    <tr>\n",
       "      <th>...</th>\n",
       "      <td>...</td>\n",
       "      <td>...</td>\n",
       "      <td>...</td>\n",
       "      <td>...</td>\n",
       "      <td>...</td>\n",
       "      <td>...</td>\n",
       "      <td>...</td>\n",
       "      <td>...</td>\n",
       "    </tr>\n",
       "    <tr>\n",
       "      <th>72</th>\n",
       "      <td>Across the Universe</td>\n",
       "      <td>romance</td>\n",
       "      <td>Independent</td>\n",
       "      <td>84</td>\n",
       "      <td>0.652603</td>\n",
       "      <td>54</td>\n",
       "      <td>$29.37</td>\n",
       "      <td>2007</td>\n",
       "    </tr>\n",
       "    <tr>\n",
       "      <th>73</th>\n",
       "      <td>A Serious Man</td>\n",
       "      <td>Drama</td>\n",
       "      <td>Universal</td>\n",
       "      <td>64</td>\n",
       "      <td>4.382857</td>\n",
       "      <td>89</td>\n",
       "      <td>$30.68</td>\n",
       "      <td>2009</td>\n",
       "    </tr>\n",
       "    <tr>\n",
       "      <th>74</th>\n",
       "      <td>A Dangerous Method</td>\n",
       "      <td>Drama</td>\n",
       "      <td>Independent</td>\n",
       "      <td>89</td>\n",
       "      <td>0.448645</td>\n",
       "      <td>79</td>\n",
       "      <td>$8.97</td>\n",
       "      <td>2011</td>\n",
       "    </tr>\n",
       "    <tr>\n",
       "      <th>75</th>\n",
       "      <td>27 Dresses</td>\n",
       "      <td>Comedy</td>\n",
       "      <td>Fox</td>\n",
       "      <td>71</td>\n",
       "      <td>5.343622</td>\n",
       "      <td>40</td>\n",
       "      <td>$160.31</td>\n",
       "      <td>2008</td>\n",
       "    </tr>\n",
       "    <tr>\n",
       "      <th>76</th>\n",
       "      <td>(500) Days of Summer</td>\n",
       "      <td>comedy</td>\n",
       "      <td>Fox</td>\n",
       "      <td>81</td>\n",
       "      <td>8.096000</td>\n",
       "      <td>87</td>\n",
       "      <td>$60.72</td>\n",
       "      <td>2009</td>\n",
       "    </tr>\n",
       "  </tbody>\n",
       "</table>\n",
       "<p>77 rows × 8 columns</p>\n",
       "</div>"
      ],
      "text/plain": [
       "                                  Film    Genre            Lead Studio  \\\n",
       "0           Zack and Miri Make a Porno  Romance  The Weinstein Company   \n",
       "1                      Youth in Revolt   Comedy  The Weinstein Company   \n",
       "2   You Will Meet a Tall Dark Stranger   Comedy            Independent   \n",
       "3                         When in Rome   Comedy                 Disney   \n",
       "4                What Happens in Vegas   Comedy                    Fox   \n",
       "..                                 ...      ...                    ...   \n",
       "72                 Across the Universe  romance            Independent   \n",
       "73                       A Serious Man    Drama              Universal   \n",
       "74                  A Dangerous Method    Drama            Independent   \n",
       "75                          27 Dresses   Comedy                    Fox   \n",
       "76                (500) Days of Summer   comedy                    Fox   \n",
       "\n",
       "    Audience score %  Profitability  Rotten Tomatoes % Worldwide Gross  Year  \n",
       "0                 70       1.747542                 64         $41.94   2008  \n",
       "1                 52       1.090000                 68         $19.62   2010  \n",
       "2                 35       1.211818                 43         $26.66   2010  \n",
       "3                 44       0.000000                 15         $43.04   2010  \n",
       "4                 72       6.267647                 28        $219.37   2008  \n",
       "..               ...            ...                ...             ...   ...  \n",
       "72                84       0.652603                 54         $29.37   2007  \n",
       "73                64       4.382857                 89         $30.68   2009  \n",
       "74                89       0.448645                 79          $8.97   2011  \n",
       "75                71       5.343622                 40        $160.31   2008  \n",
       "76                81       8.096000                 87         $60.72   2009  \n",
       "\n",
       "[77 rows x 8 columns]"
      ]
     },
     "execution_count": 171,
     "metadata": {},
     "output_type": "execute_result"
    }
   ],
   "source": [
    "df"
   ]
  },
  {
   "cell_type": "code",
   "execution_count": 172,
   "id": "0b9ff7fd-f38c-480e-aee2-a03f043167b0",
   "metadata": {},
   "outputs": [
    {
     "data": {
      "text/html": [
       "<div>\n",
       "<style scoped>\n",
       "    .dataframe tbody tr th:only-of-type {\n",
       "        vertical-align: middle;\n",
       "    }\n",
       "\n",
       "    .dataframe tbody tr th {\n",
       "        vertical-align: top;\n",
       "    }\n",
       "\n",
       "    .dataframe thead th {\n",
       "        text-align: right;\n",
       "    }\n",
       "</style>\n",
       "<table border=\"1\" class=\"dataframe\">\n",
       "  <thead>\n",
       "    <tr style=\"text-align: right;\">\n",
       "      <th></th>\n",
       "      <th>\\tuser_id\\tmovie_id\\trating\\ttimestamp\\tuser_emb_id\\tmovie_emb_id</th>\n",
       "    </tr>\n",
       "  </thead>\n",
       "  <tbody>\n",
       "    <tr>\n",
       "      <th>0</th>\n",
       "      <td>0\\t1\\t1193\\t5\\t978300760\\t0\\t1192</td>\n",
       "    </tr>\n",
       "    <tr>\n",
       "      <th>1</th>\n",
       "      <td>1\\t1\\t661\\t3\\t978302109\\t0\\t660</td>\n",
       "    </tr>\n",
       "    <tr>\n",
       "      <th>2</th>\n",
       "      <td>2\\t1\\t914\\t3\\t978301968\\t0\\t913</td>\n",
       "    </tr>\n",
       "    <tr>\n",
       "      <th>3</th>\n",
       "      <td>3\\t1\\t3408\\t4\\t978300275\\t0\\t3407</td>\n",
       "    </tr>\n",
       "    <tr>\n",
       "      <th>4</th>\n",
       "      <td>4\\t1\\t2355\\t5\\t978824291\\t0\\t2354</td>\n",
       "    </tr>\n",
       "    <tr>\n",
       "      <th>...</th>\n",
       "      <td>...</td>\n",
       "    </tr>\n",
       "    <tr>\n",
       "      <th>1000204</th>\n",
       "      <td>1000204\\t6040\\t1091\\t1\\t956716541\\t6039\\t1090</td>\n",
       "    </tr>\n",
       "    <tr>\n",
       "      <th>1000205</th>\n",
       "      <td>1000205\\t6040\\t1094\\t5\\t956704887\\t6039\\t1093</td>\n",
       "    </tr>\n",
       "    <tr>\n",
       "      <th>1000206</th>\n",
       "      <td>1000206\\t6040\\t562\\t5\\t956704746\\t6039\\t561</td>\n",
       "    </tr>\n",
       "    <tr>\n",
       "      <th>1000207</th>\n",
       "      <td>1000207\\t6040\\t1096\\t4\\t956715648\\t6039\\t1095</td>\n",
       "    </tr>\n",
       "    <tr>\n",
       "      <th>1000208</th>\n",
       "      <td>1000208\\t6040\\t1097\\t4\\t956715569\\t6039\\t1096</td>\n",
       "    </tr>\n",
       "  </tbody>\n",
       "</table>\n",
       "<p>1000209 rows × 1 columns</p>\n",
       "</div>"
      ],
      "text/plain": [
       "        \\tuser_id\\tmovie_id\\trating\\ttimestamp\\tuser_emb_id\\tmovie_emb_id\n",
       "0                        0\\t1\\t1193\\t5\\t978300760\\t0\\t1192               \n",
       "1                          1\\t1\\t661\\t3\\t978302109\\t0\\t660               \n",
       "2                          2\\t1\\t914\\t3\\t978301968\\t0\\t913               \n",
       "3                        3\\t1\\t3408\\t4\\t978300275\\t0\\t3407               \n",
       "4                        4\\t1\\t2355\\t5\\t978824291\\t0\\t2354               \n",
       "...                                                    ...               \n",
       "1000204      1000204\\t6040\\t1091\\t1\\t956716541\\t6039\\t1090               \n",
       "1000205      1000205\\t6040\\t1094\\t5\\t956704887\\t6039\\t1093               \n",
       "1000206        1000206\\t6040\\t562\\t5\\t956704746\\t6039\\t561               \n",
       "1000207      1000207\\t6040\\t1096\\t4\\t956715648\\t6039\\t1095               \n",
       "1000208      1000208\\t6040\\t1097\\t4\\t956715569\\t6039\\t1096               \n",
       "\n",
       "[1000209 rows x 1 columns]"
      ]
     },
     "execution_count": 172,
     "metadata": {},
     "output_type": "execute_result"
    }
   ],
   "source": [
    "df1"
   ]
  },
  {
   "cell_type": "code",
   "execution_count": 173,
   "id": "de0feab6-73ab-4a5d-aaf3-67e56a24b036",
   "metadata": {},
   "outputs": [],
   "source": [
    "# Here we use shape function for find out the how many rows and columns are present in dataset"
   ]
  },
  {
   "cell_type": "code",
   "execution_count": 174,
   "id": "d1367040-239c-46b8-9d17-1de90e7678f7",
   "metadata": {},
   "outputs": [
    {
     "name": "stdout",
     "output_type": "stream",
     "text": [
      "(77, 8)\n",
      "(1000209, 1)\n"
     ]
    }
   ],
   "source": [
    "print(df.shape)\n",
    "print(df1.shape)"
   ]
  },
  {
   "cell_type": "code",
   "execution_count": 175,
   "id": "f79a0e97-fdef-4082-84f6-a3d8589d176a",
   "metadata": {},
   "outputs": [],
   "source": [
    "# Here you would typically access and manipulate DataFrame columns using the DataFrame methods and attributes"
   ]
  },
  {
   "cell_type": "code",
   "execution_count": 176,
   "id": "ea7e84ad-bb9d-400c-b8f0-35a5aadf5c58",
   "metadata": {},
   "outputs": [
    {
     "name": "stdout",
     "output_type": "stream",
     "text": [
      "Index(['Film', 'Genre', 'Lead Studio', 'Audience score %', 'Profitability',\n",
      "       'Rotten Tomatoes %', 'Worldwide Gross', 'Year'],\n",
      "      dtype='object')\n",
      "Index(['\\tuser_id\\tmovie_id\\trating\\ttimestamp\\tuser_emb_id\\tmovie_emb_id'], dtype='object')\n"
     ]
    }
   ],
   "source": [
    "print(df.columns)\n",
    "print(df1.columns)"
   ]
  },
  {
   "cell_type": "code",
   "execution_count": 177,
   "id": "41417f0a-c1fd-4ef2-9cde-6aeb6d142b24",
   "metadata": {},
   "outputs": [],
   "source": [
    "# Here using duplicated() method we find out how many values are duplicated in dataset"
   ]
  },
  {
   "cell_type": "code",
   "execution_count": 178,
   "id": "68451d3d-784f-4ffb-8638-a0e82ed9fbed",
   "metadata": {},
   "outputs": [
    {
     "data": {
      "text/plain": [
       "0     False\n",
       "1     False\n",
       "2     False\n",
       "3     False\n",
       "4     False\n",
       "      ...  \n",
       "72    False\n",
       "73    False\n",
       "74    False\n",
       "75    False\n",
       "76    False\n",
       "Length: 77, dtype: bool"
      ]
     },
     "execution_count": 178,
     "metadata": {},
     "output_type": "execute_result"
    }
   ],
   "source": [
    "df.duplicated()"
   ]
  },
  {
   "cell_type": "code",
   "execution_count": 179,
   "id": "a4cbee6c-d066-4180-afec-35c163ca04a7",
   "metadata": {},
   "outputs": [
    {
     "data": {
      "text/plain": [
       "0          False\n",
       "1          False\n",
       "2          False\n",
       "3          False\n",
       "4          False\n",
       "           ...  \n",
       "1000204    False\n",
       "1000205    False\n",
       "1000206    False\n",
       "1000207    False\n",
       "1000208    False\n",
       "Length: 1000209, dtype: bool"
      ]
     },
     "execution_count": 179,
     "metadata": {},
     "output_type": "execute_result"
    }
   ],
   "source": [
    "df1.duplicated()"
   ]
  },
  {
   "cell_type": "code",
   "execution_count": 180,
   "id": "590c91c5-d51c-4f34-9426-3dbaddf58966",
   "metadata": {},
   "outputs": [],
   "source": [
    "# isnull().sum() is used to find how many null values are present in dataset"
   ]
  },
  {
   "cell_type": "code",
   "execution_count": 181,
   "id": "a1322442-6eb5-428f-a0ca-aa960182638c",
   "metadata": {},
   "outputs": [
    {
     "name": "stdout",
     "output_type": "stream",
     "text": [
      "Film                 0\n",
      "Genre                0\n",
      "Lead Studio          0\n",
      "Audience score %     0\n",
      "Profitability        0\n",
      "Rotten Tomatoes %    0\n",
      "Worldwide Gross      0\n",
      "Year                 0\n",
      "dtype: int64\n"
     ]
    }
   ],
   "source": [
    "print(df.isnull().sum())\n"
   ]
  },
  {
   "cell_type": "code",
   "execution_count": 182,
   "id": "8a906db3-bdc4-47f9-89dc-c6df767765e6",
   "metadata": {},
   "outputs": [
    {
     "data": {
      "text/plain": [
       "\\tuser_id\\tmovie_id\\trating\\ttimestamp\\tuser_emb_id\\tmovie_emb_id    0\n",
       "dtype: int64"
      ]
     },
     "execution_count": 182,
     "metadata": {},
     "output_type": "execute_result"
    }
   ],
   "source": [
    "df1.isnull().sum()"
   ]
  },
  {
   "cell_type": "code",
   "execution_count": 183,
   "id": "c9f0717b-f932-4819-afaa-e700e3af1890",
   "metadata": {},
   "outputs": [],
   "source": [
    "# If your CSV file does not use tabs as separators, adjust sep='\\t' to the appropriate delimiter (e.g., sep=',' for commas, sep=';' for semicolons, etc.)."
   ]
  },
  {
   "cell_type": "code",
   "execution_count": 184,
   "id": "4699c176-8461-4df1-80fe-6f9b00837bc2",
   "metadata": {},
   "outputs": [],
   "source": [
    "df1= pd.read_csv(r'C:\\Users\\Prime\\ratings.csv',sep='\\t')  "
   ]
  },
  {
   "cell_type": "code",
   "execution_count": 185,
   "id": "2454f77f-7cdb-43a3-8588-8af40d2d9c67",
   "metadata": {},
   "outputs": [
    {
     "data": {
      "text/html": [
       "<div>\n",
       "<style scoped>\n",
       "    .dataframe tbody tr th:only-of-type {\n",
       "        vertical-align: middle;\n",
       "    }\n",
       "\n",
       "    .dataframe tbody tr th {\n",
       "        vertical-align: top;\n",
       "    }\n",
       "\n",
       "    .dataframe thead th {\n",
       "        text-align: right;\n",
       "    }\n",
       "</style>\n",
       "<table border=\"1\" class=\"dataframe\">\n",
       "  <thead>\n",
       "    <tr style=\"text-align: right;\">\n",
       "      <th></th>\n",
       "      <th>Unnamed: 0</th>\n",
       "      <th>user_id</th>\n",
       "      <th>movie_id</th>\n",
       "      <th>rating</th>\n",
       "      <th>timestamp</th>\n",
       "      <th>user_emb_id</th>\n",
       "      <th>movie_emb_id</th>\n",
       "    </tr>\n",
       "  </thead>\n",
       "  <tbody>\n",
       "    <tr>\n",
       "      <th>0</th>\n",
       "      <td>0</td>\n",
       "      <td>1</td>\n",
       "      <td>1193</td>\n",
       "      <td>5</td>\n",
       "      <td>978300760</td>\n",
       "      <td>0</td>\n",
       "      <td>1192</td>\n",
       "    </tr>\n",
       "    <tr>\n",
       "      <th>1</th>\n",
       "      <td>1</td>\n",
       "      <td>1</td>\n",
       "      <td>661</td>\n",
       "      <td>3</td>\n",
       "      <td>978302109</td>\n",
       "      <td>0</td>\n",
       "      <td>660</td>\n",
       "    </tr>\n",
       "    <tr>\n",
       "      <th>2</th>\n",
       "      <td>2</td>\n",
       "      <td>1</td>\n",
       "      <td>914</td>\n",
       "      <td>3</td>\n",
       "      <td>978301968</td>\n",
       "      <td>0</td>\n",
       "      <td>913</td>\n",
       "    </tr>\n",
       "    <tr>\n",
       "      <th>3</th>\n",
       "      <td>3</td>\n",
       "      <td>1</td>\n",
       "      <td>3408</td>\n",
       "      <td>4</td>\n",
       "      <td>978300275</td>\n",
       "      <td>0</td>\n",
       "      <td>3407</td>\n",
       "    </tr>\n",
       "    <tr>\n",
       "      <th>4</th>\n",
       "      <td>4</td>\n",
       "      <td>1</td>\n",
       "      <td>2355</td>\n",
       "      <td>5</td>\n",
       "      <td>978824291</td>\n",
       "      <td>0</td>\n",
       "      <td>2354</td>\n",
       "    </tr>\n",
       "    <tr>\n",
       "      <th>...</th>\n",
       "      <td>...</td>\n",
       "      <td>...</td>\n",
       "      <td>...</td>\n",
       "      <td>...</td>\n",
       "      <td>...</td>\n",
       "      <td>...</td>\n",
       "      <td>...</td>\n",
       "    </tr>\n",
       "    <tr>\n",
       "      <th>1000204</th>\n",
       "      <td>1000204</td>\n",
       "      <td>6040</td>\n",
       "      <td>1091</td>\n",
       "      <td>1</td>\n",
       "      <td>956716541</td>\n",
       "      <td>6039</td>\n",
       "      <td>1090</td>\n",
       "    </tr>\n",
       "    <tr>\n",
       "      <th>1000205</th>\n",
       "      <td>1000205</td>\n",
       "      <td>6040</td>\n",
       "      <td>1094</td>\n",
       "      <td>5</td>\n",
       "      <td>956704887</td>\n",
       "      <td>6039</td>\n",
       "      <td>1093</td>\n",
       "    </tr>\n",
       "    <tr>\n",
       "      <th>1000206</th>\n",
       "      <td>1000206</td>\n",
       "      <td>6040</td>\n",
       "      <td>562</td>\n",
       "      <td>5</td>\n",
       "      <td>956704746</td>\n",
       "      <td>6039</td>\n",
       "      <td>561</td>\n",
       "    </tr>\n",
       "    <tr>\n",
       "      <th>1000207</th>\n",
       "      <td>1000207</td>\n",
       "      <td>6040</td>\n",
       "      <td>1096</td>\n",
       "      <td>4</td>\n",
       "      <td>956715648</td>\n",
       "      <td>6039</td>\n",
       "      <td>1095</td>\n",
       "    </tr>\n",
       "    <tr>\n",
       "      <th>1000208</th>\n",
       "      <td>1000208</td>\n",
       "      <td>6040</td>\n",
       "      <td>1097</td>\n",
       "      <td>4</td>\n",
       "      <td>956715569</td>\n",
       "      <td>6039</td>\n",
       "      <td>1096</td>\n",
       "    </tr>\n",
       "  </tbody>\n",
       "</table>\n",
       "<p>1000209 rows × 7 columns</p>\n",
       "</div>"
      ],
      "text/plain": [
       "         Unnamed: 0  user_id  movie_id  rating  timestamp  user_emb_id  \\\n",
       "0                 0        1      1193       5  978300760            0   \n",
       "1                 1        1       661       3  978302109            0   \n",
       "2                 2        1       914       3  978301968            0   \n",
       "3                 3        1      3408       4  978300275            0   \n",
       "4                 4        1      2355       5  978824291            0   \n",
       "...             ...      ...       ...     ...        ...          ...   \n",
       "1000204     1000204     6040      1091       1  956716541         6039   \n",
       "1000205     1000205     6040      1094       5  956704887         6039   \n",
       "1000206     1000206     6040       562       5  956704746         6039   \n",
       "1000207     1000207     6040      1096       4  956715648         6039   \n",
       "1000208     1000208     6040      1097       4  956715569         6039   \n",
       "\n",
       "         movie_emb_id  \n",
       "0                1192  \n",
       "1                 660  \n",
       "2                 913  \n",
       "3                3407  \n",
       "4                2354  \n",
       "...               ...  \n",
       "1000204          1090  \n",
       "1000205          1093  \n",
       "1000206           561  \n",
       "1000207          1095  \n",
       "1000208          1096  \n",
       "\n",
       "[1000209 rows x 7 columns]"
      ]
     },
     "execution_count": 185,
     "metadata": {},
     "output_type": "execute_result"
    }
   ],
   "source": [
    "df1"
   ]
  },
  {
   "cell_type": "code",
   "execution_count": 186,
   "id": "39d90bcb-094c-40bb-87bb-4145b8a5940f",
   "metadata": {},
   "outputs": [],
   "source": [
    "# If you want to print the data types of columns in your pandas DataFrame df, you can use the .dtypes attribute"
   ]
  },
  {
   "cell_type": "code",
   "execution_count": 187,
   "id": "34eb5f19-3df7-47d9-b686-9f6e456c6869",
   "metadata": {},
   "outputs": [
    {
     "name": "stdout",
     "output_type": "stream",
     "text": [
      "Film                  object\n",
      "Genre                 object\n",
      "Lead Studio           object\n",
      "Audience score %       int64\n",
      "Profitability        float64\n",
      "Rotten Tomatoes %      int64\n",
      "Worldwide Gross       object\n",
      "Year                   int64\n",
      "dtype: object\n",
      "Unnamed: 0      int64\n",
      "user_id         int64\n",
      "movie_id        int64\n",
      "rating          int64\n",
      "timestamp       int64\n",
      "user_emb_id     int64\n",
      "movie_emb_id    int64\n",
      "dtype: object\n"
     ]
    }
   ],
   "source": [
    "print(df.dtypes)\n",
    "print(df1.dtypes)"
   ]
  },
  {
   "cell_type": "code",
   "execution_count": 188,
   "id": "795bb7d6-7089-4405-b397-2ecc5b919575",
   "metadata": {},
   "outputs": [],
   "source": [
    "# Drop duplicates values "
   ]
  },
  {
   "cell_type": "code",
   "execution_count": 189,
   "id": "7ebcb40f-3d63-4572-99a9-732931468a40",
   "metadata": {},
   "outputs": [
    {
     "data": {
      "text/plain": [
       "(75, 8)"
      ]
     },
     "execution_count": 189,
     "metadata": {},
     "output_type": "execute_result"
    }
   ],
   "source": [
    "df.drop_duplicates(inplace = True)\n",
    "df.shape"
   ]
  },
  {
   "cell_type": "code",
   "execution_count": 190,
   "id": "6d1cf4e5-362b-4f32-80e6-89ff4b6173f3",
   "metadata": {},
   "outputs": [
    {
     "data": {
      "text/plain": [
       "(1000209, 7)"
      ]
     },
     "execution_count": 190,
     "metadata": {},
     "output_type": "execute_result"
    }
   ],
   "source": [
    "df1.drop_duplicates(inplace = True)\n",
    "df1.shape"
   ]
  },
  {
   "cell_type": "code",
   "execution_count": 191,
   "id": "b3bf2ba6-75d3-4920-bef4-2d1fc26deb16",
   "metadata": {},
   "outputs": [],
   "source": [
    "# describe() method: df.describe() computes summary statistics for numerical columns in the DataFrame. \n",
    "# It calculates count, mean, standard deviation, minimum, maximum, and quartile values.\n",
    "\n"
   ]
  },
  {
   "cell_type": "code",
   "execution_count": 192,
   "id": "7b7b6228-7980-4ebf-bc03-4d7fea164507",
   "metadata": {},
   "outputs": [
    {
     "data": {
      "text/html": [
       "<div>\n",
       "<style scoped>\n",
       "    .dataframe tbody tr th:only-of-type {\n",
       "        vertical-align: middle;\n",
       "    }\n",
       "\n",
       "    .dataframe tbody tr th {\n",
       "        vertical-align: top;\n",
       "    }\n",
       "\n",
       "    .dataframe thead th {\n",
       "        text-align: right;\n",
       "    }\n",
       "</style>\n",
       "<table border=\"1\" class=\"dataframe\">\n",
       "  <thead>\n",
       "    <tr style=\"text-align: right;\">\n",
       "      <th></th>\n",
       "      <th>Audience score %</th>\n",
       "      <th>Profitability</th>\n",
       "      <th>Rotten Tomatoes %</th>\n",
       "      <th>Year</th>\n",
       "    </tr>\n",
       "  </thead>\n",
       "  <tbody>\n",
       "    <tr>\n",
       "      <th>count</th>\n",
       "      <td>75.000000</td>\n",
       "      <td>75.000000</td>\n",
       "      <td>75.000000</td>\n",
       "      <td>75.000000</td>\n",
       "    </tr>\n",
       "    <tr>\n",
       "      <th>mean</th>\n",
       "      <td>63.720000</td>\n",
       "      <td>4.527171</td>\n",
       "      <td>46.493333</td>\n",
       "      <td>2009.066667</td>\n",
       "    </tr>\n",
       "    <tr>\n",
       "      <th>std</th>\n",
       "      <td>13.699043</td>\n",
       "      <td>8.121111</td>\n",
       "      <td>26.412207</td>\n",
       "      <td>1.349007</td>\n",
       "    </tr>\n",
       "    <tr>\n",
       "      <th>min</th>\n",
       "      <td>35.000000</td>\n",
       "      <td>0.000000</td>\n",
       "      <td>3.000000</td>\n",
       "      <td>2007.000000</td>\n",
       "    </tr>\n",
       "    <tr>\n",
       "      <th>25%</th>\n",
       "      <td>52.000000</td>\n",
       "      <td>1.749447</td>\n",
       "      <td>26.000000</td>\n",
       "      <td>2008.000000</td>\n",
       "    </tr>\n",
       "    <tr>\n",
       "      <th>50%</th>\n",
       "      <td>64.000000</td>\n",
       "      <td>2.639333</td>\n",
       "      <td>43.000000</td>\n",
       "      <td>2009.000000</td>\n",
       "    </tr>\n",
       "    <tr>\n",
       "      <th>75%</th>\n",
       "      <td>75.000000</td>\n",
       "      <td>4.535337</td>\n",
       "      <td>64.500000</td>\n",
       "      <td>2010.000000</td>\n",
       "    </tr>\n",
       "    <tr>\n",
       "      <th>max</th>\n",
       "      <td>89.000000</td>\n",
       "      <td>66.934000</td>\n",
       "      <td>96.000000</td>\n",
       "      <td>2011.000000</td>\n",
       "    </tr>\n",
       "  </tbody>\n",
       "</table>\n",
       "</div>"
      ],
      "text/plain": [
       "       Audience score %  Profitability  Rotten Tomatoes %         Year\n",
       "count         75.000000      75.000000          75.000000    75.000000\n",
       "mean          63.720000       4.527171          46.493333  2009.066667\n",
       "std           13.699043       8.121111          26.412207     1.349007\n",
       "min           35.000000       0.000000           3.000000  2007.000000\n",
       "25%           52.000000       1.749447          26.000000  2008.000000\n",
       "50%           64.000000       2.639333          43.000000  2009.000000\n",
       "75%           75.000000       4.535337          64.500000  2010.000000\n",
       "max           89.000000      66.934000          96.000000  2011.000000"
      ]
     },
     "execution_count": 192,
     "metadata": {},
     "output_type": "execute_result"
    }
   ],
   "source": [
    "df.describe()"
   ]
  },
  {
   "cell_type": "code",
   "execution_count": 193,
   "id": "f1cb064b-1eb9-41b0-8132-48582600f63b",
   "metadata": {},
   "outputs": [
    {
     "data": {
      "text/html": [
       "<div>\n",
       "<style scoped>\n",
       "    .dataframe tbody tr th:only-of-type {\n",
       "        vertical-align: middle;\n",
       "    }\n",
       "\n",
       "    .dataframe tbody tr th {\n",
       "        vertical-align: top;\n",
       "    }\n",
       "\n",
       "    .dataframe thead th {\n",
       "        text-align: right;\n",
       "    }\n",
       "</style>\n",
       "<table border=\"1\" class=\"dataframe\">\n",
       "  <thead>\n",
       "    <tr style=\"text-align: right;\">\n",
       "      <th></th>\n",
       "      <th>Unnamed: 0</th>\n",
       "      <th>user_id</th>\n",
       "      <th>movie_id</th>\n",
       "      <th>rating</th>\n",
       "      <th>timestamp</th>\n",
       "      <th>user_emb_id</th>\n",
       "      <th>movie_emb_id</th>\n",
       "    </tr>\n",
       "  </thead>\n",
       "  <tbody>\n",
       "    <tr>\n",
       "      <th>count</th>\n",
       "      <td>1.000209e+06</td>\n",
       "      <td>1.000209e+06</td>\n",
       "      <td>1.000209e+06</td>\n",
       "      <td>1.000209e+06</td>\n",
       "      <td>1.000209e+06</td>\n",
       "      <td>1.000209e+06</td>\n",
       "      <td>1.000209e+06</td>\n",
       "    </tr>\n",
       "    <tr>\n",
       "      <th>mean</th>\n",
       "      <td>5.001040e+05</td>\n",
       "      <td>3.024512e+03</td>\n",
       "      <td>1.865540e+03</td>\n",
       "      <td>3.581564e+00</td>\n",
       "      <td>9.722437e+08</td>\n",
       "      <td>3.023512e+03</td>\n",
       "      <td>1.864540e+03</td>\n",
       "    </tr>\n",
       "    <tr>\n",
       "      <th>std</th>\n",
       "      <td>2.887356e+05</td>\n",
       "      <td>1.728413e+03</td>\n",
       "      <td>1.096041e+03</td>\n",
       "      <td>1.117102e+00</td>\n",
       "      <td>1.215256e+07</td>\n",
       "      <td>1.728413e+03</td>\n",
       "      <td>1.096041e+03</td>\n",
       "    </tr>\n",
       "    <tr>\n",
       "      <th>min</th>\n",
       "      <td>0.000000e+00</td>\n",
       "      <td>1.000000e+00</td>\n",
       "      <td>1.000000e+00</td>\n",
       "      <td>1.000000e+00</td>\n",
       "      <td>9.567039e+08</td>\n",
       "      <td>0.000000e+00</td>\n",
       "      <td>0.000000e+00</td>\n",
       "    </tr>\n",
       "    <tr>\n",
       "      <th>25%</th>\n",
       "      <td>2.500520e+05</td>\n",
       "      <td>1.506000e+03</td>\n",
       "      <td>1.030000e+03</td>\n",
       "      <td>3.000000e+00</td>\n",
       "      <td>9.653026e+08</td>\n",
       "      <td>1.505000e+03</td>\n",
       "      <td>1.029000e+03</td>\n",
       "    </tr>\n",
       "    <tr>\n",
       "      <th>50%</th>\n",
       "      <td>5.001040e+05</td>\n",
       "      <td>3.070000e+03</td>\n",
       "      <td>1.835000e+03</td>\n",
       "      <td>4.000000e+00</td>\n",
       "      <td>9.730180e+08</td>\n",
       "      <td>3.069000e+03</td>\n",
       "      <td>1.834000e+03</td>\n",
       "    </tr>\n",
       "    <tr>\n",
       "      <th>75%</th>\n",
       "      <td>7.501560e+05</td>\n",
       "      <td>4.476000e+03</td>\n",
       "      <td>2.770000e+03</td>\n",
       "      <td>4.000000e+00</td>\n",
       "      <td>9.752209e+08</td>\n",
       "      <td>4.475000e+03</td>\n",
       "      <td>2.769000e+03</td>\n",
       "    </tr>\n",
       "    <tr>\n",
       "      <th>max</th>\n",
       "      <td>1.000208e+06</td>\n",
       "      <td>6.040000e+03</td>\n",
       "      <td>3.952000e+03</td>\n",
       "      <td>5.000000e+00</td>\n",
       "      <td>1.046455e+09</td>\n",
       "      <td>6.039000e+03</td>\n",
       "      <td>3.951000e+03</td>\n",
       "    </tr>\n",
       "  </tbody>\n",
       "</table>\n",
       "</div>"
      ],
      "text/plain": [
       "         Unnamed: 0       user_id      movie_id        rating     timestamp  \\\n",
       "count  1.000209e+06  1.000209e+06  1.000209e+06  1.000209e+06  1.000209e+06   \n",
       "mean   5.001040e+05  3.024512e+03  1.865540e+03  3.581564e+00  9.722437e+08   \n",
       "std    2.887356e+05  1.728413e+03  1.096041e+03  1.117102e+00  1.215256e+07   \n",
       "min    0.000000e+00  1.000000e+00  1.000000e+00  1.000000e+00  9.567039e+08   \n",
       "25%    2.500520e+05  1.506000e+03  1.030000e+03  3.000000e+00  9.653026e+08   \n",
       "50%    5.001040e+05  3.070000e+03  1.835000e+03  4.000000e+00  9.730180e+08   \n",
       "75%    7.501560e+05  4.476000e+03  2.770000e+03  4.000000e+00  9.752209e+08   \n",
       "max    1.000208e+06  6.040000e+03  3.952000e+03  5.000000e+00  1.046455e+09   \n",
       "\n",
       "        user_emb_id  movie_emb_id  \n",
       "count  1.000209e+06  1.000209e+06  \n",
       "mean   3.023512e+03  1.864540e+03  \n",
       "std    1.728413e+03  1.096041e+03  \n",
       "min    0.000000e+00  0.000000e+00  \n",
       "25%    1.505000e+03  1.029000e+03  \n",
       "50%    3.069000e+03  1.834000e+03  \n",
       "75%    4.475000e+03  2.769000e+03  \n",
       "max    6.039000e+03  3.951000e+03  "
      ]
     },
     "execution_count": 193,
     "metadata": {},
     "output_type": "execute_result"
    }
   ],
   "source": [
    "df1.describe()"
   ]
  },
  {
   "cell_type": "code",
   "execution_count": 194,
   "id": "57b2229a-590d-47f9-b6d8-8a09b62e2dd6",
   "metadata": {},
   "outputs": [
    {
     "name": "stdout",
     "output_type": "stream",
     "text": [
      "Film                 75\n",
      "Genre                75\n",
      "Lead Studio          75\n",
      "Audience score %     75\n",
      "Profitability        75\n",
      "Rotten Tomatoes %    75\n",
      "Worldwide Gross      75\n",
      "Year                 75\n",
      "dtype: int64\n",
      "Unnamed: 0      1000209\n",
      "user_id         1000209\n",
      "movie_id        1000209\n",
      "rating          1000209\n",
      "timestamp       1000209\n",
      "user_emb_id     1000209\n",
      "movie_emb_id    1000209\n",
      "dtype: int64\n"
     ]
    }
   ],
   "source": [
    "print(df.count())\n",
    "print(df1.count())"
   ]
  },
  {
   "cell_type": "code",
   "execution_count": 195,
   "id": "fd3d2229-a4e3-4aa5-97f0-6045ad9dd0f8",
   "metadata": {},
   "outputs": [
    {
     "name": "stdout",
     "output_type": "stream",
     "text": [
      "                                 Film    Genre            Lead Studio  \\\n",
      "0          Zack and Miri Make a Porno  Romance  The Weinstein Company   \n",
      "1                     Youth in Revolt   Comedy  The Weinstein Company   \n",
      "2  You Will Meet a Tall Dark Stranger   Comedy            Independent   \n",
      "3                        When in Rome   Comedy                 Disney   \n",
      "4               What Happens in Vegas   Comedy                    Fox   \n",
      "\n",
      "   Audience score %  Profitability  Rotten Tomatoes % Worldwide Gross  Year  \n",
      "0                70       1.747542                 64         $41.94   2008  \n",
      "1                52       1.090000                 68         $19.62   2010  \n",
      "2                35       1.211818                 43         $26.66   2010  \n",
      "3                44       0.000000                 15         $43.04   2010  \n",
      "4                72       6.267647                 28        $219.37   2008  \n",
      "         Unnamed: 0  user_id  movie_id  rating  timestamp  user_emb_id  \\\n",
      "1000204     1000204     6040      1091       1  956716541         6039   \n",
      "1000205     1000205     6040      1094       5  956704887         6039   \n",
      "1000206     1000206     6040       562       5  956704746         6039   \n",
      "1000207     1000207     6040      1096       4  956715648         6039   \n",
      "1000208     1000208     6040      1097       4  956715569         6039   \n",
      "\n",
      "         movie_emb_id  \n",
      "1000204          1090  \n",
      "1000205          1093  \n",
      "1000206           561  \n",
      "1000207          1095  \n",
      "1000208          1096  \n"
     ]
    }
   ],
   "source": [
    "print(df.head(5))\n",
    "print(df1.tail(5))"
   ]
  },
  {
   "cell_type": "code",
   "execution_count": 196,
   "id": "8ee779b2-d934-4bcc-89aa-b729e4f3e41b",
   "metadata": {},
   "outputs": [],
   "source": [
    "# Conacat the dataset1 and dataset2"
   ]
  },
  {
   "cell_type": "code",
   "execution_count": 197,
   "id": "19352a63-d6ab-4ef9-91eb-2e422f98a97e",
   "metadata": {},
   "outputs": [],
   "source": [
    "data = pd.concat([df,df1])"
   ]
  },
  {
   "cell_type": "code",
   "execution_count": 198,
   "id": "49769376-20ff-455d-8fcb-4a38c3a6a211",
   "metadata": {},
   "outputs": [
    {
     "data": {
      "text/html": [
       "<div>\n",
       "<style scoped>\n",
       "    .dataframe tbody tr th:only-of-type {\n",
       "        vertical-align: middle;\n",
       "    }\n",
       "\n",
       "    .dataframe tbody tr th {\n",
       "        vertical-align: top;\n",
       "    }\n",
       "\n",
       "    .dataframe thead th {\n",
       "        text-align: right;\n",
       "    }\n",
       "</style>\n",
       "<table border=\"1\" class=\"dataframe\">\n",
       "  <thead>\n",
       "    <tr style=\"text-align: right;\">\n",
       "      <th></th>\n",
       "      <th>Film</th>\n",
       "      <th>Genre</th>\n",
       "      <th>Lead Studio</th>\n",
       "      <th>Audience score %</th>\n",
       "      <th>Profitability</th>\n",
       "      <th>Rotten Tomatoes %</th>\n",
       "      <th>Worldwide Gross</th>\n",
       "      <th>Year</th>\n",
       "      <th>Unnamed: 0</th>\n",
       "      <th>user_id</th>\n",
       "      <th>movie_id</th>\n",
       "      <th>rating</th>\n",
       "      <th>timestamp</th>\n",
       "      <th>user_emb_id</th>\n",
       "      <th>movie_emb_id</th>\n",
       "    </tr>\n",
       "  </thead>\n",
       "  <tbody>\n",
       "    <tr>\n",
       "      <th>0</th>\n",
       "      <td>Zack and Miri Make a Porno</td>\n",
       "      <td>Romance</td>\n",
       "      <td>The Weinstein Company</td>\n",
       "      <td>70.0</td>\n",
       "      <td>1.747542</td>\n",
       "      <td>64.0</td>\n",
       "      <td>$41.94</td>\n",
       "      <td>2008.0</td>\n",
       "      <td>NaN</td>\n",
       "      <td>NaN</td>\n",
       "      <td>NaN</td>\n",
       "      <td>NaN</td>\n",
       "      <td>NaN</td>\n",
       "      <td>NaN</td>\n",
       "      <td>NaN</td>\n",
       "    </tr>\n",
       "    <tr>\n",
       "      <th>1</th>\n",
       "      <td>Youth in Revolt</td>\n",
       "      <td>Comedy</td>\n",
       "      <td>The Weinstein Company</td>\n",
       "      <td>52.0</td>\n",
       "      <td>1.090000</td>\n",
       "      <td>68.0</td>\n",
       "      <td>$19.62</td>\n",
       "      <td>2010.0</td>\n",
       "      <td>NaN</td>\n",
       "      <td>NaN</td>\n",
       "      <td>NaN</td>\n",
       "      <td>NaN</td>\n",
       "      <td>NaN</td>\n",
       "      <td>NaN</td>\n",
       "      <td>NaN</td>\n",
       "    </tr>\n",
       "    <tr>\n",
       "      <th>2</th>\n",
       "      <td>You Will Meet a Tall Dark Stranger</td>\n",
       "      <td>Comedy</td>\n",
       "      <td>Independent</td>\n",
       "      <td>35.0</td>\n",
       "      <td>1.211818</td>\n",
       "      <td>43.0</td>\n",
       "      <td>$26.66</td>\n",
       "      <td>2010.0</td>\n",
       "      <td>NaN</td>\n",
       "      <td>NaN</td>\n",
       "      <td>NaN</td>\n",
       "      <td>NaN</td>\n",
       "      <td>NaN</td>\n",
       "      <td>NaN</td>\n",
       "      <td>NaN</td>\n",
       "    </tr>\n",
       "    <tr>\n",
       "      <th>3</th>\n",
       "      <td>When in Rome</td>\n",
       "      <td>Comedy</td>\n",
       "      <td>Disney</td>\n",
       "      <td>44.0</td>\n",
       "      <td>0.000000</td>\n",
       "      <td>15.0</td>\n",
       "      <td>$43.04</td>\n",
       "      <td>2010.0</td>\n",
       "      <td>NaN</td>\n",
       "      <td>NaN</td>\n",
       "      <td>NaN</td>\n",
       "      <td>NaN</td>\n",
       "      <td>NaN</td>\n",
       "      <td>NaN</td>\n",
       "      <td>NaN</td>\n",
       "    </tr>\n",
       "    <tr>\n",
       "      <th>4</th>\n",
       "      <td>What Happens in Vegas</td>\n",
       "      <td>Comedy</td>\n",
       "      <td>Fox</td>\n",
       "      <td>72.0</td>\n",
       "      <td>6.267647</td>\n",
       "      <td>28.0</td>\n",
       "      <td>$219.37</td>\n",
       "      <td>2008.0</td>\n",
       "      <td>NaN</td>\n",
       "      <td>NaN</td>\n",
       "      <td>NaN</td>\n",
       "      <td>NaN</td>\n",
       "      <td>NaN</td>\n",
       "      <td>NaN</td>\n",
       "      <td>NaN</td>\n",
       "    </tr>\n",
       "    <tr>\n",
       "      <th>...</th>\n",
       "      <td>...</td>\n",
       "      <td>...</td>\n",
       "      <td>...</td>\n",
       "      <td>...</td>\n",
       "      <td>...</td>\n",
       "      <td>...</td>\n",
       "      <td>...</td>\n",
       "      <td>...</td>\n",
       "      <td>...</td>\n",
       "      <td>...</td>\n",
       "      <td>...</td>\n",
       "      <td>...</td>\n",
       "      <td>...</td>\n",
       "      <td>...</td>\n",
       "      <td>...</td>\n",
       "    </tr>\n",
       "    <tr>\n",
       "      <th>1000204</th>\n",
       "      <td>NaN</td>\n",
       "      <td>NaN</td>\n",
       "      <td>NaN</td>\n",
       "      <td>NaN</td>\n",
       "      <td>NaN</td>\n",
       "      <td>NaN</td>\n",
       "      <td>NaN</td>\n",
       "      <td>NaN</td>\n",
       "      <td>1000204.0</td>\n",
       "      <td>6040.0</td>\n",
       "      <td>1091.0</td>\n",
       "      <td>1.0</td>\n",
       "      <td>956716541.0</td>\n",
       "      <td>6039.0</td>\n",
       "      <td>1090.0</td>\n",
       "    </tr>\n",
       "    <tr>\n",
       "      <th>1000205</th>\n",
       "      <td>NaN</td>\n",
       "      <td>NaN</td>\n",
       "      <td>NaN</td>\n",
       "      <td>NaN</td>\n",
       "      <td>NaN</td>\n",
       "      <td>NaN</td>\n",
       "      <td>NaN</td>\n",
       "      <td>NaN</td>\n",
       "      <td>1000205.0</td>\n",
       "      <td>6040.0</td>\n",
       "      <td>1094.0</td>\n",
       "      <td>5.0</td>\n",
       "      <td>956704887.0</td>\n",
       "      <td>6039.0</td>\n",
       "      <td>1093.0</td>\n",
       "    </tr>\n",
       "    <tr>\n",
       "      <th>1000206</th>\n",
       "      <td>NaN</td>\n",
       "      <td>NaN</td>\n",
       "      <td>NaN</td>\n",
       "      <td>NaN</td>\n",
       "      <td>NaN</td>\n",
       "      <td>NaN</td>\n",
       "      <td>NaN</td>\n",
       "      <td>NaN</td>\n",
       "      <td>1000206.0</td>\n",
       "      <td>6040.0</td>\n",
       "      <td>562.0</td>\n",
       "      <td>5.0</td>\n",
       "      <td>956704746.0</td>\n",
       "      <td>6039.0</td>\n",
       "      <td>561.0</td>\n",
       "    </tr>\n",
       "    <tr>\n",
       "      <th>1000207</th>\n",
       "      <td>NaN</td>\n",
       "      <td>NaN</td>\n",
       "      <td>NaN</td>\n",
       "      <td>NaN</td>\n",
       "      <td>NaN</td>\n",
       "      <td>NaN</td>\n",
       "      <td>NaN</td>\n",
       "      <td>NaN</td>\n",
       "      <td>1000207.0</td>\n",
       "      <td>6040.0</td>\n",
       "      <td>1096.0</td>\n",
       "      <td>4.0</td>\n",
       "      <td>956715648.0</td>\n",
       "      <td>6039.0</td>\n",
       "      <td>1095.0</td>\n",
       "    </tr>\n",
       "    <tr>\n",
       "      <th>1000208</th>\n",
       "      <td>NaN</td>\n",
       "      <td>NaN</td>\n",
       "      <td>NaN</td>\n",
       "      <td>NaN</td>\n",
       "      <td>NaN</td>\n",
       "      <td>NaN</td>\n",
       "      <td>NaN</td>\n",
       "      <td>NaN</td>\n",
       "      <td>1000208.0</td>\n",
       "      <td>6040.0</td>\n",
       "      <td>1097.0</td>\n",
       "      <td>4.0</td>\n",
       "      <td>956715569.0</td>\n",
       "      <td>6039.0</td>\n",
       "      <td>1096.0</td>\n",
       "    </tr>\n",
       "  </tbody>\n",
       "</table>\n",
       "<p>1000284 rows × 15 columns</p>\n",
       "</div>"
      ],
      "text/plain": [
       "                                       Film    Genre            Lead Studio  \\\n",
       "0                Zack and Miri Make a Porno  Romance  The Weinstein Company   \n",
       "1                           Youth in Revolt   Comedy  The Weinstein Company   \n",
       "2        You Will Meet a Tall Dark Stranger   Comedy            Independent   \n",
       "3                              When in Rome   Comedy                 Disney   \n",
       "4                     What Happens in Vegas   Comedy                    Fox   \n",
       "...                                     ...      ...                    ...   \n",
       "1000204                                 NaN      NaN                    NaN   \n",
       "1000205                                 NaN      NaN                    NaN   \n",
       "1000206                                 NaN      NaN                    NaN   \n",
       "1000207                                 NaN      NaN                    NaN   \n",
       "1000208                                 NaN      NaN                    NaN   \n",
       "\n",
       "         Audience score %  Profitability  Rotten Tomatoes % Worldwide Gross  \\\n",
       "0                    70.0       1.747542               64.0         $41.94    \n",
       "1                    52.0       1.090000               68.0         $19.62    \n",
       "2                    35.0       1.211818               43.0         $26.66    \n",
       "3                    44.0       0.000000               15.0         $43.04    \n",
       "4                    72.0       6.267647               28.0        $219.37    \n",
       "...                   ...            ...                ...             ...   \n",
       "1000204               NaN            NaN                NaN             NaN   \n",
       "1000205               NaN            NaN                NaN             NaN   \n",
       "1000206               NaN            NaN                NaN             NaN   \n",
       "1000207               NaN            NaN                NaN             NaN   \n",
       "1000208               NaN            NaN                NaN             NaN   \n",
       "\n",
       "           Year  Unnamed: 0  user_id  movie_id  rating    timestamp  \\\n",
       "0        2008.0         NaN      NaN       NaN     NaN          NaN   \n",
       "1        2010.0         NaN      NaN       NaN     NaN          NaN   \n",
       "2        2010.0         NaN      NaN       NaN     NaN          NaN   \n",
       "3        2010.0         NaN      NaN       NaN     NaN          NaN   \n",
       "4        2008.0         NaN      NaN       NaN     NaN          NaN   \n",
       "...         ...         ...      ...       ...     ...          ...   \n",
       "1000204     NaN   1000204.0   6040.0    1091.0     1.0  956716541.0   \n",
       "1000205     NaN   1000205.0   6040.0    1094.0     5.0  956704887.0   \n",
       "1000206     NaN   1000206.0   6040.0     562.0     5.0  956704746.0   \n",
       "1000207     NaN   1000207.0   6040.0    1096.0     4.0  956715648.0   \n",
       "1000208     NaN   1000208.0   6040.0    1097.0     4.0  956715569.0   \n",
       "\n",
       "         user_emb_id  movie_emb_id  \n",
       "0                NaN           NaN  \n",
       "1                NaN           NaN  \n",
       "2                NaN           NaN  \n",
       "3                NaN           NaN  \n",
       "4                NaN           NaN  \n",
       "...              ...           ...  \n",
       "1000204       6039.0        1090.0  \n",
       "1000205       6039.0        1093.0  \n",
       "1000206       6039.0         561.0  \n",
       "1000207       6039.0        1095.0  \n",
       "1000208       6039.0        1096.0  \n",
       "\n",
       "[1000284 rows x 15 columns]"
      ]
     },
     "execution_count": 198,
     "metadata": {},
     "output_type": "execute_result"
    }
   ],
   "source": [
    "data"
   ]
  },
  {
   "cell_type": "code",
   "execution_count": 199,
   "id": "364b46a9-08d3-4de4-812f-52fd76336c2b",
   "metadata": {},
   "outputs": [],
   "source": [
    "# Find the mean of rating column"
   ]
  },
  {
   "cell_type": "code",
   "execution_count": 200,
   "id": "662784b3-4175-45dd-bf94-09b1a4b749ef",
   "metadata": {},
   "outputs": [
    {
     "data": {
      "text/plain": [
       "3.581564453029317"
      ]
     },
     "execution_count": 200,
     "metadata": {},
     "output_type": "execute_result"
    }
   ],
   "source": [
    "data['rating'].mean()"
   ]
  },
  {
   "cell_type": "code",
   "execution_count": 201,
   "id": "73f986d5-544d-4f55-9e91-5892f2de57a9",
   "metadata": {},
   "outputs": [],
   "source": [
    "# Here drop null values"
   ]
  },
  {
   "cell_type": "code",
   "execution_count": 202,
   "id": "fdcd4ee6-9aba-41d2-9a58-32dab950224e",
   "metadata": {},
   "outputs": [],
   "source": [
    "a = data.isnull().sum()"
   ]
  },
  {
   "cell_type": "code",
   "execution_count": 203,
   "id": "9178e936-c366-428d-87c4-c1676ff4c137",
   "metadata": {},
   "outputs": [
    {
     "data": {
      "text/plain": [
       "Film                 1000209\n",
       "Genre                1000209\n",
       "Lead Studio          1000209\n",
       "Audience score %     1000209\n",
       "Profitability        1000209\n",
       "Rotten Tomatoes %    1000209\n",
       "Worldwide Gross      1000209\n",
       "Year                 1000209\n",
       "Unnamed: 0                75\n",
       "user_id                   75\n",
       "movie_id                  75\n",
       "rating                    75\n",
       "timestamp                 75\n",
       "user_emb_id               75\n",
       "movie_emb_id              75\n",
       "dtype: int64"
      ]
     },
     "execution_count": 203,
     "metadata": {},
     "output_type": "execute_result"
    }
   ],
   "source": [
    "a"
   ]
  },
  {
   "cell_type": "code",
   "execution_count": 204,
   "id": "443cfe61-70fe-4403-b779-6ec0a786436e",
   "metadata": {},
   "outputs": [],
   "source": [
    "null_v = round((data.isnull().sum() * 100) / len(df), 2)"
   ]
  },
  {
   "cell_type": "code",
   "execution_count": 205,
   "id": "45d9f866-5273-47b4-b253-ae7573827ec3",
   "metadata": {},
   "outputs": [
    {
     "data": {
      "text/plain": [
       "Film                 1333612.0\n",
       "Genre                1333612.0\n",
       "Lead Studio          1333612.0\n",
       "Audience score %     1333612.0\n",
       "Profitability        1333612.0\n",
       "Rotten Tomatoes %    1333612.0\n",
       "Worldwide Gross      1333612.0\n",
       "Year                 1333612.0\n",
       "Unnamed: 0               100.0\n",
       "user_id                  100.0\n",
       "movie_id                 100.0\n",
       "rating                   100.0\n",
       "timestamp                100.0\n",
       "user_emb_id              100.0\n",
       "movie_emb_id             100.0\n",
       "dtype: float64"
      ]
     },
     "execution_count": 205,
     "metadata": {},
     "output_type": "execute_result"
    }
   ],
   "source": [
    "null_v"
   ]
  },
  {
   "cell_type": "code",
   "execution_count": 206,
   "id": "29ee1b03-d72e-46e5-81f4-6f6051dc2e57",
   "metadata": {},
   "outputs": [
    {
     "data": {
      "text/plain": [
       "Film                 1333612.0\n",
       "Genre                1333612.0\n",
       "Lead Studio          1333612.0\n",
       "Audience score %     1333612.0\n",
       "Profitability        1333612.0\n",
       "Rotten Tomatoes %    1333612.0\n",
       "Worldwide Gross      1333612.0\n",
       "Year                 1333612.0\n",
       "Unnamed: 0               100.0\n",
       "user_id                  100.0\n",
       "movie_id                 100.0\n",
       "rating                   100.0\n",
       "timestamp                100.0\n",
       "user_emb_id              100.0\n",
       "movie_emb_id             100.0\n",
       "dtype: float64"
      ]
     },
     "execution_count": 206,
     "metadata": {},
     "output_type": "execute_result"
    }
   ],
   "source": [
    " null_v[null_v > 30]"
   ]
  },
  {
   "cell_type": "code",
   "execution_count": 207,
   "id": "f85fe9f5-2ad3-4bed-ada6-52180ba28350",
   "metadata": {},
   "outputs": [
    {
     "data": {
      "text/plain": [
       "Index(['Film', 'Genre', 'Lead Studio', 'Audience score %', 'Profitability',\n",
       "       'Rotten Tomatoes %', 'Worldwide Gross', 'Year', 'Unnamed: 0', 'user_id',\n",
       "       'movie_id', 'rating', 'timestamp', 'user_emb_id', 'movie_emb_id'],\n",
       "      dtype='object')"
      ]
     },
     "execution_count": 207,
     "metadata": {},
     "output_type": "execute_result"
    }
   ],
   "source": [
    "null_v.index"
   ]
  },
  {
   "cell_type": "code",
   "execution_count": 208,
   "id": "fb5663b4-ca00-49f5-82db-f53b46131266",
   "metadata": {},
   "outputs": [],
   "source": [
    "# Drop null value column"
   ]
  },
  {
   "cell_type": "code",
   "execution_count": 209,
   "id": "c952e022-d971-4305-b15f-5e3166ca4bba",
   "metadata": {},
   "outputs": [
    {
     "data": {
      "text/plain": [
       "['Film',\n",
       " 'Genre',\n",
       " 'Lead Studio',\n",
       " 'Audience score %',\n",
       " 'Profitability',\n",
       " 'Rotten Tomatoes %',\n",
       " 'Worldwide Gross',\n",
       " 'Year',\n",
       " 'Unnamed: 0',\n",
       " 'user_id',\n",
       " 'movie_id',\n",
       " 'rating',\n",
       " 'timestamp',\n",
       " 'user_emb_id',\n",
       " 'movie_emb_id']"
      ]
     },
     "execution_count": 209,
     "metadata": {},
     "output_type": "execute_result"
    }
   ],
   "source": [
    "col_to_drop = list(null_v.index)\n",
    "col_to_drop"
   ]
  },
  {
   "cell_type": "code",
   "execution_count": 210,
   "id": "d5de89dd-78b9-4f7b-9e9f-94757fc3fd74",
   "metadata": {},
   "outputs": [],
   "source": [
    "data.drop(col_to_drop, axis = 1, inplace = True)"
   ]
  },
  {
   "cell_type": "code",
   "execution_count": 211,
   "id": "41030c0d-ecbf-4fc7-8fc2-e315ae42d2a7",
   "metadata": {},
   "outputs": [
    {
     "data": {
      "text/plain": [
       "Series([], dtype: float64)"
      ]
     },
     "execution_count": 211,
     "metadata": {},
     "output_type": "execute_result"
    }
   ],
   "source": [
    "data.isnull().sum()"
   ]
  },
  {
   "cell_type": "code",
   "execution_count": 212,
   "id": "0a286601-d3ab-4401-9a8f-6905d364816c",
   "metadata": {},
   "outputs": [
    {
     "data": {
      "text/plain": [
       "Index(['Film', 'Genre', 'Lead Studio', 'Audience score %', 'Profitability',\n",
       "       'Rotten Tomatoes %', 'Worldwide Gross', 'Year'],\n",
       "      dtype='object')"
      ]
     },
     "execution_count": 212,
     "metadata": {},
     "output_type": "execute_result"
    }
   ],
   "source": [
    "df.columns"
   ]
  },
  {
   "cell_type": "code",
   "execution_count": 213,
   "id": "4beaeb04-8203-41f5-bf08-25e2bcafbbba",
   "metadata": {},
   "outputs": [],
   "source": [
    "# Rename some columns name"
   ]
  },
  {
   "cell_type": "code",
   "execution_count": 221,
   "id": "edad1967-1a15-4b00-b43f-d96699d6bbbf",
   "metadata": {},
   "outputs": [
    {
     "data": {
      "text/html": [
       "<div>\n",
       "<style scoped>\n",
       "    .dataframe tbody tr th:only-of-type {\n",
       "        vertical-align: middle;\n",
       "    }\n",
       "\n",
       "    .dataframe tbody tr th {\n",
       "        vertical-align: top;\n",
       "    }\n",
       "\n",
       "    .dataframe thead th {\n",
       "        text-align: right;\n",
       "    }\n",
       "</style>\n",
       "<table border=\"1\" class=\"dataframe\">\n",
       "  <thead>\n",
       "    <tr style=\"text-align: right;\">\n",
       "      <th></th>\n",
       "      <th>Movie_Title</th>\n",
       "      <th>Genre</th>\n",
       "      <th>Lead Studio</th>\n",
       "      <th>Audience_score</th>\n",
       "      <th>Profitability</th>\n",
       "      <th>Rotten_Tomatoes</th>\n",
       "      <th>Worldwide Gross</th>\n",
       "      <th>Year</th>\n",
       "    </tr>\n",
       "  </thead>\n",
       "  <tbody>\n",
       "    <tr>\n",
       "      <th>0</th>\n",
       "      <td>Zack and Miri Make a Porno</td>\n",
       "      <td>Romance</td>\n",
       "      <td>The Weinstein Company</td>\n",
       "      <td>70</td>\n",
       "      <td>1.747542</td>\n",
       "      <td>64</td>\n",
       "      <td>$41.94</td>\n",
       "      <td>2008</td>\n",
       "    </tr>\n",
       "    <tr>\n",
       "      <th>1</th>\n",
       "      <td>Youth in Revolt</td>\n",
       "      <td>Comedy</td>\n",
       "      <td>The Weinstein Company</td>\n",
       "      <td>52</td>\n",
       "      <td>1.090000</td>\n",
       "      <td>68</td>\n",
       "      <td>$19.62</td>\n",
       "      <td>2010</td>\n",
       "    </tr>\n",
       "    <tr>\n",
       "      <th>2</th>\n",
       "      <td>You Will Meet a Tall Dark Stranger</td>\n",
       "      <td>Comedy</td>\n",
       "      <td>Independent</td>\n",
       "      <td>35</td>\n",
       "      <td>1.211818</td>\n",
       "      <td>43</td>\n",
       "      <td>$26.66</td>\n",
       "      <td>2010</td>\n",
       "    </tr>\n",
       "    <tr>\n",
       "      <th>3</th>\n",
       "      <td>When in Rome</td>\n",
       "      <td>Comedy</td>\n",
       "      <td>Disney</td>\n",
       "      <td>44</td>\n",
       "      <td>0.000000</td>\n",
       "      <td>15</td>\n",
       "      <td>$43.04</td>\n",
       "      <td>2010</td>\n",
       "    </tr>\n",
       "    <tr>\n",
       "      <th>4</th>\n",
       "      <td>What Happens in Vegas</td>\n",
       "      <td>Comedy</td>\n",
       "      <td>Fox</td>\n",
       "      <td>72</td>\n",
       "      <td>6.267647</td>\n",
       "      <td>28</td>\n",
       "      <td>$219.37</td>\n",
       "      <td>2008</td>\n",
       "    </tr>\n",
       "    <tr>\n",
       "      <th>...</th>\n",
       "      <td>...</td>\n",
       "      <td>...</td>\n",
       "      <td>...</td>\n",
       "      <td>...</td>\n",
       "      <td>...</td>\n",
       "      <td>...</td>\n",
       "      <td>...</td>\n",
       "      <td>...</td>\n",
       "    </tr>\n",
       "    <tr>\n",
       "      <th>72</th>\n",
       "      <td>Across the Universe</td>\n",
       "      <td>romance</td>\n",
       "      <td>Independent</td>\n",
       "      <td>84</td>\n",
       "      <td>0.652603</td>\n",
       "      <td>54</td>\n",
       "      <td>$29.37</td>\n",
       "      <td>2007</td>\n",
       "    </tr>\n",
       "    <tr>\n",
       "      <th>73</th>\n",
       "      <td>A Serious Man</td>\n",
       "      <td>Drama</td>\n",
       "      <td>Universal</td>\n",
       "      <td>64</td>\n",
       "      <td>4.382857</td>\n",
       "      <td>89</td>\n",
       "      <td>$30.68</td>\n",
       "      <td>2009</td>\n",
       "    </tr>\n",
       "    <tr>\n",
       "      <th>74</th>\n",
       "      <td>A Dangerous Method</td>\n",
       "      <td>Drama</td>\n",
       "      <td>Independent</td>\n",
       "      <td>89</td>\n",
       "      <td>0.448645</td>\n",
       "      <td>79</td>\n",
       "      <td>$8.97</td>\n",
       "      <td>2011</td>\n",
       "    </tr>\n",
       "    <tr>\n",
       "      <th>75</th>\n",
       "      <td>27 Dresses</td>\n",
       "      <td>Comedy</td>\n",
       "      <td>Fox</td>\n",
       "      <td>71</td>\n",
       "      <td>5.343622</td>\n",
       "      <td>40</td>\n",
       "      <td>$160.31</td>\n",
       "      <td>2008</td>\n",
       "    </tr>\n",
       "    <tr>\n",
       "      <th>76</th>\n",
       "      <td>(500) Days of Summer</td>\n",
       "      <td>comedy</td>\n",
       "      <td>Fox</td>\n",
       "      <td>81</td>\n",
       "      <td>8.096000</td>\n",
       "      <td>87</td>\n",
       "      <td>$60.72</td>\n",
       "      <td>2009</td>\n",
       "    </tr>\n",
       "  </tbody>\n",
       "</table>\n",
       "<p>75 rows × 8 columns</p>\n",
       "</div>"
      ],
      "text/plain": [
       "                           Movie_Title    Genre            Lead Studio  \\\n",
       "0           Zack and Miri Make a Porno  Romance  The Weinstein Company   \n",
       "1                      Youth in Revolt   Comedy  The Weinstein Company   \n",
       "2   You Will Meet a Tall Dark Stranger   Comedy            Independent   \n",
       "3                         When in Rome   Comedy                 Disney   \n",
       "4                What Happens in Vegas   Comedy                    Fox   \n",
       "..                                 ...      ...                    ...   \n",
       "72                 Across the Universe  romance            Independent   \n",
       "73                       A Serious Man    Drama              Universal   \n",
       "74                  A Dangerous Method    Drama            Independent   \n",
       "75                          27 Dresses   Comedy                    Fox   \n",
       "76                (500) Days of Summer   comedy                    Fox   \n",
       "\n",
       "    Audience_score  Profitability  Rotten_Tomatoes Worldwide Gross  Year  \n",
       "0               70       1.747542               64         $41.94   2008  \n",
       "1               52       1.090000               68         $19.62   2010  \n",
       "2               35       1.211818               43         $26.66   2010  \n",
       "3               44       0.000000               15         $43.04   2010  \n",
       "4               72       6.267647               28        $219.37   2008  \n",
       "..             ...            ...              ...             ...   ...  \n",
       "72              84       0.652603               54         $29.37   2007  \n",
       "73              64       4.382857               89         $30.68   2009  \n",
       "74              89       0.448645               79          $8.97   2011  \n",
       "75              71       5.343622               40        $160.31   2008  \n",
       "76              81       8.096000               87         $60.72   2009  \n",
       "\n",
       "[75 rows x 8 columns]"
      ]
     },
     "execution_count": 221,
     "metadata": {},
     "output_type": "execute_result"
    }
   ],
   "source": [
    "df.rename(columns = {'Film':'Movie_Title','Audience score %':'Audience_score','Rotten Tomatoes %':'Rotten_Tomatoes'}, inplace = True)\n",
    "df"
   ]
  },
  {
   "cell_type": "code",
   "execution_count": 218,
   "id": "ab91cc99-4f06-4d0e-83e0-f484bd715e9f",
   "metadata": {},
   "outputs": [],
   "source": [
    "# Drop the columns"
   ]
  },
  {
   "cell_type": "code",
   "execution_count": 222,
   "id": "3d91baea-ea50-47b5-b305-167c204c5494",
   "metadata": {},
   "outputs": [],
   "source": [
    "data = df1.drop(['user_emb_id','movie_emb_id'], axis= 1)"
   ]
  },
  {
   "cell_type": "code",
   "execution_count": 223,
   "id": "a048758d-f5da-40ba-813c-d4109746e6fe",
   "metadata": {},
   "outputs": [
    {
     "data": {
      "text/html": [
       "<div>\n",
       "<style scoped>\n",
       "    .dataframe tbody tr th:only-of-type {\n",
       "        vertical-align: middle;\n",
       "    }\n",
       "\n",
       "    .dataframe tbody tr th {\n",
       "        vertical-align: top;\n",
       "    }\n",
       "\n",
       "    .dataframe thead th {\n",
       "        text-align: right;\n",
       "    }\n",
       "</style>\n",
       "<table border=\"1\" class=\"dataframe\">\n",
       "  <thead>\n",
       "    <tr style=\"text-align: right;\">\n",
       "      <th></th>\n",
       "      <th>Unnamed: 0</th>\n",
       "      <th>user_id</th>\n",
       "      <th>movie_id</th>\n",
       "      <th>rating</th>\n",
       "      <th>timestamp</th>\n",
       "    </tr>\n",
       "  </thead>\n",
       "  <tbody>\n",
       "    <tr>\n",
       "      <th>0</th>\n",
       "      <td>0</td>\n",
       "      <td>1</td>\n",
       "      <td>1193</td>\n",
       "      <td>5</td>\n",
       "      <td>978300760</td>\n",
       "    </tr>\n",
       "    <tr>\n",
       "      <th>1</th>\n",
       "      <td>1</td>\n",
       "      <td>1</td>\n",
       "      <td>661</td>\n",
       "      <td>3</td>\n",
       "      <td>978302109</td>\n",
       "    </tr>\n",
       "    <tr>\n",
       "      <th>2</th>\n",
       "      <td>2</td>\n",
       "      <td>1</td>\n",
       "      <td>914</td>\n",
       "      <td>3</td>\n",
       "      <td>978301968</td>\n",
       "    </tr>\n",
       "    <tr>\n",
       "      <th>3</th>\n",
       "      <td>3</td>\n",
       "      <td>1</td>\n",
       "      <td>3408</td>\n",
       "      <td>4</td>\n",
       "      <td>978300275</td>\n",
       "    </tr>\n",
       "    <tr>\n",
       "      <th>4</th>\n",
       "      <td>4</td>\n",
       "      <td>1</td>\n",
       "      <td>2355</td>\n",
       "      <td>5</td>\n",
       "      <td>978824291</td>\n",
       "    </tr>\n",
       "    <tr>\n",
       "      <th>...</th>\n",
       "      <td>...</td>\n",
       "      <td>...</td>\n",
       "      <td>...</td>\n",
       "      <td>...</td>\n",
       "      <td>...</td>\n",
       "    </tr>\n",
       "    <tr>\n",
       "      <th>1000204</th>\n",
       "      <td>1000204</td>\n",
       "      <td>6040</td>\n",
       "      <td>1091</td>\n",
       "      <td>1</td>\n",
       "      <td>956716541</td>\n",
       "    </tr>\n",
       "    <tr>\n",
       "      <th>1000205</th>\n",
       "      <td>1000205</td>\n",
       "      <td>6040</td>\n",
       "      <td>1094</td>\n",
       "      <td>5</td>\n",
       "      <td>956704887</td>\n",
       "    </tr>\n",
       "    <tr>\n",
       "      <th>1000206</th>\n",
       "      <td>1000206</td>\n",
       "      <td>6040</td>\n",
       "      <td>562</td>\n",
       "      <td>5</td>\n",
       "      <td>956704746</td>\n",
       "    </tr>\n",
       "    <tr>\n",
       "      <th>1000207</th>\n",
       "      <td>1000207</td>\n",
       "      <td>6040</td>\n",
       "      <td>1096</td>\n",
       "      <td>4</td>\n",
       "      <td>956715648</td>\n",
       "    </tr>\n",
       "    <tr>\n",
       "      <th>1000208</th>\n",
       "      <td>1000208</td>\n",
       "      <td>6040</td>\n",
       "      <td>1097</td>\n",
       "      <td>4</td>\n",
       "      <td>956715569</td>\n",
       "    </tr>\n",
       "  </tbody>\n",
       "</table>\n",
       "<p>1000209 rows × 5 columns</p>\n",
       "</div>"
      ],
      "text/plain": [
       "         Unnamed: 0  user_id  movie_id  rating  timestamp\n",
       "0                 0        1      1193       5  978300760\n",
       "1                 1        1       661       3  978302109\n",
       "2                 2        1       914       3  978301968\n",
       "3                 3        1      3408       4  978300275\n",
       "4                 4        1      2355       5  978824291\n",
       "...             ...      ...       ...     ...        ...\n",
       "1000204     1000204     6040      1091       1  956716541\n",
       "1000205     1000205     6040      1094       5  956704887\n",
       "1000206     1000206     6040       562       5  956704746\n",
       "1000207     1000207     6040      1096       4  956715648\n",
       "1000208     1000208     6040      1097       4  956715569\n",
       "\n",
       "[1000209 rows x 5 columns]"
      ]
     },
     "execution_count": 223,
     "metadata": {},
     "output_type": "execute_result"
    }
   ],
   "source": [
    "data"
   ]
  },
  {
   "cell_type": "code",
   "execution_count": 224,
   "id": "d6f58067-752f-4339-9cef-7c5ef31e6622",
   "metadata": {},
   "outputs": [],
   "source": [
    "# Identify the Top Rated Movies"
   ]
  },
  {
   "cell_type": "code",
   "execution_count": 256,
   "id": "156e5c33-458e-4a35-ad58-482722523370",
   "metadata": {},
   "outputs": [
    {
     "name": "stdout",
     "output_type": "stream",
     "text": [
      "Top 10 movies based on Audience score :\n",
      "                            Movie_Title  Audience_score\n",
      "74                   A Dangerous Method              89\n",
      "6                                WALL-E              89\n",
      "22                              Tangled              88\n",
      "39                 My Week with Marilyn              84\n",
      "72                  Across the Universe              84\n",
      "43                    Midnight in Paris              84\n",
      "54                           Knocked Up              83\n",
      "12                             Twilight              82\n",
      "31                      P.S. I Love You              82\n",
      "20  The Curious Case of Benjamin Button              81\n"
     ]
    }
   ],
   "source": [
    "# Find top 10 movies based on Audience score %\n",
    "top_audience_rated_movies = df.sort_values(by='Audience_score', ascending=False).head(10)\n",
    "print(\"Top 10 movies based on Audience score :\")\n",
    "print(top_audience_rated_movies[['Movie_Title', 'Audience_score']])"
   ]
  },
  {
   "cell_type": "code",
   "execution_count": 257,
   "id": "b9856976-bbba-46be-95e8-e6fc5a889fdf",
   "metadata": {},
   "outputs": [
    {
     "name": "stdout",
     "output_type": "stream",
     "text": [
      "\n",
      "Top 10 movies based on Rotten Tomatoes :\n",
      "               Movie_Title  Rotten_Tomatoes\n",
      "6                   WALL-E               96\n",
      "69               Enchanted               93\n",
      "43       Midnight in Paris               93\n",
      "54              Knocked Up               91\n",
      "73           A Serious Man               89\n",
      "7                 Waitress               89\n",
      "22                 Tangled               89\n",
      "76    (500) Days of Summer               87\n",
      "57               Jane Eyre               85\n",
      "29  Rachel Getting Married               85\n"
     ]
    }
   ],
   "source": [
    "# Find top 10 movies based on Rotten Tomatoes %\n",
    "top_rotten_tomatoes_rated_movies = df.sort_values(by='Rotten_Tomatoes', ascending=False).head(10)\n",
    "print(\"\\nTop 10 movies based on Rotten Tomatoes :\")\n",
    "print(top_rotten_tomatoes_rated_movies[['Movie_Title', 'Rotten_Tomatoes']])"
   ]
  },
  {
   "cell_type": "code",
   "execution_count": 258,
   "id": "77c5eda3-5d7d-4ef8-bb9d-e1d557968bc1",
   "metadata": {},
   "outputs": [],
   "source": [
    "# Find the average Audience score % and Rotten Tomatoes % for each genre\n",
    "genre_scores = df.groupby('Genre')[['Audience_score', 'Rotten_Tomatoes']].mean().reset_index()"
   ]
  },
  {
   "cell_type": "code",
   "execution_count": 259,
   "id": "396cef64-dde0-4d8d-86b1-e41bce4c52f4",
   "metadata": {},
   "outputs": [
    {
     "name": "stdout",
     "output_type": "stream",
     "text": [
      "\n",
      "Top 5 genres based on average Audience score %:\n",
      "       Genre  Audience_score  Rotten_Tomatoes\n",
      "7    Romence       84.000000        93.000000\n",
      "9    romance       84.000000        54.000000\n",
      "5    Fantasy       81.000000        73.000000\n",
      "8     comedy       81.000000        87.000000\n",
      "1  Animation       76.333333        80.333333\n"
     ]
    }
   ],
   "source": [
    "# Find the top 5 genres based on average Audience score %\n",
    "top_genres_audience = genre_scores.sort_values(by='Audience_score', ascending=False).head(5)\n",
    "print(\"\\nTop 5 genres based on average Audience score %:\")\n",
    "print(top_genres_audience)"
   ]
  },
  {
   "cell_type": "code",
   "execution_count": 260,
   "id": "f2213e77-8569-4aa1-aab4-e798318fbae4",
   "metadata": {},
   "outputs": [
    {
     "name": "stdout",
     "output_type": "stream",
     "text": [
      "\n",
      "Top 5 genres based on average Rotten Tomatoes %:\n",
      "       Genre  Audience_score  Rotten_Tomatoes\n",
      "7    Romence       84.000000        93.000000\n",
      "8     comedy       81.000000        87.000000\n",
      "1  Animation       76.333333        80.333333\n",
      "5    Fantasy       81.000000        73.000000\n",
      "9    romance       84.000000        54.000000\n"
     ]
    }
   ],
   "source": [
    "# Find the top 5 genres based on average Rotten Tomatoes %\n",
    "top_genres_rotten_tomatoes = genre_scores.sort_values(by='Rotten_Tomatoes', ascending=False).head(5)\n",
    "print(\"\\nTop 5 genres based on average Rotten Tomatoes %:\")\n",
    "print(top_genres_rotten_tomatoes)"
   ]
  },
  {
   "cell_type": "code",
   "execution_count": 261,
   "id": "84b70c12-027c-47c7-a40a-7c31ec421bc7",
   "metadata": {},
   "outputs": [],
   "source": [
    "# Analyze rating distributions"
   ]
  },
  {
   "cell_type": "code",
   "execution_count": 262,
   "id": "6375d39d-fb9e-4f39-b5b6-4de049750015",
   "metadata": {},
   "outputs": [
    {
     "name": "stderr",
     "output_type": "stream",
     "text": [
      "C:\\Users\\Prime\\anaconda3\\Lib\\site-packages\\seaborn\\_oldcore.py:1119: FutureWarning: use_inf_as_na option is deprecated and will be removed in a future version. Convert inf values to NaN before operating instead.\n",
      "  with pd.option_context('mode.use_inf_as_na', True):\n"
     ]
    },
    {
     "data": {
      "image/png": "[encoded data removed]",
      "text/plain": [
       "<Figure size 1000x500 with 1 Axes>"
      ]
     },
     "metadata": {},
     "output_type": "display_data"
    }
   ],
   "source": [
    "# Plot the distribution of Rotten Tomatoes %\n",
    "plt.figure(figsize=(10, 5))\n",
    "sns.histplot(df['Rotten_Tomatoes'], bins=20, kde=True)\n",
    "plt.title('Distribution of Rotten Tomatoes Scores')\n",
    "plt.xlabel('Rotten_Tomatoes')\n",
    "plt.ylabel('Frequency')\n",
    "plt.show()"
   ]
  },
  {
   "cell_type": "code",
   "execution_count": 263,
   "id": "9c41f97a-e693-4838-9979-94a6fa036d94",
   "metadata": {},
   "outputs": [
    {
     "name": "stderr",
     "output_type": "stream",
     "text": [
      "C:\\Users\\Prime\\anaconda3\\Lib\\site-packages\\seaborn\\_oldcore.py:1119: FutureWarning: use_inf_as_na option is deprecated and will be removed in a future version. Convert inf values to NaN before operating instead.\n",
      "  with pd.option_context('mode.use_inf_as_na', True):\n"
     ]
    },
    {
     "data": {
      "image/png": "[encoded data removed]",
      "text/plain": [
       "<Figure size 1000x500 with 1 Axes>"
      ]
     },
     "metadata": {},
     "output_type": "display_data"
    }
   ],
   "source": [
    "# Plot the distribution of Audience score %\n",
    "plt.figure(figsize=(10, 5))\n",
    "sns.histplot(df['Audience_score'], bins=20, kde=True)\n",
    "plt.title('Distribution of Audience Scores')\n",
    "plt.xlabel('Audience_score')\n",
    "plt.ylabel('Frequency')\n",
    "plt.show()"
   ]
  },
  {
   "cell_type": "code",
   "execution_count": 264,
   "id": "b50f47a9-d8b4-4513-9583-43a48d8b342d",
   "metadata": {},
   "outputs": [
    {
     "name": "stdout",
     "output_type": "stream",
     "text": [
      "Descriptive Statistics for Audience Scores:\n",
      "count    75.000000\n",
      "mean     63.720000\n",
      "std      13.699043\n",
      "min      35.000000\n",
      "25%      52.000000\n",
      "50%      64.000000\n",
      "75%      75.000000\n",
      "max      89.000000\n",
      "Name: Audience_score, dtype: float64\n",
      "\n",
      "Descriptive Statistics for Rotten Tomatoes Scores:\n",
      "count    75.000000\n",
      "mean     46.493333\n",
      "std      26.412207\n",
      "min       3.000000\n",
      "25%      26.000000\n",
      "50%      43.000000\n",
      "75%      64.500000\n",
      "max      96.000000\n",
      "Name: Rotten_Tomatoes, dtype: float64\n"
     ]
    }
   ],
   "source": [
    "# Calculate and print descriptive statistics\n",
    "audience_stats = df['Audience_score'].describe()\n",
    "rotten_tomatoes_stats = df['Rotten_Tomatoes'].describe()\n",
    "\n",
    "print(\"Descriptive Statistics for Audience Scores:\")\n",
    "print(audience_stats)\n",
    "print(\"\\nDescriptive Statistics for Rotten Tomatoes Scores:\")\n",
    "print(rotten_tomatoes_stats)"
   ]
  },
  {
   "cell_type": "code",
   "execution_count": 265,
   "id": "fba7f3a0-4a8e-4fcb-8631-d5814eb657fb",
   "metadata": {},
   "outputs": [],
   "source": [
    "# Find trends in viewer preferences over time"
   ]
  },
  {
   "cell_type": "code",
   "execution_count": 266,
   "id": "8e6a3bfc-6218-47b2-855a-d03027734c2e",
   "metadata": {},
   "outputs": [],
   "source": [
    "# Convert the 'Year' column to a numeric type if it's not already\n",
    "df['Year'] = pd.to_numeric(df['Year'], errors='coerce')"
   ]
  },
  {
   "cell_type": "code",
   "execution_count": 267,
   "id": "6753c47e-94d8-4b28-84f0-dc7ff02a7afb",
   "metadata": {},
   "outputs": [],
   "source": [
    "# Calculate average audience score and Rotten Tomatoes score per year\n",
    "average_scores_by_year = df.groupby('Year')[['Audience_score', 'Rotten_Tomatoes']].mean().reset_index()"
   ]
  },
  {
   "cell_type": "code",
   "execution_count": 268,
   "id": "c1551ea3-e3d9-41e1-b747-c69aab0f9d22",
   "metadata": {},
   "outputs": [
    {
     "data": {
      "image/png": "[encoded data removed]",
      "text/plain": [
       "<Figure size 1200x600 with 1 Axes>"
      ]
     },
     "metadata": {},
     "output_type": "display_data"
    },
    {
     "name": "stdout",
     "output_type": "stream",
     "text": [
      "Average scores by year:\n",
      "   Year  Audience_score  Rotten_Tomatoes\n",
      "0  2007       66.727273        48.818182\n",
      "1  2008       69.789474        53.789474\n",
      "2  2009       62.750000        44.250000\n",
      "3  2010       55.350000        36.350000\n",
      "4  2011       66.076923        51.538462\n"
     ]
    }
   ],
   "source": [
    "# Plot the trends over time\n",
    "plt.figure(figsize=(12, 6))\n",
    "\n",
    "plt.plot(average_scores_by_year['Year'], average_scores_by_year['Audience_score'], marker='o', label='Audience_score')\n",
    "plt.plot(average_scores_by_year['Year'], average_scores_by_year['Rotten_Tomatoes'], marker='o', label='Rotten_Tomatoes')\n",
    "\n",
    "plt.title('Trends in Viewer Preferences Over Time')\n",
    "plt.xlabel('Year')\n",
    "plt.ylabel('Audience_score')\n",
    "plt.grid(True)\n",
    "plt.show()\n",
    "\n",
    "print(\"Average scores by year:\")\n",
    "print(average_scores_by_year)"
   ]
  },
  {
   "cell_type": "code",
   "execution_count": 269,
   "id": "32805a91-a60a-4066-9b61-66e6db9a1cc9",
   "metadata": {},
   "outputs": [],
   "source": [
    "# Use bar charts to display top-rated movies and genre"
   ]
  },
  {
   "cell_type": "code",
   "execution_count": 270,
   "id": "7a1f370a-eb23-4599-b1ab-5be4fb8179dd",
   "metadata": {},
   "outputs": [
    {
     "data": {
      "image/png": "[encoded data removed]",
      "text/plain": [
       "<Figure size 1200x600 with 1 Axes>"
      ]
     },
     "metadata": {},
     "output_type": "display_data"
    }
   ],
   "source": [
    "# Plot top 10 movies based on Audience score %\n",
    "plt.figure(figsize=(12, 6))\n",
    "sns.barplot(data=top_audience_rated_movies, x='Movie_Title', y='Audience_score')\n",
    "plt.title('Top 10 Movies Based on Audience Score %')\n",
    "plt.xlabel('Movie_Title')\n",
    "plt.ylabel('Audience_score')\n",
    "plt.xticks(rotation = 90)\n",
    "plt.show()"
   ]
  },
  {
   "cell_type": "code",
   "execution_count": 271,
   "id": "7e738989-2b16-45c8-9326-29b95b28f0bc",
   "metadata": {},
   "outputs": [
    {
     "data": {
      "image/png": "[encoded data removed]",
      "text/plain": [
       "<Figure size 1200x600 with 1 Axes>"
      ]
     },
     "metadata": {},
     "output_type": "display_data"
    }
   ],
   "source": [
    "# Plot top 10 movies based on Rotten Tomatoes %\n",
    "plt.figure(figsize=(12, 6))\n",
    "sns.barplot(data=top_rotten_tomatoes_rated_movies, x='Movie_Title', y='Rotten_Tomatoes')\n",
    "plt.title('Top 10 Movies Based on Rotten Tomatoes %')\n",
    "plt.xlabel('Movie_Title')\n",
    "plt.ylabel('Rotten_Tomatoes')\n",
    "plt.xticks(rotation = 90)\n",
    "plt.show()"
   ]
  },
  {
   "cell_type": "code",
   "execution_count": 272,
   "id": "389d963f-058f-4bea-990d-8c2c96834a67",
   "metadata": {},
   "outputs": [
    {
     "data": {
      "image/png": "[encoded data removed]",
      "text/plain": [
       "<Figure size 1200x600 with 1 Axes>"
      ]
     },
     "metadata": {},
     "output_type": "display_data"
    }
   ],
   "source": [
    "# Plot top 5 genres based on average Audience score %\n",
    "plt.figure(figsize=(12, 6))\n",
    "sns.barplot(data=top_genres_audience, x='Genre', y='Audience_score')\n",
    "plt.title('Top 5 Genres Based on Average Audience Score %')\n",
    "plt.xlabel('Genre')\n",
    "plt.ylabel('Audience_score')\n",
    "plt.show()"
   ]
  },
  {
   "cell_type": "code",
   "execution_count": 273,
   "id": "e0a87dde-73e5-4112-864b-6a249c71bccc",
   "metadata": {},
   "outputs": [
    {
     "data": {
      "image/png": "[encoded data removed]",
      "text/plain": [
       "<Figure size 1200x600 with 1 Axes>"
      ]
     },
     "metadata": {},
     "output_type": "display_data"
    }
   ],
   "source": [
    "# Plot top 5 genres based on average Rotten Tomatoes %\n",
    "plt.figure(figsize=(12, 6))\n",
    "sns.barplot(data=top_genres_rotten_tomatoes, x='Genre', y='Rotten_Tomatoes', palette='cividis')\n",
    "plt.title('Top 5 Genres Based on Average Rotten Tomatoes %')\n",
    "plt.xlabel('Genre')\n",
    "plt.ylabel('Rotten_Tomatoes')\n",
    "plt.show()"
   ]
  },
  {
   "cell_type": "code",
   "execution_count": 274,
   "id": "07ff1019-7390-4820-a75d-899a24d89c3b",
   "metadata": {},
   "outputs": [
    {
     "data": {
      "text/plain": [
       "Index(['Movie_Title', 'Genre', 'Lead Studio', 'Audience_score',\n",
       "       'Profitability', 'Rotten_Tomatoes', 'Worldwide Gross', 'Year'],\n",
       "      dtype='object')"
      ]
     },
     "execution_count": 274,
     "metadata": {},
     "output_type": "execute_result"
    }
   ],
   "source": [
    "df.columns"
   ]
  },
  {
   "cell_type": "code",
   "execution_count": 275,
   "id": "3aaf8b8d-d0e4-4e8d-bc3f-cdb961801534",
   "metadata": {},
   "outputs": [
    {
     "data": {
      "image/png": "[encoded data removed]",
      "text/plain": [
       "<Figure size 800x600 with 1 Axes>"
      ]
     },
     "metadata": {},
     "output_type": "display_data"
    }
   ],
   "source": [
    "# Plot the distribution of Audience score % using box plots\n",
    "plt.figure(figsize=(8, 6))\n",
    "sns.boxplot(y=df['Audience_score'], color='blue')\n",
    "plt.title('Box Plot of Audience Scores')\n",
    "plt.ylabel('Audience_score')\n",
    "plt.show()"
   ]
  },
  {
   "cell_type": "code",
   "execution_count": 276,
   "id": "d3ee2c90-5fd9-4b42-b18e-345e8d5d2a46",
   "metadata": {},
   "outputs": [
    {
     "data": {
      "image/png": "[encoded data removed]",
      "text/plain": [
       "<Figure size 800x600 with 1 Axes>"
      ]
     },
     "metadata": {},
     "output_type": "display_data"
    }
   ],
   "source": [
    "# Plot the distribution of Rotten Tomatoes % using box plots\n",
    "plt.figure(figsize=(8, 6))\n",
    "sns.boxplot(y=df['Rotten_Tomatoes'], color='green')\n",
    "plt.title('Box Plot of Rotten Tomatoes Scores')\n",
    "plt.ylabel('Rotten_Tomatoes')\n",
    "plt.show()"
   ]
  },
  {
   "cell_type": "code",
   "execution_count": 277,
   "id": "3cff5f74-04a1-429d-a912-e52fd6766dec",
   "metadata": {},
   "outputs": [],
   "source": [
    "# perform trend analysis to identify changes in viewer preferences over time"
   ]
  },
  {
   "cell_type": "code",
   "execution_count": 278,
   "id": "6d938604-e90e-4ecb-9a3f-fa31e0b84b06",
   "metadata": {},
   "outputs": [],
   "source": [
    "# Convert the 'Year' column to a numeric type if it's not already\n",
    "\n",
    "df['Year'] = pd.to_numeric(df['Year'], errors='coerce')"
   ]
  },
  {
   "cell_type": "code",
   "execution_count": 279,
   "id": "336610a3-6d92-41b8-9f4b-d835b42f4efc",
   "metadata": {},
   "outputs": [],
   "source": [
    "# Calculate average audience score and Rotten Tomatoes score per year\n",
    "\n",
    "average_scores_by_year = df.groupby('Year')[['Audience_score', 'Rotten_Tomatoes']].mean().reset_index()"
   ]
  },
  {
   "cell_type": "code",
   "execution_count": 280,
   "id": "e8223a8d-c228-4556-a3e5-8e666357ebd3",
   "metadata": {},
   "outputs": [
    {
     "data": {
      "image/png": "[encoded data removed]",
      "text/plain": [
       "<Figure size 1200x600 with 1 Axes>"
      ]
     },
     "metadata": {},
     "output_type": "display_data"
    },
    {
     "name": "stdout",
     "output_type": "stream",
     "text": [
      "Average scores by year:\n",
      "   Year  Audience_score  Rotten_Tomatoes\n",
      "0  2007       66.727273        48.818182\n",
      "1  2008       69.789474        53.789474\n",
      "2  2009       62.750000        44.250000\n",
      "3  2010       55.350000        36.350000\n",
      "4  2011       66.076923        51.538462\n"
     ]
    }
   ],
   "source": [
    "# Plot the trends over time\n",
    "\n",
    "plt.figure(figsize=(12, 6))\n",
    "\n",
    "plt.plot(average_scores_by_year['Year'], average_scores_by_year['Audience_score'], marker='o', label='Audience_score')\n",
    "plt.plot(average_scores_by_year['Year'], average_scores_by_year['Rotten_Tomatoes'], marker='o', label='Rotten_Tomatoes')\n",
    "\n",
    "plt.title('Trends in Viewer Preferences Over Time')\n",
    "plt.xlabel('Year')\n",
    "plt.ylabel('Audience_score')\n",
    "plt.grid(True)\n",
    "plt.show()\n",
    "\n",
    "print(\"Average scores by year:\")\n",
    "print(average_scores_by_year)"
   ]
  },
  {
   "cell_type": "code",
   "execution_count": null,
   "id": "2079117a-9800-43ef-a0d0-102e4be778cb",
   "metadata": {},
   "outputs": [],
   "source": []
  }
 ],
 "metadata": {
  "kernelspec": {
   "display_name": "Python 3 (ipykernel)",
   "language": "python",
   "name": "python3"
  },
  "language_info": {
   "codemirror_mode": {
    "name": "ipython",
    "version": 3
   },
   "file_extension": ".py",
   "mimetype": "text/x-python",
   "name": "python",
   "nbconvert_exporter": "python",
   "pygments_lexer": "ipython3",
   "version": "3.11.7"
  }
 },
 "nbformat": 4,
 "nbformat_minor": 5
}
