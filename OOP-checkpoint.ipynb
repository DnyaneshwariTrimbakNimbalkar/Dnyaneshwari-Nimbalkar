{
 "cells": [
  {
   "cell_type": "code",
   "execution_count": 1,
   "id": "8a6bf7cc-813c-476b-9704-0b44b4434d5e",
   "metadata": {},
   "outputs": [],
   "source": [
    "# class creation\n",
    "class Employee():\n",
    "    pass"
   ]
  },
  {
   "cell_type": "code",
   "execution_count": 2,
   "id": "a306f42c-dd6e-4e01-9a47-ceb4e085ec47",
   "metadata": {},
   "outputs": [],
   "source": [
    "emp1 = Employee()   # instance of class\n",
    "emp2 = Employee()   # objects"
   ]
  },
  {
   "cell_type": "code",
   "execution_count": 3,
   "id": "ef174612-cf65-423f-89a8-7a2d24b75497",
   "metadata": {},
   "outputs": [
    {
     "name": "stdout",
     "output_type": "stream",
     "text": [
      "<__main__.Employee object at 0x000001AEABCD5850>\n",
      "<__main__.Employee object at 0x000001AEABCB0590>\n"
     ]
    }
   ],
   "source": [
    "print(emp1)\n",
    "print(emp2)"
   ]
  },
  {
   "cell_type": "code",
   "execution_count": 5,
   "id": "f7913b02-d926-40da-86cb-6171ac82c32d",
   "metadata": {},
   "outputs": [],
   "source": [
    "emp1.first = 'Natasha'     # instance variables\n",
    "emp1.last ='Negi'\n",
    "emp1.salary = '52000'\n",
    "\n",
    "emp2.first = 'Raj'\n",
    "emp2.last = 'Sharma'   # instance variable\n",
    "emp2.salary = '50000'\n"
   ]
  },
  {
   "cell_type": "code",
   "execution_count": 6,
   "id": "33cc6525-2f1d-4651-b5f8-f330ae466321",
   "metadata": {},
   "outputs": [
    {
     "name": "stdout",
     "output_type": "stream",
     "text": [
      "Natasha\n"
     ]
    }
   ],
   "source": [
    "print(emp1.first)"
   ]
  },
  {
   "cell_type": "code",
   "execution_count": 7,
   "id": "06572032-c8c8-4847-bbfb-6f97b2556c6a",
   "metadata": {},
   "outputs": [
    {
     "name": "stdout",
     "output_type": "stream",
     "text": [
      "50000\n"
     ]
    }
   ],
   "source": [
    "print(emp2.salary)"
   ]
  },
  {
   "cell_type": "code",
   "execution_count": 44,
   "id": "619fe827-922b-4e2e-87de-c1d8d62159e9",
   "metadata": {},
   "outputs": [],
   "source": [
    "class Employee():\n",
    "    def __init__(self, first, last, salary):\n",
    "        self.first = first   # emp1.first => 'Ravi'  same as above but here use init keyword\n",
    "        self.last = last\n",
    "        self.salary = salary\n",
    "\n",
    "    def show(self):\n",
    "       print(self.first,'ok')\n",
    "    "
   ]
  },
  {
   "cell_type": "code",
   "execution_count": 45,
   "id": "725d0abd-6e42-47ea-a347-35cfa4bd4084",
   "metadata": {},
   "outputs": [],
   "source": [
    "emp1 = Employee('Ravi', 'Tyagi', 55000)\n",
    "emp2 = Employee('Neha', 'Kulkarni', 54000)"
   ]
  },
  {
   "cell_type": "code",
   "execution_count": 46,
   "id": "363fc566-81a0-4496-949f-b78598c58ae5",
   "metadata": {},
   "outputs": [
    {
     "data": {
      "text/plain": [
       "'Ravi'"
      ]
     },
     "execution_count": 46,
     "metadata": {},
     "output_type": "execute_result"
    }
   ],
   "source": [
    "emp1.first"
   ]
  },
  {
   "cell_type": "code",
   "execution_count": 47,
   "id": "e2eb84a1-87eb-452b-8828-7084596724cd",
   "metadata": {},
   "outputs": [
    {
     "name": "stdout",
     "output_type": "stream",
     "text": [
      "Ravi ok\n"
     ]
    }
   ],
   "source": [
    "emp1.show()"
   ]
  },
  {
   "cell_type": "code",
   "execution_count": 62,
   "id": "dfacdfb7-916f-48cc-be9d-250f2cb830a5",
   "metadata": {},
   "outputs": [],
   "source": [
    "# Encapsulation\n",
    "\n",
    "class Employee1():\n",
    "    def __init__(self, first, last, salary):\n",
    "        self.first = first   \n",
    "        self.last = last\n",
    "        self.__salary = salary   # creating a private variable using double underscore\n",
    "    def display(self):\n",
    "       print('salary is',self.__salary)"
   ]
  },
  {
   "cell_type": "code",
   "execution_count": 63,
   "id": "79d4a6a7-418e-4d14-acfa-385ac730aad5",
   "metadata": {},
   "outputs": [],
   "source": [
    "emp3 = Employee1 ('Akash','Tyagi',30000)\n",
    "emp4 = Employee1 ('Pranav','Patil', 32000)"
   ]
  },
  {
   "cell_type": "code",
   "execution_count": 59,
   "id": "48183000-e870-4e01-8487-f2b468f28018",
   "metadata": {},
   "outputs": [
    {
     "data": {
      "text/plain": [
       "'Akash'"
      ]
     },
     "execution_count": 59,
     "metadata": {},
     "output_type": "execute_result"
    }
   ],
   "source": [
    "emp3.first"
   ]
  },
  {
   "cell_type": "code",
   "execution_count": 64,
   "id": "f28c27c7-b6eb-47a1-ba44-0a0dff78e495",
   "metadata": {},
   "outputs": [
    {
     "name": "stdout",
     "output_type": "stream",
     "text": [
      "salary is 30000\n"
     ]
    }
   ],
   "source": [
    "emp3.display()  # salary is hide and its make private "
   ]
  },
  {
   "cell_type": "code",
   "execution_count": 65,
   "id": "b80ac419-3f24-4f1d-904a-63cc356b8278",
   "metadata": {},
   "outputs": [],
   "source": [
    "## inheritance\n",
    "\n",
    "class Employee2(Employee1):\n",
    "    pass"
   ]
  },
  {
   "cell_type": "code",
   "execution_count": 66,
   "id": "94dc9820-2cc1-4bef-b5d9-cd34f93f7399",
   "metadata": {},
   "outputs": [],
   "source": [
    "emp5 = Employee2('Aniket','Rana', 60000)"
   ]
  },
  {
   "cell_type": "code",
   "execution_count": 67,
   "id": "2669aaea-dedd-44bd-9800-4306505a1a65",
   "metadata": {},
   "outputs": [
    {
     "name": "stdout",
     "output_type": "stream",
     "text": [
      "salary is 60000\n"
     ]
    }
   ],
   "source": [
    "emp5.display()"
   ]
  },
  {
   "cell_type": "code",
   "execution_count": 82,
   "id": "ad59e139-9817-4f4a-9668-3e7c170f758f",
   "metadata": {},
   "outputs": [],
   "source": [
    "'''\n",
    "create a class called person\n",
    "take is name, age, hobby...... (make use of default parameters also)\n",
    "create multiple objects\n",
    "create a method to display\n",
    "'''\n",
    "\n",
    "class person():\n",
    "    def __init__(self,name,age=22):\n",
    "        self.name = name\n",
    "        self.age = age\n",
    "        #self.hobby = hobby\n",
    "    def display1(self):\n",
    "        print('person name=',self.name)\n",
    "        print('person age',self.age)\n",
    "       # print('person hobby',self.hobby)\n",
    "        "
   ]
  },
  {
   "cell_type": "code",
   "execution_count": 83,
   "id": "7844a6df-56ff-4c9f-9b20-5160a26caf38",
   "metadata": {},
   "outputs": [],
   "source": [
    "person1 = person('Ankita','19')\n"
   ]
  },
  {
   "cell_type": "code",
   "execution_count": 84,
   "id": "8277494e-e441-47fc-8dde-c1c2fc723569",
   "metadata": {},
   "outputs": [
    {
     "name": "stdout",
     "output_type": "stream",
     "text": [
      "person name= Ankita\n",
      "person age 19\n"
     ]
    }
   ],
   "source": [
    "person1.display1()"
   ]
  },
  {
   "cell_type": "code",
   "execution_count": 87,
   "id": "ab560b21-3a83-43b1-94d7-5fa76cbae8b6",
   "metadata": {},
   "outputs": [],
   "source": [
    "person2 = person('Nikita','25')\n",
    "person3 = person('Praali','')\n"
   ]
  },
  {
   "cell_type": "code",
   "execution_count": 88,
   "id": "eb8b10b5-2f97-488c-94b7-488cc34e6cb2",
   "metadata": {},
   "outputs": [
    {
     "name": "stdout",
     "output_type": "stream",
     "text": [
      "person name= Nikita\n",
      "person age 25\n"
     ]
    }
   ],
   "source": [
    "person2.display1()"
   ]
  },
  {
   "cell_type": "code",
   "execution_count": 89,
   "id": "11d382ce-6781-4b03-bda5-23e93beacfe3",
   "metadata": {},
   "outputs": [
    {
     "name": "stdout",
     "output_type": "stream",
     "text": [
      "person name= Praali\n",
      "person age \n"
     ]
    }
   ],
   "source": [
    "person3.display1()"
   ]
  },
  {
   "cell_type": "code",
   "execution_count": null,
   "id": "78dbb8b2-db46-4788-897c-39b90c7c0d5d",
   "metadata": {},
   "outputs": [],
   "source": []
  }
 ],
 "metadata": {
  "kernelspec": {
   "display_name": "Python 3 (ipykernel)",
   "language": "python",
   "name": "python3"
  },
  "language_info": {
   "codemirror_mode": {
    "name": "ipython",
    "version": 3
   },
   "file_extension": ".py",
   "mimetype": "text/x-python",
   "name": "python",
   "nbconvert_exporter": "python",
   "pygments_lexer": "ipython3",
   "version": "3.11.7"
  }
 },
 "nbformat": 4,
 "nbformat_minor": 5
}
